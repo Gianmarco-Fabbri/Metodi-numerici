{
 "cells": [
  {
   "cell_type": "code",
   "execution_count": 1,
   "metadata": {},
   "outputs": [],
   "source": [
    "import numpy as np\n",
    "import scipy as sp\n",
    "import scipy.linalg as spl\n",
    "import numpy.linalg as npl\n",
    "from SolveTriangular import Lsolve, Usolve"
   ]
  },
  {
   "cell_type": "code",
   "execution_count": 2,
   "metadata": {},
   "outputs": [],
   "source": [
    "def LUsolve(A,b):\n",
    "    P,L,U=spl.lu(A)\n",
    "    \n",
    "    y,flag=Lsolve(L,P@b)\n",
    "    if flag==0:\n",
    "        x,flag=Usolve(U,y)\n",
    "    else:\n",
    "        return None,None\n",
    "    return x,flag"
   ]
  },
  {
   "cell_type": "code",
   "execution_count": 3,
   "metadata": {},
   "outputs": [
    {
     "name": "stdout",
     "output_type": "stream",
     "text": [
      "errore: matrice non quadrata\n",
      "non applicabile: (None, None)\n"
     ]
    }
   ],
   "source": [
    "A = np.array([[0, 0],[22, 1],[1, 0]])\n",
    "b = np.array([1, 7, -1])\n",
    "\n",
    "x,flag=LUsolve(A,b)\n",
    "print(f'soluzione:\\n{flag, x}' if flag==0 else f'non applicabile: {flag,x}')"
   ]
  },
  {
   "cell_type": "code",
   "execution_count": 4,
   "metadata": {},
   "outputs": [],
   "source": [
    "def Cholesky(A,b):\n",
    "    L=spl.cholesky(A,lower=True)\n",
    "    y,flag=Lsolve(L,b)\n",
    "    if flag == 0:\n",
    "        x,flag=Usolve(L.T,y)\n",
    "    else:\n",
    "        print(f'Metodo non applicabile')\n",
    "        return None,None\n",
    "    return x,flag"
   ]
  },
  {
   "cell_type": "code",
   "execution_count": 5,
   "metadata": {},
   "outputs": [],
   "source": [
    "def QR(A,b):\n",
    "    Q,R=spl.qr(A)\n",
    "    x,flag=Usolve(R,Q.T@b)\n",
    "    if flag != 0:\n",
    "        print(f'Metodo non applcabile')\n",
    "        return None,None\n",
    "    return x,flag"
   ]
  },
  {
   "cell_type": "code",
   "execution_count": null,
   "metadata": {},
   "outputs": [],
   "source": [
    "def solvensis(A,B):\n",
    "    PT,L,U = spl.lu(A)\n",
    "    P = PT.T.copy()\n",
    "    X = np.zeros((3,3))\n",
    "    print(X)\n",
    "    for i in range(0, A.shape[0]):\n",
    "        ris = LUsolve(P, L, U, B[:,i])\n",
    "        A[:,i] = ris[0].ravel()\n",
    "    return A, P, U\n",
    "\n",
    "det = np.prod(np.diag(U)) * ((-1)**s) \n",
    "# s è il numero di di righe scanmbiate nella matrice di permutazione P"
   ]
  },
  {
   "cell_type": "code",
   "execution_count": 1,
   "metadata": {},
   "outputs": [
    {
     "ename": "NameError",
     "evalue": "name 'A' is not defined",
     "output_type": "error",
     "traceback": [
      "\u001b[0;31m---------------------------------------------------------------------------\u001b[0m",
      "\u001b[0;31mNameError\u001b[0m                                 Traceback (most recent call last)",
      "Cell \u001b[0;32mIn[1], line 1\u001b[0m\n\u001b[0;32m----> 1\u001b[0m \u001b[38;5;28mprint\u001b[39m(\u001b[38;5;124mf\u001b[39m\u001b[38;5;124m'\u001b[39m\u001b[38;5;124mDimensioni matrice: \u001b[39m\u001b[38;5;132;01m{\u001b[39;00mA\u001b[38;5;241m.\u001b[39mshape\u001b[38;5;132;01m}\u001b[39;00m\u001b[38;5;124m'\u001b[39m)\n\u001b[1;32m      2\u001b[0m \u001b[38;5;28mprint\u001b[39m(\u001b[38;5;124mf\u001b[39m\u001b[38;5;124m'\u001b[39m\u001b[38;5;124mMatrice ben condizionata? \u001b[39m\u001b[38;5;132;01m{\u001b[39;00mnpl\u001b[38;5;241m.\u001b[39mcond(A)\u001b[38;5;250m \u001b[39m\u001b[38;5;241m<\u001b[39m\u001b[38;5;250m \u001b[39m\u001b[38;5;241m100\u001b[39m\u001b[38;5;132;01m}\u001b[39;00m\u001b[38;5;124m'\u001b[39m)\n\u001b[1;32m      3\u001b[0m \u001b[38;5;28;01mif\u001b[39;00m np\u001b[38;5;241m.\u001b[39mall(A\u001b[38;5;241m==\u001b[39mA\u001b[38;5;241m.\u001b[39mT):\n",
      "\u001b[0;31mNameError\u001b[0m: name 'A' is not defined"
     ]
    }
   ],
   "source": [
    "print(f'Dimensioni matrice: {A.shape}')\n",
    "print(f'Matrice ben condizionata? {npl.cond(A) < 100}')\n",
    "if np.all(A==A.T):\n",
    "    print(f'La matrice è simmetrica')\n",
    "    if np.all(npl.eigvals(A)>0):\n",
    "        print(f'La matrice è definita positiva')\n",
    "else:\n",
    "    print(f'La matrice non è adatta ai metodi di discesa')\n",
    "n,m = A.shape\n",
    "print(f'La matrice è sparsa? {(np.count_nonzero(A)*100)/(n*n) < 33}')"
   ]
  },
  {
   "cell_type": "markdown",
   "metadata": {},
   "source": [
    "toll=10e-12 / 10 / 6\n",
    "maxit=4000"
   ]
  }
 ],
 "metadata": {
  "kernelspec": {
   "display_name": "base",
   "language": "python",
   "name": "python3"
  },
  "language_info": {
   "codemirror_mode": {
    "name": "ipython",
    "version": 3
   },
   "file_extension": ".py",
   "mimetype": "text/x-python",
   "name": "python",
   "nbconvert_exporter": "python",
   "pygments_lexer": "ipython3",
   "version": "3.1.undefined"
  }
 },
 "nbformat": 4,
 "nbformat_minor": 2
}
