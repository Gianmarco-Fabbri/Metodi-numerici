{
 "cells": [
  {
   "cell_type": "code",
   "execution_count": 1,
   "metadata": {},
   "outputs": [],
   "source": [
    "import numpy as np\n",
    "import scipy as sp\n",
    "import scipy.linalg as spl\n",
    "import numpy.linalg as npl\n",
    "from SolveTriangular import Lsolve, Usolve"
   ]
  },
  {
   "cell_type": "code",
   "execution_count": 2,
   "metadata": {},
   "outputs": [],
   "source": [
    "def LUsolve(A,b):\n",
    "    P,L,U=spl.lu(A)\n",
    "    \n",
    "    y,flag=Lsolve(L,P@b)\n",
    "    if flag==0:\n",
    "        x,flag=Usolve(U,y)\n",
    "    else:\n",
    "        return None,None\n",
    "    return x,flag"
   ]
  },
  {
   "cell_type": "code",
   "execution_count": 3,
   "metadata": {},
   "outputs": [
    {
     "name": "stdout",
     "output_type": "stream",
     "text": [
      "errore: matrice non quadrata\n",
      "non applicabile: (None, None)\n"
     ]
    }
   ],
   "source": [
    "A = np.array([[0, 0],[22, 1],[1, 0]])\n",
    "b = np.array([1, 7, -1])\n",
    "\n",
    "x,flag=LUsolve(A,b)\n",
    "print(f'soluzione:\\n{flag, x}' if flag==0 else f'non applicabile: {flag,x}')"
   ]
  },
  {
   "cell_type": "code",
   "execution_count": 4,
   "metadata": {},
   "outputs": [],
   "source": [
    "def Cholesky(A,b):\n",
    "    L=spl.cholesky(A,lower=True)\n",
    "    y,flag=Lsolve(L,b)\n",
    "    if flag == 0:\n",
    "        x,flag=Usolve(L.T,y)\n",
    "    else:\n",
    "        print(f'Metodo non applicabile')\n",
    "        return None,None\n",
    "    return x,flag"
   ]
  },
  {
   "cell_type": "code",
   "execution_count": 5,
   "metadata": {},
   "outputs": [],
   "source": [
    "def QR(A,b):\n",
    "    Q,R=spl.qr(A)\n",
    "    x,flag=Usolve(R,Q.T@b)\n",
    "    if flag != 0:\n",
    "        print(f'Metodo non applcabile')\n",
    "        return None,None\n",
    "    return x,flag"
   ]
  }
 ],
 "metadata": {
  "kernelspec": {
   "display_name": "base",
   "language": "python",
   "name": "python3"
  },
  "language_info": {
   "codemirror_mode": {
    "name": "ipython",
    "version": 3
   },
   "file_extension": ".py",
   "mimetype": "text/x-python",
   "name": "python",
   "nbconvert_exporter": "python",
   "pygments_lexer": "ipython3",
   "version": "3.11.7"
  }
 },
 "nbformat": 4,
 "nbformat_minor": 2
}
