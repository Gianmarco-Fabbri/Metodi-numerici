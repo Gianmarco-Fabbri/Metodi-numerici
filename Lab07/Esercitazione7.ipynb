{
 "cells": [
  {
   "cell_type": "markdown",
   "id": "757049bd-7ac3-461a-9570-f96afa66e26e",
   "metadata": {},
   "source": [
    "## Esercitazione 7 -  9 Aprile 2024"
   ]
  },
  {
   "cell_type": "code",
   "execution_count": 31,
   "id": "9fad15a7-b183-437b-bf98-ab9f30a396a2",
   "metadata": {},
   "outputs": [],
   "source": [
    "import numpy as np\n",
    "def My_NewtonRaphson(fn, JacName, x0, tolx, tolf, NMAX):\n",
    "    matJ = JacName(x0)\n",
    "    if np.linalg.det(matJ) == 0:  #la matrice Jacobiana deve avere determinante != 0\n",
    "        print(\"La mat Jacobiana in x0 è nulla\")\n",
    "        return None, None, None\n",
    "\n",
    "    it = 1\n",
    "    s = np.linalg.solve(matJ, fn(x0)) #soluzione\n",
    "    x1 = x0 + s #calcolo il nuovo vettore di x a partire dal precedente e muovendomi nella direzione della retta tangente ai piani\n",
    "    fx1 = fn(x1)\n",
    "    xM = [np.linalg.norm(s,1)/np.linalg.norm(x1,1)] #calcolo l'errore che c'è tra due iterati successivi\n",
    "    \n",
    "    #condizioni di fine iterazione del metodo\n",
    "    while it < NMAX and np.linalg.norm(fx1,1) >= tolf and np.linalg.norm(s,1) >= tolx*np.linalg.norm(x1,1):\n",
    "        x0 = x1\n",
    "        matJ = JacName(x0)\n",
    "        if np.linalg.det(matJ) == 0:  #la matrice Jacobiana deve avere determinante != 0\n",
    "            print(\"La mat Jacobiana in x0 è nulla\")\n",
    "            return None, None, None\n",
    "        it+=1\n",
    "        s = -np.linalg.solve(matJ, fn(x0))\n",
    "        x1 = x0 + s\n",
    "        fx1 = fn(x1)\n",
    "        xM.append(np.linalg.norm(s,1)/np.linalg.norm(x1,1))\n",
    "\n",
    "    #restituisco la soluzione x1, il numero di iterazioni it, il vettore contenenti gli errori xM\n",
    "    return x1, it, xM"
   ]
  },
  {
   "cell_type": "markdown",
   "id": "e1493074-bb27-43f9-beed-f0e5f08ec40e",
   "metadata": {},
   "source": [
    "Scrivere la function `NewtonRaphson_corde.py`, che implementa il metodo di Newton-Raphson con la variante delle corde\n",
    "per il calcolo della soluzione di un sistema di equazioni non lineari. \n",
    "\n",
    "    Tale function\n",
    "deve assumere come dati in input:\n",
    "- fname: nome della funzione vettoriale di cui calcolare lo zero;\n",
    "- JacName: nome della funzione che calcola lo J acobiano della funzione vettoriale;\n",
    "- X0: vettore contenente le componenti dell'iterato iniziale);\n",
    "- tolx tolleranza  per il test d'arresto sull'incremento\n",
    "        ||X_{k+1}-X_k||/||X_{k}||<= tolx\n",
    "- tolf tolleranza per il test del residuo\n",
    "        ||F(Xk+1)|| <= tolf;\n",
    "- NMAX numero massimo di iterazioni.\n",
    "In output devono essere restituiti il vettore contenente l'approssimazione dello zero x, un vettore contenente l'errore relativo tra due iterati successivi, il numero di iterazioni\n",
    "effettuate, nit."
   ]
  },
  {
   "cell_type": "code",
   "execution_count": 35,
   "id": "d759186e-2ae5-4283-b560-4601baa06a93",
   "metadata": {},
   "outputs": [],
   "source": [
    "import numpy as np\n",
    "def NewtonRaphsonCorde(fn, JacName, x0, tolx, tolf, NMAX):\n",
    "    matJ = JacName(x0)\n",
    "    if np.linalg.det(matJ) == 0:  #la matrice Jacobiana deve avere determinante != 0\n",
    "        print(\"La mat Jacobiana in x0 è nulla\")\n",
    "        return None, None, None\n",
    "\n",
    "    it = 1\n",
    "    s = np.linalg.solve(matJ, fn(x0)) #soluzione\n",
    "    x1 = x0 + s #calcolo il nuovo vettore di x a partire dal precedente e muovendomi nella direzione della retta tangente ai piani\n",
    "    fx1 = fn(x1)\n",
    "    xM = [np.linalg.norm(s,1)/np.linalg.norm(x1,1)] #calcolo l'errore che c'è tra due iterati successivi\n",
    "    \n",
    "    #condizioni di fine iterazione del metodo\n",
    "    while it < NMAX and np.linalg.norm(fx1,1) >= tolf and np.linalg.norm(s,1) >= tolx*np.linalg.norm(x1,1):\n",
    "        x0 = x1\n",
    "        it+=1\n",
    "        s = -np.linalg.solve(matJ, fn(x0))\n",
    "        x1 = x0 + s\n",
    "        fx1 = fn(x1)\n",
    "        xM.append(np.linalg.norm(s,1)/np.linalg.norm(x1,1))\n",
    "\n",
    "    #restituisco la soluzione x1, il numero di iterazioni it, il vettore contenenti gli errori xM\n",
    "    return x1, it, xM"
   ]
  },
  {
   "cell_type": "markdown",
   "id": "98da3252-8113-4fce-a30f-cf57f6f343a7",
   "metadata": {},
   "source": [
    "Scrivere la function `NewtonRaphson_sham.py`, che implementa il metodo di Newton-Raphson con la variante di Shamanskii\n",
    "per il calcolo della soluzione di un sistema di equazioni non lineari. \n",
    "\n",
    "    Tale function\n",
    "deve assumere come dati in input:\n",
    "- fname: nome della funzione vettoriale di cui calcolare lo zero;\n",
    "- JacName: nome della funzione che calcola lo J acobiano della funzione vettoriale;\n",
    "- X0: vettore contenente le componenti dell'iterato iniziale);\n",
    "- tolx tolleranza  per il test d'arresto sull'incremento\n",
    "        ||X_{k+1}-X_k||/||X_{k}||<= tolx\n",
    "- tolf tolleranza per il test del residuo\n",
    "        ||F(Xk+1)|| <= tolf;\n",
    "- NMAX numero massimo di iterazioni.\n",
    "In output devono essere restituiti il vettore contenente l'approssimazione dello zero x, un vettore contenente l'errore relativo tra due iterati successivi, il numero di iterazioni\n",
    "effettuate, nit."
   ]
  },
  {
   "cell_type": "code",
   "execution_count": 36,
   "id": "6c0d3bcb-761c-4343-9dec-74e0350af2fa",
   "metadata": {},
   "outputs": [],
   "source": [
    "import numpy as np\n",
    "def NewtonRaphsonSham(fn, JacName, x0, tolx, tolf, NMAX):\n",
    "    matJ = JacName(x0)\n",
    "    N=4\n",
    "    \n",
    "    if np.linalg.det(matJ) == 0:  #la matrice Jacobiana deve avere determinante != 0\n",
    "        print(\"La mat Jacobiana in x0 è nulla\")\n",
    "        return None, None, None\n",
    "\n",
    "    it = 1\n",
    "    s = np.linalg.solve(matJ, fn(x0)) #soluzione\n",
    "    x1 = x0 + s #calcolo il nuovo vettore di x a partire dal precedente e muovendomi nella direzione della retta tangente ai piani\n",
    "    fx1 = fn(x1)\n",
    "    xM = [np.linalg.norm(s,1)/np.linalg.norm(x1,1)] #calcolo l'errore che c'è tra due iterati successivi\n",
    "    \n",
    "    #condizioni di fine iterazione del metodo\n",
    "    while it < NMAX and np.linalg.norm(fx1,1) >= tolf and np.linalg.norm(s,1) >= tolx*np.linalg.norm(x1,1):\n",
    "        x0 = x1\n",
    "        if it%N==0:\n",
    "            matJ = JacName(x0)\n",
    "            if np.linalg.det(matJ) == 0:  #la matrice Jacobiana deve avere determinante != 0\n",
    "                print(\"La mat Jacobiana in x0 è nulla\")\n",
    "                return None, None, None\n",
    "        it+=1\n",
    "        s = -np.linalg.solve(matJ, fn(x0))\n",
    "        x1 = x0 + s\n",
    "        fx1 = fn(x1)\n",
    "        xM.append(np.linalg.norm(s,1)/np.linalg.norm(x1,1))\n",
    "        \n",
    "    #restituisco la soluzione x1, il numero di iterazioni it, il vettore contenenti gli errori xM\n",
    "    return x1, it, xM"
   ]
  },
  {
   "cell_type": "markdown",
   "id": "ea891a90-3ee3-48d8-b1bb-26bc216b6883",
   "metadata": {},
   "source": [
    "Risolvere i seguenti tre sistemi non lineari:\n",
    "1) \n",
    "2x0-cos(x1)=0\n",
    "\n",
    "sin(x0)+2x1=0\n",
    "\n",
    "2) \n",
    "x0^2+x1^2-9=0\n",
    "\n",
    "x0^2+x1*2-2=0\n",
    "\n",
    "3) \n",
    "4x0^2+x_1^2^=4\n",
    "\n",
    "x0+x1=sin(x0-x1)\n",
    "\n",
    "utilizzando il metodo di Newton Raphson, la variante delle corde e la variante di Shamanskii.\n",
    "Confrontare per ciascun metodo il grafico dell'errore relativo tra due iterati successivi."
   ]
  },
  {
   "cell_type": "code",
   "execution_count": 41,
   "id": "ff71ec68-4472-4331-853c-63a24aa9b4e9",
   "metadata": {},
   "outputs": [
    {
     "name": "stdout",
     "output_type": "stream",
     "text": [
      "[ 0.48640515 -0.2337255 ] \n",
      " 24 \n",
      " [0.578830983327513, 3.726167259145764, 5.2484081508373315, 0.6374802854408317, 0.18385123062868095, 0.0760453640034429, 0.013275025260074087, 0.008831410526426102, 0.00155503011702596, 0.0009741753160508128, 0.00019776296226416514, 0.00010036552889780287, 2.2976381458349403e-05, 9.66733554391594e-06, 2.486029723290033e-06, 8.602505448162263e-07, 2.5516113383602115e-07, 6.858289530541463e-08, 3.216584233833578e-08, 4.989049511474022e-09, 3.7150015638655217e-09, 6.885367620719632e-10, 3.9988705519067936e-10, 8.464070658402156e-11]\n"
     ]
    }
   ],
   "source": [
    "#costruisco tutti i dati che richiedono i metodi di Newton\n",
    "import numpy as np\n",
    "F = lambda x: np.array([2*x[0] - np.cos(x[1]), np.sin(x[0]) + 2*x[1]])\n",
    "jac = lambda x: np.array([[2, np.sin(x[1])], [np.cos(x[0]), 2]])\n",
    "x0 = np.array([-1,1])\n",
    "tolx = 1e-10\n",
    "tolf = 1e-10\n",
    "nmax = 100\n",
    "solN, itN, errN = NewtonRaphsonCorde(F, jac, x0, tolx, tolf, nmax)\n",
    "print(solN, \"\\n\", itN, \"\\n\", errN)"
   ]
  },
  {
   "cell_type": "markdown",
   "id": "c8cee077-b1a8-46a3-9911-f53d67f8c95f",
   "metadata": {},
   "source": [
    "## Esercizio 2\n",
    "Scrivere la function `NewtonRaphson_minimo.py`, che implementa il metodo di Newton-Raphson con la variante delle corde\n",
    "per il calcolo del minimo assoluto (relativo) di una funzione non lineare.\n",
    "\n",
    "    Tale function\n",
    "deve assumere come dati in input:\n",
    "- grad_name: nome della  funzione vettoriale  che contine il gradiente della funzione di cui calcolare lo zero;\n",
    "- Hess_name: nome della funzione che calcola l' Hessiana della funzione vettoriale;\n",
    "- X0: vettore contenente le componenti dell'iterato iniziale);\n",
    "- tolx tolleranza  per il test d'arresto sull'incremento\n",
    "        ||X_{k+1}-X_k||/||X_{k}||<= tolx\n",
    "- tolf tolleranza per il test del residuo\n",
    "        ||F(Xk+1)|| <= tolf;\n",
    "- NMAX numero massimo di iterazioni.\n",
    "In output devono essere restituiti il vettore contenente l'approssimazione dello zero x, un vettore contenente l'errore relativo tra due iterati successivi, il numero di iterazioni\n",
    "effettuate, nit.\n",
    "\n"
   ]
  },
  {
   "cell_type": "code",
   "execution_count": null,
   "id": "9454ce99-9f34-458b-8f9b-52d8b7ad5cb8",
   "metadata": {},
   "outputs": [],
   "source": []
  },
  {
   "cell_type": "markdown",
   "id": "9268b508-7e6e-43ea-8171-6048dcfc9500",
   "metadata": {},
   "source": [
    "## Esercizio 3\n",
    "Scrivere una funzione numpy che calcola la norma infinito e la norma 1 di un vettore ed una matrice  e testarla su vettori e matrici  a propria scelta. Confrontarne i risultati con quelli ottenuti utilizzando la funzione norm di numpy.linalg\n",
    "\n",
    "(Ricorda la formula della norma infinito e della norma 1 di una matrice\n",
    "$||A||_\\infty= \\max_{j=1,n} \\sum_{i} |a_{ij}| $\n",
    "$\\quad ||A||_1= \\max_{i=1,n} \\sum_{j} |a_{ij}| $)"
   ]
  },
  {
   "cell_type": "code",
   "execution_count": null,
   "id": "5debc033-168c-44ac-a47c-363537499300",
   "metadata": {},
   "outputs": [],
   "source": []
  },
  {
   "cell_type": "markdown",
   "id": "2114e405-7039-470b-8d4b-19332b2f0f2b",
   "metadata": {},
   "source": [
    "## Esercizio 4\n",
    "Implementare una funzione che calcola la norma 2 di una  matrice facendo uso della funzione eigvals del pacchetto numpy.linalg, (np.linalg.eigvals(A)). Testarla sulla matrice A=np.array([[4,-1,6],[2,3,-3],[1,-2,9/2]])   e confrontarne i risultati con quelli ottenuti utilizzando la funzione norm di numpy.linalg"
   ]
  },
  {
   "cell_type": "code",
   "execution_count": null,
   "id": "0aece855-8c11-4761-b528-3d15e8342212",
   "metadata": {},
   "outputs": [],
   "source": []
  },
  {
   "cell_type": "code",
   "execution_count": null,
   "id": "d4953031-44be-4528-b9b4-b7fde370a28c",
   "metadata": {},
   "outputs": [],
   "source": []
  }
 ],
 "metadata": {
  "kernelspec": {
   "display_name": "Python 3 (ipykernel)",
   "language": "python",
   "name": "python3"
  },
  "language_info": {
   "codemirror_mode": {
    "name": "ipython",
    "version": 3
   },
   "file_extension": ".py",
   "mimetype": "text/x-python",
   "name": "python",
   "nbconvert_exporter": "python",
   "pygments_lexer": "ipython3",
   "version": "3.11.7"
  }
 },
 "nbformat": 4,
 "nbformat_minor": 5
}
