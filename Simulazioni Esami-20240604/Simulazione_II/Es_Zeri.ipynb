{
 "cells": [
  {
   "cell_type": "markdown",
   "id": "004b0103-bd48-49d2-b8f3-05e5d5502207",
   "metadata": {},
   "source": [
    "## Esercizio 1"
   ]
  },
  {
   "cell_type": "markdown",
   "id": "25a961e6-278c-4723-a1b9-83467e05aceb",
   "metadata": {},
   "source": [
    "Si consideri il polinomio $$L(x)=(1/2) (5x^3-3x)$$ $x \\in [-1,1]$"
   ]
  },
  {
   "cell_type": "markdown",
   "id": "60aa1e63-c68e-4d29-92c5-7a73cdc8e0b2",
   "metadata": {},
   "source": [
    "Si visualizzi il grafico del polinomio in [-1,1]"
   ]
  },
  {
   "cell_type": "code",
   "execution_count": 21,
   "id": "402def04",
   "metadata": {},
   "outputs": [],
   "source": [
    "import SolveTriangular\n",
    "import math\n",
    "import numpy as np\n",
    "import scipy as sp\n",
    "from numpy import sign\n",
    "import matplotlib.pyplot as plt\n",
    "import sympy as sym\n",
    "from sympy.utilities.lambdify import lambdify\n",
    "nmax=400\n",
    "tolx=1e-8"
   ]
  },
  {
   "cell_type": "code",
   "execution_count": 22,
   "id": "67bd61d6",
   "metadata": {},
   "outputs": [
    {
     "data": {
      "image/png": "[encoded data removed]",
      "text/plain": [
       "<Figure size 640x480 with 1 Axes>"
      ]
     },
     "metadata": {},
     "output_type": "display_data"
    }
   ],
   "source": [
    "L = lambda x: (5*x**3 - 3*x) / 2\n",
    "xx=np.linspace(-1,1,100)\n",
    "plt.plot(xx,L(xx),'-r')\n",
    "plt.grid(True)\n",
    "plt.show()"
   ]
  },
  {
   "cell_type": "markdown",
   "id": "7eec16a7-922b-41ab-8b6b-639681e70fad",
   "metadata": {},
   "source": [
    "- Si implementi il metodo di Newton per la determinazione degli zeri di un'equazione non lineare [**Punti 4**]"
   ]
  },
  {
   "cell_type": "code",
   "execution_count": 23,
   "id": "1ddc4757",
   "metadata": {},
   "outputs": [],
   "source": [
    "def newton(fname,fpname,x0,tolx,tolf,nmax):\n",
    "    xk=[]\n",
    "    fx0=fname(x0)\n",
    "    if abs(fpname(x0))<=np.spacing(1):\n",
    "        print(\" derivata prima nulla in x0\")\n",
    "        return None, None,None\n",
    "    \n",
    "    d=fx0/fpname(x0)\n",
    "    x1=x0-d\n",
    "    fx1=fname(x1)\n",
    "    xk.append(x1)\n",
    "    it=1\n",
    "    \n",
    "    while it<nmax and  abs(fx1)>=tolf and abs(d)>=tolx*abs(x1) :\n",
    "       x0=x1\n",
    "       fx0=fname(x0)\n",
    "       if abs(fpname(x0))<=np.spacing(1): #Se la derivata prima e' pià piccola della precisione di macchina stop\n",
    "            print(\" derivata prima nulla in x0\")\n",
    "            return None, None,None\n",
    "       d=fx0/fpname(x0)\n",
    "       x1=x0-d  \n",
    "       fx1=fname(x1)\n",
    "       it=it+1\n",
    "       xk.append(x1)\n",
    "      \n",
    "    if it==nmax:\n",
    "        print('raggiunto massimo numero di iterazioni \\n')\n",
    "        \n",
    "    return x1,it,xk"
   ]
  },
  {
   "cell_type": "markdown",
   "id": "4495e605-8592-466c-9bf0-625ecc4921cc",
   "metadata": {},
   "source": [
    "- Si implementi il metodo di Bisezione per la determinazione degli zeri di un'equazione non lineare [**Punti 4**]"
   ]
  },
  {
   "cell_type": "code",
   "execution_count": 24,
   "id": "86489384",
   "metadata": {},
   "outputs": [],
   "source": [
    "def metodo_bisezione(fname, a, b, tolx, tolf):\n",
    "    fa=fname(a)\n",
    "    fb=fname(b)\n",
    "    if sign(fa)*sign(fb)>=0:\n",
    "        print(\"Non è possibile applicare il metodo di bisezione \\n\")\n",
    "        return None, None,None\n",
    "    \n",
    "    it = 0\n",
    "    v_xk = []\n",
    "    maxit = math.ceil(math.log((b - a) / tolx) / math.log(2))-1\n",
    "     \n",
    "    while abs(b - a) > tolx:\n",
    "       xk = a+(b-a)/2\n",
    "       v_xk.append(xk)\n",
    "       it += 1\n",
    "       fxk=fname(xk)\n",
    "        \n",
    "       if fxk==0:\n",
    "         return xk, it, v_xk\n",
    "       if sign(fa)*sign(fxk)>0:\n",
    "         a = xk\n",
    "         fa=fxk\n",
    "       elif sign(fxk)*sign(fb)>0:\n",
    "         b = xk\n",
    "         fb=fxk\n",
    "           \n",
    "    return xk, it, v_xk"
   ]
  },
  {
   "cell_type": "markdown",
   "id": "7a4eb352-abd8-4ae8-90c9-2a82612a4213",
   "metadata": {},
   "source": [
    "- Si utilizzi il metodo di Newton con iterato iniziale $x_0=1$ per determinare lo zero $x^*$ piu' vicino ad 1. [**Punti 2**]"
   ]
  },
  {
   "cell_type": "code",
   "execution_count": 25,
   "id": "d22733d2",
   "metadata": {},
   "outputs": [
    {
     "name": "stdout",
     "output_type": "stream",
     "text": [
      "0.7745966692414835\n"
     ]
    }
   ],
   "source": [
    "L_diff = lambda x: (15*x**2-3)/2\n",
    "x0=1\n",
    "s,nit,v_s=newton(L,L_diff,x0,tolx, tolx,nmax)\n",
    "print(s)"
   ]
  },
  {
   "cell_type": "markdown",
   "id": "4d0df9dd-b119-4dfd-94b6-991eb1ec0943",
   "metadata": {},
   "source": [
    "Si consideri la funzione $q(x)=L(x)/(x-x^*)$ dove $x^*$ è lo zero calcolato nel punto precedente. Si applichi il metodo di Newton con iterato iniziale $x_0=-0.5$ per calcolare uno zero della funzione $q(x)$  e si verifichi che è anche zero di $L(x)$  [**Punti 2**]"
   ]
  },
  {
   "cell_type": "code",
   "execution_count": 29,
   "id": "47121f54",
   "metadata": {},
   "outputs": [
    {
     "name": "stdout",
     "output_type": "stream",
     "text": [
      "-0.7745966728746388\n",
      "7.0355754612671235e-09\n",
      "-1.0899466662550594e-08\n"
     ]
    }
   ],
   "source": [
    "q = lambda x: L(x)/(x-s)\n",
    "\n",
    "x=sym.symbols('x')\n",
    "q1 =  (5*x**3-3*x)/((x-s)*2)\n",
    "dq=sym.diff(q1,x,1)\n",
    "dqdx=lambdify(x,dq,np)\n",
    "x0=-0.5\n",
    "s_q,nit_q,v_s_q= newton(q,dqdx,x0,tolx,tolx,nmax)\n",
    "print(f'{s_q}\\n{q(s_q)}\\n{L(s_q)}')"
   ]
  },
  {
   "cell_type": "markdown",
   "id": "fd4a767b-5051-4a7d-9ab1-2f99864025e8",
   "metadata": {},
   "source": [
    "Si applichi il metodo di bisezione alle funzioni $q(x)$ ed $L(x)$ definite in [-1,1] e si fornisca una spiegazione teorica dei risultati ottenuti  [**Punti 2**]"
   ]
  },
  {
   "cell_type": "code",
   "execution_count": 30,
   "id": "38779d72",
   "metadata": {},
   "outputs": [
    {
     "name": "stdout",
     "output_type": "stream",
     "text": [
      "Non è possibile applicare il metodo di bisezione \n",
      "\n",
      "soluzione per q:None\n",
      "sol per L(x):0.0\n"
     ]
    }
   ],
   "source": [
    "qQ,itq,vqQ=metodo_bisezione(q,-1,1,tolx,tolx)\n",
    "qL,itl,vql=metodo_bisezione(L,-1,1,tolx,tolx)\n",
    "print(f'soluzione per q:{qQ}\\nsol per L(x):{qL}')"
   ]
  },
  {
   "cell_type": "markdown",
   "id": "e92a6695-bf91-41fb-868f-5ffde2bacf7a",
   "metadata": {},
   "source": [
    "                                                                                                                Punti [14]"
   ]
  }
 ],
 "metadata": {
  "kernelspec": {
   "display_name": "Python 3 (ipykernel)",
   "language": "python",
   "name": "python3"
  },
  "language_info": {
   "codemirror_mode": {
    "name": "ipython",
    "version": 3
   },
   "file_extension": ".py",
   "mimetype": "text/x-python",
   "name": "python",
   "nbconvert_exporter": "python",
   "pygments_lexer": "ipython3",
   "version": "3.11.7"
  }
 },
 "nbformat": 4,
 "nbformat_minor": 5
}
