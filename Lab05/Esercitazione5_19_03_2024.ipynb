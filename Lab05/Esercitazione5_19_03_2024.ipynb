{
 "cells": [
  {
   "cell_type": "markdown",
   "id": "d2903ef7-4c36-4b4f-b8dd-01fa2f35dfc5",
   "metadata": {},
   "source": [
    "## Esercitazione 5  del    19 Marzo 2024 \n"
   ]
  },
  {
   "cell_type": "markdown",
   "id": "a3f2d7cc-2f95-467a-af5e-d9cd0c4fcad2",
   "metadata": {},
   "source": [
    "## Esercizio 1 \n",
    "Si consideri l'equazione quadratica $x^2 + 2px - q = 0 $ con $p=10^5$ e $q=10^{-i}$, i=0,..,10\n",
    "\n",
    "- Si stabilisca se il problema relativo al calcolo della soluzione $x= -p+\\sqrt{p^2+q}$ risulta essere ben\n",
    "      condizionato per tutti i valori di q assegnati;\n",
    "\n",
    "- Si calcoli la soluzione x dell'equazione mediante la formula risolutiva indicata al punto precedente e si dica se l'algoritmo di calcolo risulta numericamente\n",
    "stabile  per i valori di q assegnati\n",
    "\n",
    "- Si individui una forma stabile per il calcolo della soluzione e si verifichi se l'algoritmo di calcolo risulta numericamente stabile per i valori di q assegnati."
   ]
  },
  {
   "cell_type": "code",
   "execution_count": 46,
   "id": "74d3024f-5683-4e49-b2ab-0784383639ce",
   "metadata": {
    "tags": []
   },
   "outputs": [
    {
     "name": "stdout",
     "output_type": "stream",
     "text": [
      "sol= [4.99999442e-06 5.00003807e-07 5.00003807e-08 4.99130692e-09\n",
      " 4.94765118e-10 4.36557457e-11 1.45519152e-11 0.00000000e+00\n",
      " 0.00000000e+00 0.00000000e+00 0.00000000e+00]\n",
      "spacing= 1.9073486328125e-06\n",
      "q= [1.e+00 1.e-01 1.e-02 1.e-03 1.e-04 1.e-05 1.e-06 1.e-07 1.e-08 1.e-09\n",
      " 1.e-10]\n",
      "stabile= [5.e-06 5.e-07 5.e-08 5.e-09 5.e-10 5.e-11 5.e-12 5.e-13 5.e-14 5.e-15\n",
      " 5.e-16]\n"
     ]
    }
   ],
   "source": [
    "import sympy as sym\n",
    "import numpy as np\n",
    "\n",
    "#da rifare punto 1\n",
    "p=10.0**5 #metterci sempre 10.0\n",
    "'''f = lambda i: x**2 + 2*p*x - 10**i\n",
    "fs = f(np.arange(11))\n",
    "print(fs)\n",
    "fq = lambda i: -p + np.sqrt(p**2 + 1/10**i'''\n",
    "#2, da i = 7 il risultato viene troncato a 0 perchè q < spacing\n",
    "#K=|x*f'(x)\\f(x)|\n",
    "q = 10.0**(-np.arange(11))\n",
    "x=-p+np.sqrt(p**2+q)\n",
    "print('sol=',x)\n",
    "print('spacing=',np.spacing(p**2))\n",
    "print('q=',q)\n",
    "#3 forma stabile\n",
    "xRaz=(q)/(np.sqrt(p**2+q)+p)\n",
    "print('stabile=', xRaz)"
   ]
  },
  {
   "cell_type": "markdown",
   "id": "535f46cb-ded4-4f6f-a9b0-87815d033a30",
   "metadata": {},
   "source": [
    "## Esercizio 2\n",
    "Realizzate un codice python che implementa il seguente algoritmo. Si tratta dell'implementazione del  metodo di Archimede per l'approssimazione di pi-greco e genera una successione di valori $p_i$, i=1,n, (n scelto dall'utente) che tende a $\\pi$. Verificare se all'aumentare di n, la successione $p_i$ tende a $\\pi$.\n",
    "\n",
    "b[0]=2\n",
    "\n",
    "s[0]=1\n",
    "\n",
    "for i in range(1,n):\n",
    "\n",
    "    p[i]=b[i-1]*s[i-1]\n",
    "    b[i]=2*b[i-1]\n",
    "     s[i]=math.sqrt((1.0-math.sqrt(1-s[i-1]**2))/2.0)\n",
    "\n",
    "- Visualizzate su un grafico gli elementi della successione p[i] calcolata Calcolate e visualizzate su un grafico l'errore relativo per ogni componente di p[i], - considerando come valore esatto di pigreco il valore math.pi.\n",
    "\n",
    "- Giustificate i risultati alla luce della teoria.\n",
    "\n",
    "- Proponete una versione stabile dell'algoritmo\n",
    "\n",
    "- Calcolate e visualizzate su un grafico l'errore relativo per ogni componente di p[i] prodotta dall'algoritmo stabilizzato, considerando come valore esatto di\n",
    "pigreco il valore math.pi."
   ]
  },
  {
   "cell_type": "code",
   "execution_count": 108,
   "id": "cd466c57-79aa-44c0-803b-59fe85713cc5",
   "metadata": {
    "tags": []
   },
   "outputs": [
    {
     "name": "stdout",
     "output_type": "stream",
     "text": [
      "[0.         2.         2.82842712 3.06146746 3.12144515 3.13654849\n",
      " 3.14033116 3.14127725 3.1415138  3.14157294 3.14158773 3.14159142\n",
      " 3.14159235 3.14159258 3.14159263 3.14159265 3.14159265 3.14159261\n",
      " 3.14159291 3.14159413 3.14159655 3.14159655 3.14167427 3.14182968\n",
      " 3.14245127 3.14245127 3.16227766 3.16227766 3.46410162 4.\n",
      " 0.         0.         0.         0.         0.         0.\n",
      " 0.         0.         0.         0.        ]\n",
      "[1.0, 0.3633802276324186, 0.09968368384289383, 0.02550464159556715, 0.0064131488557940125, 0.001605606964381162, 0.00040154685032525045, 0.00010039578386326544, 2.509951299941639e-05, 6.274913422618814e-06, 1.568729741775773e-06, 3.921848863793808e-07, 9.80326701348349e-08, 2.4524117944757272e-08, 6.406478208483288e-09, 3.8763653359172195e-10, 2.6319700655609444e-09, 1.471039646217161e-08, 8.19170108940481e-08, 4.684265467399403e-07, 1.2414451701855515e-06, 1.2414451701855515e-06, 2.59777256198812e-05, 7.544845100703004e-05, 0.00027330688571593643, 0.00027330688571593643, 0.0065842420897408, 0.0065842420897408, 0.10265779084358408, 0.2732395447351627, 1.0, 1.0, 1.0, 1.0, 1.0, 1.0, 1.0, 1.0, 1.0, 1.0]\n"
     ]
    },
    {
     "data": {
      "image/png": "[encoded data removed]",
      "text/plain": [
       "<Figure size 640x480 with 1 Axes>"
      ]
     },
     "metadata": {},
     "output_type": "display_data"
    }
   ],
   "source": [
    "import math\n",
    "import matplotlib.pyplot as plt\n",
    "n=40\n",
    "b=np.zeros((n,))\n",
    "s=np.zeros((n,))\n",
    "p=np.zeros((n,))\n",
    "ps=np.zeros((n,))\n",
    "b[0]=2\n",
    "s[0]=1\n",
    "#n=int(input(\"scegli:\"))\n",
    "for i in range(1,n):\n",
    "    p[i]=b[i-1]*s[i-1]\n",
    "    b[i]=2*b[i-1]\n",
    "    s[i]=math.sqrt((1.0-math.sqrt(1-s[i-1]**2))/2.0)\n",
    "print(p)\n",
    "e1=[]\n",
    "for e in p :\n",
    "    e1.append(math.fabs(math.pi-e)/math.fabs(math.pi)) \n",
    "print(e1)\n",
    "\n",
    "for i in range(1,n):\n",
    "    ps[i]=b[i-1]*s[i-1]\n",
    "    b[i]=2*b[i-1]\n",
    "    s[i]=(s[i-1]*np.sqrt(2))/2.0\n",
    "e2=[]\n",
    "for e in ps :\n",
    "    e2.append(math.fabs(math.pi-e)/math.fabs(math.pi)) \n",
    "\n",
    "\n",
    "plt.plot(np.arange(n), p, 'r-', np.arange(n), e1, 'g:',np.arange(n), ps, 'b--')\n",
    "plt.show()\n",
    "\n",
    "#stabilizzato -> bisogna cambiare il calcolo di s\n"
   ]
  },
  {
   "cell_type": "markdown",
   "id": "b7609125-16d1-4652-8945-8128d7ba1ca4",
   "metadata": {},
   "source": [
    "## Esercizio 3   \n",
    "Si consideri lo sviluppo in serie dell'esponenziale $e^x=1+x+\\frac{1}{2!}x^2+\\frac{1}{3!}x^3+\\cdots =\\sum_{k=0}^\\infty \\frac{x^k}{k!} $. Si calcoli un'approssimazione dell'esponenziale troncando ad N=100 termini la serie, per valori di x che variano da -10 a 10 incluso. Si calcoli  per ogni valore di x l'errore relativo del valore approssimato rispetto al valore esatto, ottenuto mediante la funzione exp della libreria numpy. Cosa si osserva? Pensare ad un algoritmo più stabile ricordando che $e^{-x}=\\frac{1}{e^{|x|}}$.\n",
    "\n"
   ]
  },
  {
   "cell_type": "code",
   "execution_count": null,
   "id": "2ce45563-c542-4cb5-a1f3-0a96274e9179",
   "metadata": {},
   "outputs": [],
   "source": [
    "n=100\n",
    "s=np.zeros((20,))\n",
    "s1=0\n",
    "k=100\n",
    "fattK = \n",
    "for k in range(n):\n",
    "    xt= x**k\n",
    "    kt = 1*kt\n",
    "    s1=s1+x**k/k"
   ]
  },
  {
   "cell_type": "markdown",
   "id": "0205da67-2ed7-4f56-beb7-33b5e38b8216",
   "metadata": {},
   "source": [
    "## Esercizio 4\n",
    "Calcolare l'approssimazione della derivata prima di f(x) = sin(x) in x = 1\n",
    "mediante l'algoritmo del rapporto incrementale (f(x + h) - f(x))/h per valori decrescenti\n",
    "di h, confrontandolo con il valore fornito dalla funzione di libreria per f'(x)\n",
    "mediante calcolo dell'errore relativo."
   ]
  },
  {
   "cell_type": "code",
   "execution_count": null,
   "id": "70638111-6978-4632-8431-d4c25028772e",
   "metadata": {},
   "outputs": [],
   "source": []
  },
  {
   "cell_type": "markdown",
   "id": "abac6a8f-c24b-4b1b-9a3f-71dc3f44fca5",
   "metadata": {},
   "source": [
    "## Esercizio 5\n",
    "Valutazione di un polinomio in un vettore di punti\n",
    "-   Realizzare una function  che mediante lo schema di Horner  valuti un polinomio in un vettore di punti.\n",
    "-   Realizzare una function  che utilizzi l’algoritmo classico per valutare un polinomio in un vettore di punti.\n",
    "-   Valutare   i seguenti polinomi, con i due metodi implementati nei punti precedenti,  sul vettore di punti specificato  e  rappresentarli graficamente. Confrontarne i tempi \n",
    "\n",
    "         p(x)=x^8-16x^7+112x^6-448x^5+1120x^4-1792x^3+1792x^2-1024x+256  da valutare su vettore di  1000000 punti equidistanti in [1.8,2.2]\n",
    "         p(x)= x^11 –8 x^9 +28 x^6 –7 x^4 +12 x^3 –4 x +1   da valutare su vettore di 1000000  punti in [-5:5]\n",
    "         \n",
    "Cosa conferma questo esperimento?\n"
   ]
  },
  {
   "cell_type": "code",
   "execution_count": null,
   "id": "4d53afe9-20d1-40d7-99b8-9e3bcc678534",
   "metadata": {},
   "outputs": [],
   "source": []
  },
  {
   "cell_type": "markdown",
   "id": "eb1590d6-07fb-4447-995d-cfedd5d3a613",
   "metadata": {},
   "source": [
    "## Esercizio 6\n",
    "Realizzare un codice python che calcola il valore del polinomio p(x)=(x-2)^8 utilizzando le formule\n",
    "\n",
    "    p=x^8-16x^7+112x^6-448x^5+1120x^4-1792x^3+1792x^2-1024x+256;\n",
    "    p(x)=(x-2)^8\n",
    "    e lo schema di Horner\n",
    "\n",
    "e ne realizza il grafico in un vettore di 10000 equidistanti nell’intervallo [1.8,2.2], [1.9, 2.1],  [1.92,2.08], [1.93,2.07], [1.94,2.06] Spiegare il comportamento osservato. Cosa succede al restringersi dell’intervallo intorno al valore 2, punto in cui questo polinomio si annulla?\n"
   ]
  },
  {
   "cell_type": "code",
   "execution_count": null,
   "id": "702cc27a-21c4-4271-b9d6-85a6c92f8d0d",
   "metadata": {},
   "outputs": [],
   "source": []
  },
  {
   "cell_type": "code",
   "execution_count": null,
   "id": "ce88305f-aed1-486d-bea3-9c2bdba8e44c",
   "metadata": {},
   "outputs": [],
   "source": []
  }
 ],
 "metadata": {
  "kernelspec": {
   "display_name": "Python 3 (ipykernel)",
   "language": "python",
   "name": "python3"
  },
  "language_info": {
   "codemirror_mode": {
    "name": "ipython",
    "version": 3
   },
   "file_extension": ".py",
   "mimetype": "text/x-python",
   "name": "python",
   "nbconvert_exporter": "python",
   "pygments_lexer": "ipython3",
   "version": "3.11.3"
  }
 },
 "nbformat": 4,
 "nbformat_minor": 5
}
