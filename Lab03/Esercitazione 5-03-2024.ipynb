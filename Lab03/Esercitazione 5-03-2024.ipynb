{
 "cells": [
  {
   "cell_type": "markdown",
   "id": "cd8d6a57-49d8-4eab-bb0f-107b277ad3d1",
   "metadata": {},
   "source": [
    "## Esercizi sui Numpy array  5 Marzo 2024\n"
   ]
  },
  {
   "cell_type": "markdown",
   "id": "d3445102-1135-4f49-8673-dcba181f883b",
   "metadata": {},
   "source": [
    "**Esercizio 1**\n",
    "\n",
    "Confrontare il tempo di esecuzione dei due metodi per la creazione di un numpy array di 2000000 di elementi equidistanti nell'intervallo [-4,4]:\n",
    "\n",
    "    1) costruzione con utilizzo di np.linspace\n",
    "    \n",
    "    2) Assegnazione manuale dei valori nel ciclo.\n",
    "    "
   ]
  },
  {
   "cell_type": "code",
   "execution_count": 2,
   "id": "45611696-cb3f-47bd-a9ca-d1c554c33214",
   "metadata": {
    "tags": []
   },
   "outputs": [
    {
     "name": "stdout",
     "output_type": "stream",
     "text": [
      "secondi per linspace:  0.006000518798828125 \n",
      "secondi per inserimento manuale:  0.3900020122528076\n"
     ]
    }
   ],
   "source": [
    "import numpy as np\n",
    "import time\n",
    "start = time.time()\n",
    "b = np.linspace(-4, 4, 2000000)\n",
    "end = time.time()\n",
    "t1 = end - start\n",
    "start = time.time()\n",
    "a = []\n",
    "for i in range(-1000000, 1000001):\n",
    "    a.insert(i+1000000, i/1000000 * 4)\n",
    "end = time.time()\n",
    "t2 = end - start\n",
    "print('secondi per linspace: ', t1, '\\nsecondi per inserimento manuale: ', t2)"
   ]
  },
  {
   "cell_type": "markdown",
   "id": "59db5cfc-4e88-42a8-afc7-1d666abd0abc",
   "metadata": {},
   "source": [
    "**Esercizio 2**\n",
    "\n",
    "-     Creare un numpy array 1D (chiamato c) di valori equidistanti tra 7 e 41 con step 2.\n",
    "\n",
    "-      Trasformare l'array c in un numpy array 2d (chiamato c1) con shape (2,9) usando il metodo .reshape((m,n))\n",
    "\n",
    "-       Determinare se c1 e' una copia o una vista dell'originale."
   ]
  },
  {
   "cell_type": "code",
   "execution_count": 3,
   "id": "a8021b2a-8f8d-4cc5-9b8e-428a31e5831d",
   "metadata": {
    "tags": []
   },
   "outputs": [
    {
     "name": "stdout",
     "output_type": "stream",
     "text": [
      "[ 7  9 11 13 15 17 19 21 23 25 27 29 31 33 35 37 39 41] \n",
      " [10, 10]\n"
     ]
    }
   ],
   "source": [
    "c=np.arange(7,43,2)\n",
    "c1 = c.reshape((2,9))\n",
    "c1 = [10, 10]\n",
    "print(c, '\\n', c1)\n",
    "\n",
    "#il metodo reshape restituisce una copia --> non modifica l'originale"
   ]
  },
  {
   "cell_type": "markdown",
   "id": "7b81197a-a950-48ab-8e75-31855ac69d9d",
   "metadata": {},
   "source": [
    "**Esercizio 3**\n",
    "\n",
    "-     Costruire un numpy array 1d, denominato $C$ di valori che variano tra 15 e 41 con step 2\n",
    "\n",
    "-     Trasformarlo in un numpy array 2d con shape(7,2) usando il metodo . resize(7,2)  che lavora in-place,  (cioè  modifica l'array esistente, non è necessario creare una copia). Verificare la shape di C e dire se C è copia o vista?"
   ]
  },
  {
   "cell_type": "code",
   "execution_count": 4,
   "id": "57b7c83c-287b-46b6-b2a5-424f975844cf",
   "metadata": {
    "tags": []
   },
   "outputs": [
    {
     "name": "stdout",
     "output_type": "stream",
     "text": [
      "[15 17 19 21 23 25 27 29 31 33 35 37 39 41] \t (14,)\n",
      "[[15 17]\n",
      " [19 21]\n",
      " [23 25]\n",
      " [27 29]\n",
      " [31 33]\n",
      " [35 37]\n",
      " [39 41]] \t (7, 2)\n"
     ]
    }
   ],
   "source": [
    "C = np.arange(15,43,2)\n",
    "print(C, '\\t', C.shape)\n",
    "C.resize(7,2)\n",
    "print(C, '\\t', C.shape)\n",
    "#C è una vista --> modifica anche l'originale"
   ]
  },
  {
   "cell_type": "markdown",
   "id": "d1adc080-9ce4-404c-ba18-c831f2625214",
   "metadata": {},
   "source": [
    "**Esercizio 4**\n",
    "\n",
    "-      Costruire il numpy array  s  formato da 100 valori equidistanti in  [0,4],\n",
    "\n",
    "-      considerarne il reshape in un array 2d che ha 4 righe con un numero opportuno di colonne"
   ]
  },
  {
   "cell_type": "code",
   "execution_count": 5,
   "id": "e9c733bd-a509-4731-9d3c-78ed776f6572",
   "metadata": {
    "tags": []
   },
   "outputs": [
    {
     "name": "stdout",
     "output_type": "stream",
     "text": [
      "[0.         0.08163265 0.16326531 0.24489796 0.32653061 0.40816327\n",
      " 0.48979592 0.57142857 0.65306122 0.73469388 0.81632653 0.89795918\n",
      " 0.97959184 1.06122449 1.14285714 1.2244898  1.30612245 1.3877551\n",
      " 1.46938776 1.55102041 1.63265306 1.71428571 1.79591837 1.87755102\n",
      " 1.95918367 2.04081633 2.12244898 2.20408163 2.28571429 2.36734694\n",
      " 2.44897959 2.53061224 2.6122449  2.69387755 2.7755102  2.85714286\n",
      " 2.93877551 3.02040816 3.10204082 3.18367347 3.26530612 3.34693878\n",
      " 3.42857143 3.51020408 3.59183673 3.67346939 3.75510204 3.83673469\n",
      " 3.91836735 4.        ]\n",
      "[[0.         0.08163265 0.16326531 0.24489796 0.32653061 0.40816327\n",
      "  0.48979592 0.57142857 0.65306122 0.73469388 0.81632653 0.89795918\n",
      "  0.97959184 1.06122449 1.14285714 1.2244898  1.30612245 1.3877551\n",
      "  1.46938776 1.55102041 1.63265306 1.71428571 1.79591837 1.87755102\n",
      "  1.95918367]\n",
      " [2.04081633 2.12244898 2.20408163 2.28571429 2.36734694 2.44897959\n",
      "  2.53061224 2.6122449  2.69387755 2.7755102  2.85714286 2.93877551\n",
      "  3.02040816 3.10204082 3.18367347 3.26530612 3.34693878 3.42857143\n",
      "  3.51020408 3.59183673 3.67346939 3.75510204 3.83673469 3.91836735\n",
      "  4.        ]]\n"
     ]
    }
   ],
   "source": [
    "s = np.linspace(0,4,50)\n",
    "print(s)\n",
    "s.resize(2,25)\n",
    "print(s)"
   ]
  },
  {
   "cell_type": "markdown",
   "id": "d40f5d7a-4808-4004-b806-b8b75bcaa01b",
   "metadata": {},
   "source": [
    "**Esercizio 5**\n",
    "\n",
    "-     Costruire il numpy array s formato da 100 valori equidistanti in  [0,4]\n",
    "-     considerarne il reshape in un array 2d che ha 4 colonne con un numero opportuno di righe"
   ]
  },
  {
   "cell_type": "code",
   "execution_count": 6,
   "id": "f2ad11d6-8a76-4227-b130-4fc5ab2be2e1",
   "metadata": {
    "tags": []
   },
   "outputs": [
    {
     "name": "stdout",
     "output_type": "stream",
     "text": [
      "[0.         0.04040404 0.08080808 0.12121212 0.16161616 0.2020202\n",
      " 0.24242424 0.28282828 0.32323232 0.36363636 0.4040404  0.44444444\n",
      " 0.48484848 0.52525253 0.56565657 0.60606061 0.64646465 0.68686869\n",
      " 0.72727273 0.76767677 0.80808081 0.84848485 0.88888889 0.92929293\n",
      " 0.96969697 1.01010101 1.05050505 1.09090909 1.13131313 1.17171717\n",
      " 1.21212121 1.25252525 1.29292929 1.33333333 1.37373737 1.41414141\n",
      " 1.45454545 1.49494949 1.53535354 1.57575758 1.61616162 1.65656566\n",
      " 1.6969697  1.73737374 1.77777778 1.81818182 1.85858586 1.8989899\n",
      " 1.93939394 1.97979798 2.02020202 2.06060606 2.1010101  2.14141414\n",
      " 2.18181818 2.22222222 2.26262626 2.3030303  2.34343434 2.38383838\n",
      " 2.42424242 2.46464646 2.50505051 2.54545455 2.58585859 2.62626263\n",
      " 2.66666667 2.70707071 2.74747475 2.78787879 2.82828283 2.86868687\n",
      " 2.90909091 2.94949495 2.98989899 3.03030303 3.07070707 3.11111111\n",
      " 3.15151515 3.19191919 3.23232323 3.27272727 3.31313131 3.35353535\n",
      " 3.39393939 3.43434343 3.47474747 3.51515152 3.55555556 3.5959596\n",
      " 3.63636364 3.67676768 3.71717172 3.75757576 3.7979798  3.83838384\n",
      " 3.87878788 3.91919192 3.95959596 4.        ]\n",
      "[[0.         0.04040404 0.08080808 0.12121212]\n",
      " [0.16161616 0.2020202  0.24242424 0.28282828]\n",
      " [0.32323232 0.36363636 0.4040404  0.44444444]\n",
      " [0.48484848 0.52525253 0.56565657 0.60606061]\n",
      " [0.64646465 0.68686869 0.72727273 0.76767677]\n",
      " [0.80808081 0.84848485 0.88888889 0.92929293]\n",
      " [0.96969697 1.01010101 1.05050505 1.09090909]\n",
      " [1.13131313 1.17171717 1.21212121 1.25252525]\n",
      " [1.29292929 1.33333333 1.37373737 1.41414141]\n",
      " [1.45454545 1.49494949 1.53535354 1.57575758]\n",
      " [1.61616162 1.65656566 1.6969697  1.73737374]\n",
      " [1.77777778 1.81818182 1.85858586 1.8989899 ]\n",
      " [1.93939394 1.97979798 2.02020202 2.06060606]\n",
      " [2.1010101  2.14141414 2.18181818 2.22222222]\n",
      " [2.26262626 2.3030303  2.34343434 2.38383838]\n",
      " [2.42424242 2.46464646 2.50505051 2.54545455]\n",
      " [2.58585859 2.62626263 2.66666667 2.70707071]\n",
      " [2.74747475 2.78787879 2.82828283 2.86868687]\n",
      " [2.90909091 2.94949495 2.98989899 3.03030303]\n",
      " [3.07070707 3.11111111 3.15151515 3.19191919]\n",
      " [3.23232323 3.27272727 3.31313131 3.35353535]\n",
      " [3.39393939 3.43434343 3.47474747 3.51515152]\n",
      " [3.55555556 3.5959596  3.63636364 3.67676768]\n",
      " [3.71717172 3.75757576 3.7979798  3.83838384]\n",
      " [3.87878788 3.91919192 3.95959596 4.        ]]\n"
     ]
    }
   ],
   "source": [
    "s1 = np.linspace(0,4,100)\n",
    "print(s1)\n",
    "s1.resize(25, 4)\n",
    "print(s1)"
   ]
  },
  {
   "cell_type": "markdown",
   "id": "6df0f7e2-8d6d-45e3-b6c8-73ed973b62f0",
   "metadata": {},
   "source": [
    "**Esercizio 6**  \n",
    "\n",
    "-     Scrivere il numpy  array 2d, A, [[10,11,12],[13,14,15],[16,17,18]] \n",
    "-     trasformarlo in un numpy array 1d usando il metodo .ravel()  \n",
    "-     Si tratta di una copia o di una vista?"
   ]
  },
  {
   "cell_type": "code",
   "execution_count": 7,
   "id": "aa9e8339-8524-49a6-be14-32d58f312dc3",
   "metadata": {
    "tags": []
   },
   "outputs": [
    {
     "name": "stdout",
     "output_type": "stream",
     "text": [
      "[[10 11 12]\n",
      " [13 14 15]\n",
      " [16 17 18]] \n",
      "\n",
      "[10 11 12 13 14 15 16 17 18] \n",
      "\n",
      "[[10 11 12]\n",
      " [13 14 15]\n",
      " [16 17 18]] \n",
      "\n"
     ]
    }
   ],
   "source": [
    "A = np.array([[10,11,12],[13,14,15],[16,17,18]])\n",
    "print(A, '\\n')\n",
    "print(A.ravel(), '\\n')\n",
    "print(A, '\\n')\n",
    "#è una copia"
   ]
  },
  {
   "cell_type": "markdown",
   "id": "19559c2a-0ac7-4d4a-b6ff-38e58843b3b6",
   "metadata": {},
   "source": [
    "**Esercizio 7**  \n",
    "\n",
    "-     Scrivere il numpy  array 2d, A, [[10,11,12],[13,14,15],[16,17,18]] \n",
    "-     trasformarlo in un numpy array 1d usando il metodo  .flatten().\n",
    "-     Si tratta di una copia o di una vista?"
   ]
  },
  {
   "cell_type": "code",
   "execution_count": 8,
   "id": "1d2741a1-0a44-4b6b-a276-e6df7bbef443",
   "metadata": {
    "tags": []
   },
   "outputs": [
    {
     "name": "stdout",
     "output_type": "stream",
     "text": [
      "[[10 11 12]\n",
      " [13 14 15]\n",
      " [16 17 18]] \n",
      "\n",
      "[10 11 12 13 14 15 16 17 18] \n",
      "\n",
      "[[10 11 12]\n",
      " [13 14 15]\n",
      " [16 17 18]] \n",
      "\n"
     ]
    }
   ],
   "source": [
    "A1 = np.array([[10,11,12],[13,14,15],[16,17,18]])\n",
    "print(A1, '\\n')\n",
    "print(A1.flatten(), '\\n')\n",
    "print(A1, '\\n')\n",
    "#è una copia -> non modifica i dati"
   ]
  },
  {
   "cell_type": "markdown",
   "id": "c77c2529-d680-42c9-9231-3aca724b1c12",
   "metadata": {},
   "source": [
    "**Esercizio 8** \n",
    "\n",
    "-     creare i due  numpy array 1d\n",
    "        f1= [ 0  1  2  3  4  5  6  7  8  9 10 11 12 13 14 15]  \n",
    "        f2= [16 17 18 19 20 21 22 23 24 25 26 27 28 29 30 31]\n",
    "-     \"vederli\" come matrici  4x4 ed effettuarne il prodotto scalare, memorizzando in f3 la matrice che nasce dal loro prodotto."
   ]
  },
  {
   "cell_type": "code",
   "execution_count": 9,
   "id": "5c55cd84-253a-40a2-85a0-b02cc54ffa26",
   "metadata": {
    "tags": []
   },
   "outputs": [
    {
     "name": "stdout",
     "output_type": "stream",
     "text": [
      "[ 0.  1.  2.  3.  4.  5.  6.  7.  8.  9. 10. 11. 12. 13. 14. 15.] [16. 17. 18. 19. 20. 21. 22. 23. 24. 25. 26. 27. 28. 29. 30. 31.]\n",
      "\n",
      " [[ 0.  1.  2.  3.]\n",
      " [ 4.  5.  6.  7.]\n",
      " [ 8.  9. 10. 11.]\n",
      " [12. 13. 14. 15.]] [[16. 17. 18. 19.]\n",
      " [20. 21. 22. 23.]\n",
      " [24. 25. 26. 27.]\n",
      " [28. 29. 30. 31.]]\n",
      "\n",
      " [[ 152.  158.  164.  170.]\n",
      " [ 504.  526.  548.  570.]\n",
      " [ 856.  894.  932.  970.]\n",
      " [1208. 1262. 1316. 1370.]]\n"
     ]
    }
   ],
   "source": [
    "f1 = np.linspace(0, 15 ,16)  \n",
    "f2 = np.linspace(16, 31, 16)\n",
    "print(f1, f2)\n",
    "f1.resize(4,4)\n",
    "f2.resize(4,4)\n",
    "print('\\n',f1, f2)\n",
    "f3 = np.dot(f1, f2)\n",
    "print('\\n',f3)"
   ]
  },
  {
   "cell_type": "markdown",
   "id": "c9249961-c220-46c0-9e0d-e59dfefe662c",
   "metadata": {},
   "source": [
    "**Esercizio 9**    \n",
    "\n",
    " Costruire:\n",
    "-      Numpy Array A di shape (2,10) : array di valori random campionati da una distribuzione gaussiana con media 0 e varianza 1.\n",
    " -     Numpy array 1D B di shape (20,) formato dagli interi da 0 a 19.\n",
    " \n",
    " \"Vedere\" A come un array 1D di 20 elementi ed effettuare la somma di A+B\n",
    "\n"
   ]
  },
  {
   "cell_type": "code",
   "execution_count": 10,
   "id": "8bcee1a0-8038-4ae1-a331-ef52d46cb3e1",
   "metadata": {
    "tags": []
   },
   "outputs": [
    {
     "name": "stdout",
     "output_type": "stream",
     "text": [
      "[[ 1  2  3  4  5  6  7  8  9 10]\n",
      " [11 12 13 14 15 16 17 18 19 20]] \n",
      " [ 0.  1.  2.  3.  4.  5.  6.  7.  8.  9. 10. 11. 12. 13. 14. 15. 16. 17.\n",
      " 18. 19.] \n",
      " [ 1.  3.  5.  7.  9. 11. 13. 15. 17. 19. 21. 23. 25. 27. 29. 31. 33. 35.\n",
      " 37. 39.]\n"
     ]
    }
   ],
   "source": [
    "A = np.arange(1, 21, 1)\n",
    "A.resize(2,10)\n",
    "B = np.linspace(0,19,20)\n",
    "print(A, '\\n', B, '\\n', A.flatten()+B)"
   ]
  },
  {
   "cell_type": "markdown",
   "id": "7f6cf29e-d14a-46c9-8f35-e66151a9e0a3",
   "metadata": {},
   "source": [
    "**Esercizio 10** \n",
    "-     Creare un array 2D di shape (5,5), denominato B2, con valori tutti uguali a 15.\n",
    "-     Creare una copia B3 di B2. Modificare l'elemento B3[0,0] assegnandogli il valore 150. \n",
    "-     Stampare il numpy array B2 ed il numpy array B3 e verificare che B2, dopo la modifica di B3, è rimasto inalterato"
   ]
  },
  {
   "cell_type": "code",
   "execution_count": 11,
   "id": "2d09d2eb-75e0-423a-84fa-23bd986222b3",
   "metadata": {
    "tags": []
   },
   "outputs": [
    {
     "name": "stdout",
     "output_type": "stream",
     "text": [
      "[[15 15 15 15 15]\n",
      " [15 15 15 15 15]\n",
      " [15 15 15 15 15]\n",
      " [15 15 15 15 15]\n",
      " [15 15 15 15 15]] \n",
      "\n",
      " [[150  15  15  15  15]\n",
      " [ 15  15  15  15  15]\n",
      " [ 15  15  15  15  15]\n",
      " [ 15  15  15  15  15]\n",
      " [ 15  15  15  15  15]]\n"
     ]
    }
   ],
   "source": [
    "B2 = np.full((5,5), 15)\n",
    "B3 = B2.copy()\n",
    "B3[0,0] = 150\n",
    "print(B2, '\\n\\n', B3)"
   ]
  },
  {
   "cell_type": "markdown",
   "id": "af234d9c-98b6-4741-91a8-0c1d14ff8183",
   "metadata": {},
   "source": [
    "\n"
   ]
  },
  {
   "cell_type": "markdown",
   "id": "22c456d1-2897-412c-99c1-e9b19cbab4e7",
   "metadata": {},
   "source": [
    "**Esercizio 11**   \n",
    "\n",
    "-     Costruire  un numpy array 1D, di shape (10,) denominato  f , costituito da 10 valori equidistanti nell'intervallo [0,1]\n",
    "-     aumentarne la dimensionalità, in maniera tale che abbia shape (10,1)"
   ]
  },
  {
   "cell_type": "code",
   "execution_count": 12,
   "id": "c6ba9996-304b-4914-9b16-06aae36b8caf",
   "metadata": {
    "tags": []
   },
   "outputs": [
    {
     "name": "stdout",
     "output_type": "stream",
     "text": [
      "[[0.        ]\n",
      " [0.11111111]\n",
      " [0.22222222]\n",
      " [0.33333333]\n",
      " [0.44444444]\n",
      " [0.55555556]\n",
      " [0.66666667]\n",
      " [0.77777778]\n",
      " [0.88888889]\n",
      " [1.        ]]\n"
     ]
    }
   ],
   "source": [
    "f = np.linspace(0,1,10)\n",
    "f.resize(10,1)\n",
    "print(f)"
   ]
  },
  {
   "cell_type": "markdown",
   "id": "2866db7c-cbcb-431e-bc6a-2645577a65e8",
   "metadata": {},
   "source": [
    "- **Esercizio 12**\n",
    "-     Costruire i seguenti numpy array\n",
    "      a= np.array([14,13,12,11])\n",
    "      b=np.array([[4,3,2,1],[9,10,11,12]])\n",
    "\n",
    "  Costruire il numpy array che si ottiene concatenando a e b per righe\n"
   ]
  },
  {
   "cell_type": "code",
   "execution_count": 13,
   "id": "6565daa2-081a-42af-ac33-7a4352f11597",
   "metadata": {
    "tags": []
   },
   "outputs": [
    {
     "name": "stdout",
     "output_type": "stream",
     "text": [
      "[[14 13 12 11]\n",
      " [ 4  3  2  1]\n",
      " [ 9 10 11 12]]\n"
     ]
    }
   ],
   "source": [
    "a= np.array([14,13,12,11])\n",
    "b=np.array([[4,3,2,1],[9,10,11,12]])\n",
    "print(np.concatenate((a.reshape((1,4)),b), axis=0))"
   ]
  },
  {
   "cell_type": "markdown",
   "id": "d57c7290-27ce-4dce-a8e2-6b89124ed223",
   "metadata": {},
   "source": [
    "- **Esercizio 13**\n",
    "-     Costruire i seguenti numpy array\n",
    "      a= np.array([14,13,12,11])\n",
    "      b=np.array([[4,3,2,1],[9,10,11,12],[4,3,2,1],[9,10,11,12]])\n",
    "\n",
    "-\n",
    "- Costruire il numpy array che si ottiene concatenando a e b per colonne"
   ]
  },
  {
   "cell_type": "code",
   "execution_count": 14,
   "id": "fd1a162d-601d-4184-892e-1f4e4a327006",
   "metadata": {
    "tags": []
   },
   "outputs": [
    {
     "name": "stdout",
     "output_type": "stream",
     "text": [
      "[[14  4  3  2  1]\n",
      " [13  9 10 11 12]\n",
      " [12  4  3  2  1]\n",
      " [11  9 10 11 12]]\n"
     ]
    }
   ],
   "source": [
    "a= np.array([14,13,12,11])\n",
    "b=np.array([[4,3,2,1],[9,10,11,12],[4,3,2,1],[9,10,11,12]])\n",
    "print(np.column_stack((a,b)))"
   ]
  },
  {
   "cell_type": "markdown",
   "id": "7c6eb421-0e1f-445b-b72f-7d2a2451fcb4",
   "metadata": {},
   "source": [
    "**Esercizio 14**\n",
    "\n",
    "Costruire, facendo uso di una sola riga di codice, la matrice A di ordine 10, che ha gli unici elementi diversi da zero, sulla diagonale princiaple, sulla codiagonale inferiore e sulla codiagonale superiore:\n",
    "\n",
    "elementi diagonali $A_{i,i}=10 \\quad$, i=1,20\n",
    "\n",
    "elementi nella codiagonale inferiore $A_{i-1,i}=-12, \\quad$ i=2,..,20, \n",
    "\n",
    "elementi nella codiagonale superiore $A_{i,i+1}=-2 \\quad$ i=1,..,19"
   ]
  },
  {
   "cell_type": "code",
   "execution_count": 15,
   "id": "8821170f-2aeb-40f7-baf4-08f1a6556947",
   "metadata": {
    "tags": []
   },
   "outputs": [
    {
     "name": "stdout",
     "output_type": "stream",
     "text": [
      "[[ 10  -2   0   0   0   0   0   0   0   0]\n",
      " [-12  10  -2   0   0   0   0   0   0   0]\n",
      " [  0 -12  10  -2   0   0   0   0   0   0]\n",
      " [  0   0 -12  10  -2   0   0   0   0   0]\n",
      " [  0   0   0 -12  10  -2   0   0   0   0]\n",
      " [  0   0   0   0 -12  10  -2   0   0   0]\n",
      " [  0   0   0   0   0 -12  10  -2   0   0]\n",
      " [  0   0   0   0   0   0 -12  10  -2   0]\n",
      " [  0   0   0   0   0   0   0 -12  10  -2]\n",
      " [  0   0   0   0   0   0   0   0 -12  10]]\n"
     ]
    }
   ],
   "source": [
    "A = np.diag([10]*10) + np.diag([-12]*9, k=-1) + np.diag([-2]*9, k=1)\n",
    "print(A)"
   ]
  },
  {
   "cell_type": "markdown",
   "id": "bae8a3dc-e71c-4ff4-8062-2d66c377d63f",
   "metadata": {},
   "source": [
    "**Esercizio 15**\n",
    "\n",
    "Costruire la matrice identità, denominata *I*,  della stessa dimensione di *A*"
   ]
  },
  {
   "cell_type": "code",
   "execution_count": 16,
   "id": "95cd3359-68fb-4e92-ae55-9ff6bf3d9290",
   "metadata": {
    "tags": []
   },
   "outputs": [
    {
     "name": "stdout",
     "output_type": "stream",
     "text": [
      "[[323 323 323 323 323 323 323 323 323 323]\n",
      " [323 323 323 323 323 323 323 323 323 323]\n",
      " [323 323 323 323 323 323 323 323 323 323]\n",
      " [323 323 323 323 323 323 323 323 323 323]\n",
      " [323 323 323 323 323 323 323 323 323 323]\n",
      " [323 323 323 323 323 323 323 323 323 323]\n",
      " [323 323 323 323 323 323 323 323 323 323]\n",
      " [323 323 323 323 323 323 323 323 323 323]\n",
      " [323 323 323 323 323 323 323 323 323 323]\n",
      " [323 323 323 323 323 323 323 323 323 323]]\n"
     ]
    }
   ],
   "source": [
    "I = np.full_like(A, 323)\n",
    "print(I)"
   ]
  },
  {
   "cell_type": "markdown",
   "id": "612458f4-d8f6-4015-ae74-042d73cbd9f9",
   "metadata": {},
   "source": [
    "**Esercizio 16**\n",
    "\n",
    "Facendo uso dell'operatore slicing *:* ,costruire la matrice AA selezionando dalla matrice A le righe che vanno dalla 2 alla 9 con step 2 e le colonne che vanno dalla 3 alla 6 con step 2.\n",
    "La matrice AA è una vista o una copia?\n"
   ]
  },
  {
   "cell_type": "code",
   "execution_count": 17,
   "id": "0c51557c-39fd-40cf-b6e1-f50b545d9817",
   "metadata": {
    "tags": []
   },
   "outputs": [
    {
     "name": "stdout",
     "output_type": "stream",
     "text": [
      "[[ -2   0]\n",
      " [-12  -2]\n",
      " [  0 -12]\n",
      " [  0   0]]\n",
      "[[   10    -2     0     0     0     0     0     0     0     0]\n",
      " [  -12    10    -2     0     0     0     0     0     0     0]\n",
      " [    0   -12    10    -2     0     0     0     0     0     0]\n",
      " [    0     0   -12    10    -2     0     0     0     0     0]\n",
      " [    0     0     0   -12    10 50030     0     0     0     0]\n",
      " [    0     0     0     0   -12    10    -2     0     0     0]\n",
      " [    0     0     0     0     0   -12    10    -2     0     0]\n",
      " [    0     0     0     0     0     0   -12    10    -2     0]\n",
      " [    0     0     0     0     0     0     0   -12    10    -2]\n",
      " [    0     0     0     0     0     0     0     0   -12    10]]\n"
     ]
    }
   ],
   "source": [
    "AA = A[2:9:2, 3:6:2]\n",
    "print(AA)\n",
    "AA[1,1] = 50030\n",
    "print(A)\n",
    "#è una vista -> modifica i valori"
   ]
  },
  {
   "cell_type": "markdown",
   "id": "db2a4f82-fe57-4763-bd58-9921869c671c",
   "metadata": {},
   "source": [
    "**Esercizio 17**\n",
    "\n",
    "Facendo uso dell'operatore slicing *:*, costruire la matrice A1 selezionando dalla matrice A le colonne che vanno dalla 1 alla 5 con step 2.  Trasforma la matrice A1 in una copia."
   ]
  },
  {
   "cell_type": "code",
   "execution_count": 18,
   "id": "d53e24b4-e32b-4771-a44c-9a9da85a0986",
   "metadata": {
    "tags": []
   },
   "outputs": [
    {
     "name": "stdout",
     "output_type": "stream",
     "text": [
      "[[   -2     0     0]\n",
      " [   10     0     0]\n",
      " [  -12    -2     0]\n",
      " [    0    10     0]\n",
      " [    0   -12 50030]\n",
      " [    0     0    10]\n",
      " [    0     0   -12]\n",
      " [    0     0     0]\n",
      " [    0     0     0]\n",
      " [    0     0     0]] \n",
      "\n",
      " [[   10    -2     0     0     0     0     0     0     0     0]\n",
      " [  -12    10    -2     0     0     0     0     0     0     0]\n",
      " [    0   -12    10    -2     0     0     0     0     0     0]\n",
      " [    0     0   -12    10    -2     0     0     0     0     0]\n",
      " [    0     0     0   -12    10 50030     0     0     0     0]\n",
      " [    0     0     0     0   -12    10    -2     0     0     0]\n",
      " [    0     0     0     0     0   -12    10    -2     0     0]\n",
      " [    0     0     0     0     0     0   -12    10    -2     0]\n",
      " [    0     0     0     0     0     0     0   -12    10    -2]\n",
      " [    0     0     0     0     0     0     0     0   -12    10]]\n"
     ]
    }
   ],
   "source": [
    "A1 = A[:, 1:6:2]\n",
    "A1 = A1.copy()\n",
    "print(A1, '\\n\\n', A)"
   ]
  },
  {
   "cell_type": "markdown",
   "id": "f5a336bc-5cf9-4400-ae23-4be1f35521de",
   "metadata": {
    "tags": []
   },
   "source": [
    "**Esercizio 18**\n",
    "\n",
    "Costruisci due numpy array A e B di shape (5,5) \n",
    "   - A formata da numeri interi casuali  nell'intervallo [1,20]\n",
    "   - B formata da numeri interi casuali  nell'intervallo [1,6]\n",
    " \n",
    "  Costruisci con una sola riga di codice le seguenti matrici\n",
    "  \n",
    "  C=A+B   dove  $\\quad c_{ij}=a_{ij}+b_{ij} \\quad i=0,..,n, \\quad j=0,...,n$\n",
    "  \n",
    "  D=A-B   dove  $\\quad d_{ij}=a_{ij}-b_{ij} \\quad i=0,..,n, \\quad j=0,...,n$\n",
    "  \n",
    "  E=A*B   dove  $\\quad e_{ij}=a_{ij}*b_{ij} \\quad i=0,..,n, \\quad j=0,...,n$\n",
    "  \n",
    "  F=A\\B   dove  $\\quad f_{ij}=a_{ij}\\b_{ij} \\quad i=0,..,n, \\quad j=0,...,n$"
   ]
  },
  {
   "cell_type": "code",
   "execution_count": 19,
   "id": "c5488d7b-0d76-445c-bceb-6e9afb0c75da",
   "metadata": {
    "tags": []
   },
   "outputs": [
    {
     "name": "stdout",
     "output_type": "stream",
     "text": [
      "[[ 9 16  8 12 13]\n",
      " [14  8 16  6 13]\n",
      " [19  5 14 19  5]\n",
      " [ 2  6 12  2 12]\n",
      " [11 17 12  1  5]] \n",
      "\n",
      " [[2 4 4 1 4]\n",
      " [3 2 4 5 1]\n",
      " [3 2 4 4 1]\n",
      " [5 4 1 3 4]\n",
      " [1 5 3 3 5]]\n",
      "\n",
      " [[11 20 12 13 17]\n",
      " [17 10 20 11 14]\n",
      " [22  7 18 23  6]\n",
      " [ 7 10 13  5 16]\n",
      " [12 22 15  4 10]] \n",
      "\n",
      " [[ 7 12  4 11  9]\n",
      " [11  6 12  1 12]\n",
      " [16  3 10 15  4]\n",
      " [-3  2 11 -1  8]\n",
      " [10 12  9 -2  0]] \n",
      "\n",
      " [[18 64 32 12 52]\n",
      " [42 16 64 30 13]\n",
      " [57 10 56 76  5]\n",
      " [10 24 12  6 48]\n",
      " [11 85 36  3 25]] \n",
      "\n",
      " [[ 4.5         4.          2.         12.          3.25      ]\n",
      " [ 4.66666667  4.          4.          1.2        13.        ]\n",
      " [ 6.33333333  2.5         3.5         4.75        5.        ]\n",
      " [ 0.4         1.5        12.          0.66666667  3.        ]\n",
      " [11.          3.4         4.          0.33333333  1.        ]]\n"
     ]
    }
   ],
   "source": [
    "A = np.random.randint(1, 20, size=(5,5))\n",
    "B = np.random.randint(1, 6, size=(5,5))\n",
    "print(A, '\\n\\n', B)\n",
    "C, D, E, F = A+B, A-B, A*B, A/B\n",
    "print('\\n', C, '\\n\\n', D, '\\n\\n', E, '\\n\\n', F)"
   ]
  },
  {
   "cell_type": "markdown",
   "id": "43fad425-0411-4471-962e-c79247aecb83",
   "metadata": {},
   "source": [
    "**Esercizio 19**\n",
    "\n",
    "Costruisci la matrice ottenuta facendo il prodotto scalare tra le  matrici A e B (righe per colonne)"
   ]
  },
  {
   "cell_type": "code",
   "execution_count": 20,
   "id": "003ad035-e01b-44b6-98ce-a8f9bd956e60",
   "metadata": {
    "tags": []
   },
   "outputs": [
    {
     "data": {
      "text/plain": [
       "array([[163, 197, 183, 196, 173],\n",
       "       [143, 193, 197, 175, 169],\n",
       "       [195, 215, 186, 172, 196],\n",
       "       [ 80, 112, 118, 122,  94],\n",
       "       [119, 131, 176, 162, 102]])"
      ]
     },
     "execution_count": 20,
     "metadata": {},
     "output_type": "execute_result"
    }
   ],
   "source": [
    "np.dot(A,B)"
   ]
  },
  {
   "cell_type": "markdown",
   "id": "e6ae130a-1d6c-429b-ab62-718ff805d9bc",
   "metadata": {},
   "source": [
    "**Esercizio 20**\n",
    "\n",
    "Costruisci l'array ottenuto sommando gli elementi delle righe della matrice B usando l'appropriata funzione di Numpy."
   ]
  },
  {
   "cell_type": "code",
   "execution_count": 21,
   "id": "165ca1fd-09c9-4ea5-bc7a-5f4efe57363e",
   "metadata": {
    "tags": []
   },
   "outputs": [
    {
     "name": "stdout",
     "output_type": "stream",
     "text": [
      "[15 15 14 17 17]\n"
     ]
    }
   ],
   "source": [
    "print(B.sum(axis=1))"
   ]
  },
  {
   "cell_type": "markdown",
   "id": "4cb04c63-c9c6-41a8-8e62-bc4497a4251b",
   "metadata": {},
   "source": [
    "**Esercizio 21** \n",
    "\n",
    "Costruisci l'array ottenuto sommando gli elementi delle colonne della matrice B usando l'appropriata funzione di Numpy."
   ]
  },
  {
   "cell_type": "code",
   "execution_count": 22,
   "id": "2f2357f0-2f8c-48b6-b06f-66164b2abd5f",
   "metadata": {
    "tags": []
   },
   "outputs": [
    {
     "name": "stdout",
     "output_type": "stream",
     "text": [
      "[14 17 16 16 15]\n"
     ]
    }
   ],
   "source": [
    "print(B.sum(axis=0))"
   ]
  },
  {
   "cell_type": "markdown",
   "id": "5715d0db-b005-4256-86a0-4a94a46fdd96",
   "metadata": {},
   "source": [
    "**Esercizio 22** \n",
    "\n",
    "Somma tutti gli elementi di B usando l'appropriata funzione di Numpy."
   ]
  },
  {
   "cell_type": "code",
   "execution_count": 23,
   "id": "abfaff01-ea12-4ce3-a036-0940dd8c22d2",
   "metadata": {
    "tags": []
   },
   "outputs": [
    {
     "name": "stdout",
     "output_type": "stream",
     "text": [
      "78\n"
     ]
    }
   ],
   "source": [
    "print(B.sum())"
   ]
  },
  {
   "cell_type": "markdown",
   "id": "337c76cc-d82b-4bbb-a57c-52080a6aa9cb",
   "metadata": {},
   "source": [
    "**Esercizio 23**\n",
    "\n",
    "Calcolare il minimo degli elementi di B, tra le righe, tra le colonne, il minimo di tutta la matrice B"
   ]
  },
  {
   "cell_type": "code",
   "execution_count": 24,
   "id": "f86fc434-e7fb-4b7c-b260-1b404ac93d80",
   "metadata": {
    "tags": []
   },
   "outputs": [
    {
     "name": "stdout",
     "output_type": "stream",
     "text": [
      "min tra colonne: [1 2 1 1 1] min tra righe: [1 1 1 1 1] min totale: 1\n"
     ]
    }
   ],
   "source": [
    "print('min tra colonne:', B.min(axis=0), 'min tra righe:', B.min(axis=1), 'min totale:', B.min())"
   ]
  },
  {
   "cell_type": "markdown",
   "id": "30bc84d9-f2ff-42aa-95ee-b10d69e50762",
   "metadata": {},
   "source": [
    "**Esercizio 24**\n",
    "\n",
    "Calcola e memorizza in un vettore la somma degli elementi di ogni colonna di $ |B |$. Calcola successivamente il massimo di questo vettore.\n",
    "$maxsc= \\max_{j=1,n} \\sum_{i} |b_{ij}|$"
   ]
  },
  {
   "cell_type": "code",
   "execution_count": 25,
   "id": "9dd3918c-6f90-43aa-8b71-6f3d3fac2157",
   "metadata": {
    "tags": []
   },
   "outputs": [
    {
     "name": "stdout",
     "output_type": "stream",
     "text": [
      "19\n"
     ]
    }
   ],
   "source": [
    "print(np.max(B.sum(axis=0)))"
   ]
  },
  {
   "cell_type": "markdown",
   "id": "7763e180-a6f1-41d3-9af7-4fb92bacd72d",
   "metadata": {},
   "source": [
    "**Esercizio 25**\n",
    "Calcola, memorizzando in un vettore, la somma degli elementi di ogni riga  di $ |B |$. Calcola successivamente il massimo di questo vettore.\n",
    "$maxsr= \\max_{i=1,n} \\sum_{j} |b_{ij}|$"
   ]
  },
  {
   "cell_type": "code",
   "execution_count": 26,
   "id": "4b1ccaa0-8d1d-4c9c-bfc9-8f96a0ef8a0b",
   "metadata": {
    "tags": []
   },
   "outputs": [
    {
     "name": "stdout",
     "output_type": "stream",
     "text": [
      "18\n"
     ]
    }
   ],
   "source": [
    "print(np.max(B.sum(axis=1)))"
   ]
  },
  {
   "cell_type": "markdown",
   "id": "89a136bb-2e23-4fca-9717-d32434f5f5ce",
   "metadata": {},
   "source": [
    "**Esercizio 26**\n",
    "\n",
    "Effettua nella matrice B lo scambio tra la  riga 2 e  la riga 3"
   ]
  },
  {
   "cell_type": "code",
   "execution_count": 27,
   "id": "cb52e951-c9ae-4140-a33f-cacb9b3f3ccc",
   "metadata": {
    "tags": []
   },
   "outputs": [
    {
     "name": "stdout",
     "output_type": "stream",
     "text": [
      "[3 5 2 2 4] \n",
      " [3 1 5 3 5] \n",
      "\n",
      " [[3 1 5 5 1]\n",
      " [3 5 2 2 4]\n",
      " [3 1 5 3 5]\n",
      " [4 5 3 5 1]\n",
      " [3 1 1 4 4]]\n",
      "\n",
      "\n",
      " [[3 1 5 5 1]\n",
      " [3 1 5 3 5]\n",
      " [3 5 2 2 4]\n",
      " [4 5 3 5 1]\n",
      " [3 1 1 4 4]]\n"
     ]
    }
   ],
   "source": [
    "row2, row3 = B[1, :].copy(), B[2, :].copy()\n",
    "print(row2, '\\n', row3, '\\n\\n', B)\n",
    "B[1], B[2] = row3, row2\n",
    "print('\\n\\n', B)"
   ]
  },
  {
   "cell_type": "markdown",
   "id": "5a00eaef-f14c-49f9-b9d1-c8ad90627935",
   "metadata": {},
   "source": [
    "**Esercizio 27**\n",
    "\n",
    "Calcola il valore massimo della colonna 0-esima della matrice B e l'indice di riga a cui appartiene"
   ]
  },
  {
   "cell_type": "code",
   "execution_count": 28,
   "id": "d1b31beb-e2cf-4c64-9d13-2de2f0505948",
   "metadata": {
    "tags": []
   },
   "outputs": [
    {
     "name": "stdout",
     "output_type": "stream",
     "text": [
      "[[3 1 5 5 1]\n",
      " [3 1 5 3 5]\n",
      " [3 5 2 2 4]\n",
      " [4 5 3 5 1]\n",
      " [3 1 1 4 4]] \n",
      "\n",
      "il max della prima colonna è: 4 \n",
      "\n",
      "il max della prima colonna si trova nella riga 3\n"
     ]
    }
   ],
   "source": [
    "print(B,'\\n\\nil max della prima colonna è:', np.max(B[:, 0]), '\\n\\nil max della prima colonna si trova nella riga', np.where(B[:, 0] == np.max(B[:, 0]))[0][0])"
   ]
  },
  {
   "cell_type": "markdown",
   "id": "12be327e-41a9-4700-82b2-f78709585ce3",
   "metadata": {},
   "source": [
    "**Esercizio 28**   \n",
    "\n",
    "\n",
    "Scrivi una funzione border(m,n,visualizza=False) che:\n",
    "-      crea un array 2D di shape(m,n) che abbia tutti valori nulli\n",
    "-     imposta ad 1  i valori degli elementi sul bordo dell'array (prima ed ultima riga, prima e l'ultima colonna)\n",
    "-      Preveda un argomento di default che se impostato a True visualizza la matrice"
   ]
  },
  {
   "cell_type": "code",
   "execution_count": 29,
   "id": "c3fab2a7-6d46-44b9-aac9-dd63a80d349c",
   "metadata": {
    "tags": []
   },
   "outputs": [
    {
     "name": "stdout",
     "output_type": "stream",
     "text": [
      "[[1. 1. 1. 1. 1. 1. 1. 1. 1. 1.]\n",
      " [1. 0. 0. 0. 0. 0. 0. 0. 0. 1.]\n",
      " [1. 0. 0. 0. 0. 0. 0. 0. 0. 1.]\n",
      " [1. 0. 0. 0. 0. 0. 0. 0. 0. 1.]\n",
      " [1. 0. 0. 0. 0. 0. 0. 0. 0. 1.]\n",
      " [1. 0. 0. 0. 0. 0. 0. 0. 0. 1.]\n",
      " [1. 0. 0. 0. 0. 0. 0. 0. 0. 1.]\n",
      " [1. 0. 0. 0. 0. 0. 0. 0. 0. 1.]\n",
      " [1. 0. 0. 0. 0. 0. 0. 0. 0. 1.]\n",
      " [1. 1. 1. 1. 1. 1. 1. 1. 1. 1.]]\n"
     ]
    }
   ],
   "source": [
    "def border(m, n, visualizza=False):\n",
    "    mat = np.zeros((m,n))\n",
    "    mat[0, :], mat[:, 0], mat[m-1, :], mat[:, n-1] = 1,1,1,1\n",
    "    if visualizza:\n",
    "        print(mat)\n",
    "        \n",
    "border(10, 10, True)"
   ]
  },
  {
   "cell_type": "markdown",
   "id": "20e88028-91cf-4f99-90b9-5d2f8148b3a9",
   "metadata": {},
   "source": [
    "**Esercizio 29**\n",
    "\n",
    "Scrivi una funzione `visualizza(f,a,b)`che prende in input una lambda function f, gli estremi dell'intervallo [a,b] su cui è definita e la visualizzi in una finestra grafica\n",
    "\n",
    "Chiama la funzione passandogli la funzione f(x)=sin(2*$\\pi$*x), [a,b]=[0,2*$\\pi$]"
   ]
  },
  {
   "cell_type": "code",
   "execution_count": 39,
   "id": "f2520a13-ef2a-4f86-ba3e-89303c352129",
   "metadata": {
    "tags": []
   },
   "outputs": [
    {
     "data": {
      "image/png": "[encoded data removed]",
      "text/plain": [
       "<Figure size 640x480 with 1 Axes>"
      ]
     },
     "metadata": {},
     "output_type": "display_data"
    }
   ],
   "source": [
    "import numpy as np\n",
    "import matplotlib.pyplot as plt\n",
    "\n",
    "def visualizza(f,a,b):\n",
    "    x = np.linspace(a,b, 10000)\n",
    "    plt.plot(x, f(x), '-', color='b')\n",
    "    plt.grid(True)\n",
    "    plt.legend(['sin(2xpi)'])\n",
    "    plt.show()\n",
    "\n",
    "f = lambda x: (np.sin(2 * x * np.pi)) \n",
    "visualizza(f, 0, 2 * np.pi)"
   ]
  },
  {
   "cell_type": "markdown",
   "id": "c4e0b8d0-b590-4554-9954-7333715b3c63",
   "metadata": {},
   "source": [
    "**Esercizio 30**\n",
    "\n",
    "Scrivi una funzione `visualizza2(f,a,b,f2,a2,b2)`che prende in input una lambda function f e gli estremi dell'intervallo [a,b]  su cui è definita, una lambda function f2 e gli estremi dell'intervallo su cui è definita [a2,b2] e le visualizzi sulla stessa finestra grafica.\n",
    "\n",
    "Chiama la funzione passandogli  una funzione f(x) quadratica ed una funzione f2(x) exponenziale ed [a,b]=[0,2]"
   ]
  },
  {
   "cell_type": "code",
   "execution_count": 38,
   "id": "e67b133d-b095-44ad-a8c5-bcda330bacca",
   "metadata": {},
   "outputs": [
    {
     "data": {
      "image/png": "[encoded data removed]",
      "text/plain": [
       "<Figure size 640x480 with 1 Axes>"
      ]
     },
     "metadata": {},
     "output_type": "display_data"
    }
   ],
   "source": [
    "import numpy as np\n",
    "import matplotlib.pyplot as plt\n",
    "\n",
    "def visualizza2(f1,a,b,f2,a2,b2):\n",
    "    x1 = np.linspace(a,b,100) #a=a2, b=b2 quindi basta un vettore\n",
    "    plt.plot(x1, f1(x1), color='g')\n",
    "    plt.plot(x1, f2(x1), color='r')\n",
    "    plt.legend(['quadratic', 'esponenzial'])\n",
    "    plt.xlabel('X')\n",
    "    plt.ylabel('Y')\n",
    "    plt.grid(True)\n",
    "    plt.show()\n",
    "f1 = lambda x: x**2\n",
    "f2 = lambda x: np.exp(x-1)\n",
    "visualizza2(f1, 0, 4, f2, 0, 4)"
   ]
  },
  {
   "cell_type": "code",
   "execution_count": null,
   "id": "097d1003-29e2-4288-839c-c22cfd18fca7",
   "metadata": {},
   "outputs": [],
   "source": []
  }
 ],
 "metadata": {
  "kernelspec": {
   "display_name": "Python 3 (ipykernel)",
   "language": "python",
   "name": "python3"
  },
  "language_info": {
   "codemirror_mode": {
    "name": "ipython",
    "version": 3
   },
   "file_extension": ".py",
   "mimetype": "text/x-python",
   "name": "python",
   "nbconvert_exporter": "python",
   "pygments_lexer": "ipython3",
   "version": "3.11.5"
  }
 },
 "nbformat": 4,
 "nbformat_minor": 5
}
