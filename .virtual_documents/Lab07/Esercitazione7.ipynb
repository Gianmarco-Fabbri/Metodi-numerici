


import numpy as np
def My_NewtonRaphson(fn, JacName, x0, tolx, tolf, NMAX):
    matJ = JacName(x0)
    if np.linalg.det(matJ) == 0:  #la matrice Jacobiana deve avere determinante != 0
        print("La mat Jacobiana in x0 è nulla")
        return None, None, None

    it = 1
    s = np.linalg.solve(matJ, fn(x0)) #soluzione
    x1 = x0 + s #calcolo il nuovo vettore di x a partire dal precedente e muovendomi nella direzione della retta tangente ai piani
    fx1 = fn(x1)
    xM = [np.linalg.norm(s,1)/np.linalg.norm(x1,1)] #calcolo l'errore che c'è tra due iterati successivi
    
    #condizioni di fine iterazione del metodo
    while it < NMAX and np.linalg.norm(fx1,1) >= tolf and np.linalg.norm(s,1) >= tolx*np.linalg.norm(x1,1):
        x0 = x1
        matJ = JacName(x0)
        if np.linalg.det(matJ) == 0:  #la matrice Jacobiana deve avere determinante != 0
            print("La mat Jacobiana in x0 è nulla")
            return None, None, None
        it+=1
        s = -np.linalg.solve(matJ, fn(x0))
        x1 = x0 + s
        fx1 = fn(x1)
        xM.append(np.linalg.norm(s,1)/np.linalg.norm(x1,1))

    #restituisco la soluzione x1, il numero di iterazioni it, il vettore contenenti gli errori xM
    return x1, it, xM





import numpy as np
def NewtonRaphsonCorde(fn, JacName, x0, tolx, tolf, NMAX):
    matJ = JacName(x0)
    if np.linalg.det(matJ) == 0:  #la matrice Jacobiana deve avere determinante != 0
        print("La mat Jacobiana in x0 è nulla")
        return None, None, None

    it = 1
    s = np.linalg.solve(matJ, fn(x0)) #soluzione
    x1 = x0 + s #calcolo il nuovo vettore di x a partire dal precedente e muovendomi nella direzione della retta tangente ai piani
    fx1 = fn(x1)
    xM = [np.linalg.norm(s,1)/np.linalg.norm(x1,1)] #calcolo l'errore che c'è tra due iterati successivi
    
    #condizioni di fine iterazione del metodo
    while it < NMAX and np.linalg.norm(fx1,1) >= tolf and np.linalg.norm(s,1) >= tolx*np.linalg.norm(x1,1):
        x0 = x1
        it+=1
        s = -np.linalg.solve(matJ, fn(x0))
        x1 = x0 + s
        fx1 = fn(x1)
        xM.append(np.linalg.norm(s,1)/np.linalg.norm(x1,1))

    #restituisco la soluzione x1, il numero di iterazioni it, il vettore contenenti gli errori xM
    return x1, it, xM





import numpy as np
def NewtonRaphsonSham(fn, JacName, x0, tolx, tolf, NMAX):
    matJ = JacName(x0)
    N=4
    
    if np.linalg.det(matJ) == 0:  #la matrice Jacobiana deve avere determinante != 0
        print("La mat Jacobiana in x0 è nulla")
        return None, None, None

    it = 1
    s = np.linalg.solve(matJ, fn(x0)) #soluzione
    x1 = x0 + s #calcolo il nuovo vettore di x a partire dal precedente e muovendomi nella direzione della retta tangente ai piani
    fx1 = fn(x1)
    xM = [np.linalg.norm(s,1)/np.linalg.norm(x1,1)] #calcolo l'errore che c'è tra due iterati successivi
    
    #condizioni di fine iterazione del metodo
    while it < NMAX and np.linalg.norm(fx1,1) >= tolf and np.linalg.norm(s,1) >= tolx*np.linalg.norm(x1,1):
        x0 = x1
        if it%N==0:
            matJ = JacName(x0)
            if np.linalg.det(matJ) == 0:  #la matrice Jacobiana deve avere determinante != 0
                print("La mat Jacobiana in x0 è nulla")
                return None, None, None
        it+=1
        s = -np.linalg.solve(matJ, fn(x0))
        x1 = x0 + s
        fx1 = fn(x1)
        xM.append(np.linalg.norm(s,1)/np.linalg.norm(x1,1))
        
    #restituisco la soluzione x1, il numero di iterazioni it, il vettore contenenti gli errori xM
    return x1, it, xM





#costruisco tutti i dati che richiedono i metodi di Newton
import numpy as np
F = lambda x: np.array([2*x[0] - np.cos(x[1]), np.sin(x[0]) + 2*x[1]])
jac = lambda x: np.array([[2, np.sin(x[1])], [np.cos(x[0]), 2]])
x0 = np.array([-1,1])
tolx = 1e-10
tolf = 1e-10
nmax = 100
solN, itN, errN = NewtonRaphsonCorde(F, jac, x0, tolx, tolf, nmax)
print(solN, "\n", itN, "\n", errN)





















