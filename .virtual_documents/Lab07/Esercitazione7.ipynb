


import numpy as np
def My_NewtonRaphson(fn, JacName, x0, tolx, tolf, NMAX):
    matJ = JacName(x0)
    if np.linalg.det(matJ) == 0:  #la matrice Jacobiana deve avere determinante != 0
        print("La mat Jacobiana in x0 è nulla")
        return None, None, None

    it = 1
    s = np.linalg.solve(matJ, fn(x0)) #soluzione
    x1 = x0 + s #calcolo il nuovo vettore di x a partire dal precedente e muovendomi nella direzione della retta tangente ai piani
    fx1 = fn(x1)
    xM = [np.linalg.norm(s,1)/np.linalg.norm(x1,1)] #calcolo l'errore che c'è tra due iterati successivi
    
    #condizioni di fine iterazione del metodo
    while it < NMAX and np.linalg.norm(fx1,1) >= tolf and np.linalg.norm(s,1) >= tolx*np.linalg.norm(x1,1):
        x0 = x1
        matJ = JacName(x0)
        if np.linalg.det(matJ) == 0:  #la matrice Jacobiana deve avere determinante != 0
            print("La mat Jacobiana in x0 è nulla")
            return None, None, None
        it+=1
        s = -np.linalg.solve(matJ, fn(x0))
        x1 = x0 + s
        fx1 = fn(x1)
        xM.append(np.linalg.norm(s,1)/np.linalg.norm(x1,1))

    #restituisco la soluzione x1, il numero di iterazioni it, il vettore contenenti gli errori xM
    return x1, it, xM





import numpy as np
def NewtonRaphsonCorde(fn, JacName, x0, tolx, tolf, NMAX):
    matJ = JacName(x0)
    if np.linalg.det(matJ) == 0:  #la matrice Jacobiana deve avere determinante != 0
        print("\nLa mat Jacobiana in x0 è nulla")
        return None, None, None

    it = 1
    s = np.linalg.solve(matJ, fn(x0)) #soluzione
    x1 = x0 + s #calcolo il nuovo vettore di x a partire dal precedente e muovendomi nella direzione della retta tangente ai piani
    fx1 = fn(x1)
    xM = [np.linalg.norm(s,1)/np.linalg.norm(x1,1)] #calcolo l'errore che c'è tra due iterati successivi
    
    #condizioni di fine iterazione del metodo
    while it < NMAX and np.linalg.norm(fx1,1) >= tolf and np.linalg.norm(s,1) >= tolx*np.linalg.norm(x1,1):
        x0 = x1
        it+=1
        s = -np.linalg.solve(matJ, fn(x0))
        x1 = x0 + s
        fx1 = fn(x1)
        xM.append(np.linalg.norm(s,1)/np.linalg.norm(x1,1))

    #restituisco la soluzione x1, il numero di iterazioni it, il vettore contenenti gli errori xM
    return x1, it, xM





import numpy as np
def NewtonRaphsonSham(fn, JacName, x0, tolx, tolf, NMAX):
    matJ = JacName(x0)
    N=4
    
    if np.linalg.det(matJ) == 0:  #la matrice Jacobiana deve avere determinante != 0
        print("\nLa mat Jacobiana in x0 è nulla")
        return None, None, None

    it = 1
    s = np.linalg.solve(matJ, fn(x0)) #soluzione
    x1 = x0 + s #calcolo il nuovo vettore di x a partire dal precedente e muovendomi nella direzione della retta tangente ai piani
    fx1 = fn(x1)
    xM = [np.linalg.norm(s,1)/np.linalg.norm(x1,1)] #calcolo l'errore che c'è tra due iterati successivi
    
    #condizioni di fine iterazione del metodo
    while it < NMAX and np.linalg.norm(fx1,1) >= tolf and np.linalg.norm(s,1) >= tolx*np.linalg.norm(x1,1):
        x0 = x1
        if it%N==0:
            matJ = JacName(x0)
            if np.linalg.det(matJ) == 0:  #la matrice Jacobiana deve avere determinante != 0
                print("\nLa mat Jacobiana in x0 è nulla")
                return None, None, None
        it+=1
        s = -np.linalg.solve(matJ, fn(x0))
        x1 = x0 + s
        fx1 = fn(x1)
        xM.append(np.linalg.norm(s,1)/np.linalg.norm(x1,1))
        
    #restituisco la soluzione x1, il numero di iterazioni it, il vettore contenenti gli errori xM
    return x1, it, xM





#costruisco tutti i dati che richiedono i metodi di Newton
import numpy as np
F1 = lambda x: np.array([2*x[0] - np.cos(x[1]), np.sin(x[0]) + 2*x[1]])
jac1 = lambda x: np.array([[2, np.sin(x[1])], [np.cos(x[0]), 2]])
x0 = np.array([-1,1])
tolx = 1e-10
tolf = 1e-10
nmax = 100
solN_c, itN_c, errN_c = NewtonRaphsonCorde(F1, jac1, x0, tolx, tolf, nmax)
solN, itN, errN = My_NewtonRaphson(F1, jac1, x0, tolx, tolf, nmax)
solN_s, itN_s, errN_s = NewtonRaphsonSham(F1, jac1, x0, tolx, tolf, nmax)
print("soluzioni:", solN, "\n\nnumero di iterazioni:", itN, "\n\nvettore errori:", errN)

#creo le funzioni 2 e 3
F2 = lambda x: np.array([x[0]**2 + x[1]**2 - 9, x[0]**2 + 2*x[1] - 2])
jac2 = lambda x: np.array([[2*x[0], 2*x[1]], [2*x[0], 2]])
solN2, itN2, errN2 = NewtonRaphsonCorde(F2, jac2, x0, tolx, tolf, nmax)
print("soluzioni:", solN2, "\n\nnumero di iterazioni:", itN2, "\n\nvettore errori:", errN2)


import matplotlib.pyplot as plt
plt.plot()


F3 = lambda x: np.array([])
jac3 = lambda x: np.array([[]])
solN3, itN3, errN3 = NewtonRaphsonCorde(F3, jac3, x0, tolx, tolf, nmax)
print("soluzioni:", solN3, "\n\nnumero di iterazioni:", itN3, "\n\nvettore errori:", errN3)





import numpy as np
def NewtonRaphson_minimo(grad, hess, x0, tolx, tolf, nmax):
    it=0

    
    while true:
        
    return it, x1
    











import numpy as np

def norma2(mat):
    res = []
    x = 0
    for n in mat:
        for e in n:
            x+=e**2
        x = np.sqrt(x)
        res.append(x)
        x = 0
    return res

A=np.array([[4,-1,6],[2,3,-3],[1,-2,9/2]])
print(np.linalg.eigvals(A))
print(norma2(A))



