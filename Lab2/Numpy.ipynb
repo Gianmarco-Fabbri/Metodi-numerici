{
 "cells": [
  {
   "cell_type": "markdown",
   "metadata": {},
   "source": [
    "## Numpy \n",
    "[NumPy](https://numpy.org/doc/) è l’abbreviazione di **Numerical Python**: un’estensione del linguaggio pensata per l’ottimizzazione della gestione di grosse moli di dati, utilizzata principalmente in ambito scientifico.\n",
    "\n",
    "\n"
   ]
  },
  {
   "cell_type": "markdown",
   "metadata": {},
   "source": [
    "Il modulo NumPy fornisce un nuovo contenitore dati, particolarmente  performante, la struttura **ndarray**.\n",
    "\n",
    "Il  nucleo della libreria NumPy sono le **strutture dati per la rappresentazione di array multidimensionali  di dati omogenei**. Omogeneo si riferisce a tutti gli elementi in una matrice avente lo stesso tipo di dati.\n",
    "\n",
    "La struttura dati principale per array multidimensionali in NumPy è la **classe ndarray** \n",
    "\n",
    "L’object ndarray è una struttura dati omogenea (fixed-type) e multidimensionale.\n",
    "\n"
   ]
  },
  {
   "cell_type": "markdown",
   "metadata": {},
   "source": [
    "**Teminologia utilizzata per gli array**:\n",
    "- *size*: numero di elementi presenti in un array. \n",
    "\n",
    "- *Numero di dimensioni di un array*:  numero di assi/dimensioni di un array (vale 1 per gli array monodimensionali, 2 per le matrici bidimensionali, etc)\n",
    "\n",
    "- *shape*: una tupla di interi contenente il numero di elementi per ogni dimensione\n",
    "\n",
    "- *itemsize*: dimensione in memoria di ogni singolo elemento dell’array."
   ]
  },
  {
   "cell_type": "markdown",
   "metadata": {},
   "source": [
    " - [Tipi di dati Numpy](#Tipi-di-dati-Numpy)\n",
    " - [Da altre strutture Pyhton a numpy array](#Da-altre-strutture-python-a-numpy-array)\n",
    " - [Attributi di un numpy array](#Attributi)\n",
    " - [Creare Array](#Altri-modi-per-creare-numpy-array)\n",
    " - [Metodi di campionamento](#Metodi-di-campionamento)\n",
    " - [Funzioni matematiche](#Funzioni-Matematiche)\n",
    " - [Slicing & Indexing](#Slicing-&-Indexing)\n",
    " - [Ordinamento di un array](#Ordinamento-di-un-array)\n",
    " - [Manipolare un Array](#Manipolare-un-Array)\n",
    " - [Combinare e splittare arrray](#Combinare-e-splittare-array)\n",
    " - [Altre operazioni su array](#Altre-operazioni-su-array)\n",
    " - [Algebra Lineare](#Algebra-Lineare)"
   ]
  },
  {
   "cell_type": "markdown",
   "metadata": {},
   "source": [
    "### import numpy"
   ]
  },
  {
   "cell_type": "code",
   "execution_count": 4,
   "metadata": {
    "tags": []
   },
   "outputs": [],
   "source": [
    "import numpy as np"
   ]
  },
  {
   "cell_type": "markdown",
   "metadata": {},
   "source": [
    "### verifica versione di Python e Numpy"
   ]
  },
  {
   "cell_type": "code",
   "execution_count": 5,
   "metadata": {
    "tags": []
   },
   "outputs": [
    {
     "name": "stdout",
     "output_type": "stream",
     "text": [
      "Python version: 3.11.3\n",
      "Numpy version: 1.24.3\n"
     ]
    }
   ],
   "source": [
    "import platform\n",
    "print('Python version: ' + platform.python_version())\n",
    "print('Numpy version: ' + np.__version__)"
   ]
  },
  {
   "cell_type": "markdown",
   "metadata": {},
   "source": [
    "# Tipi di dati Numpy"
   ]
  },
  {
   "cell_type": "markdown",
   "metadata": {},
   "source": [
    "Ci sono 21 built-in data type che possono essere usati per creare un numpy array.\n",
    "\n",
    "Numpy supporta più tipi di dato rispetto a python core."
   ]
  },
  {
   "cell_type": "markdown",
   "metadata": {},
   "source": [
    "<img src=\"immagine1.png\" width=\"600\">"
   ]
  },
  {
   "cell_type": "markdown",
   "metadata": {},
   "source": [
    "# Da altre strutture python a numpy array"
   ]
  },
  {
   "cell_type": "markdown",
   "metadata": {},
   "source": [
    "\n",
    "Liste e tuple: È possibile convertire direttamente una lista o una tupla in un array NumPy utilizzando la funzione np.array()."
   ]
  },
  {
   "cell_type": "code",
   "execution_count": 6,
   "metadata": {
    "tags": []
   },
   "outputs": [
    {
     "name": "stdout",
     "output_type": "stream",
     "text": [
      "[1 2 3]\n"
     ]
    }
   ],
   "source": [
    "arr = np.array([1,2,3])\n",
    "print(arr)\n"
   ]
  },
  {
   "cell_type": "code",
   "execution_count": 7,
   "metadata": {
    "tags": []
   },
   "outputs": [
    {
     "name": "stdout",
     "output_type": "stream",
     "text": [
      "[1. 2. 3.]\n"
     ]
    }
   ],
   "source": [
    "arr=np.array([1,2,3.0])\n",
    "print(arr)\n"
   ]
  },
  {
   "cell_type": "code",
   "execution_count": 8,
   "metadata": {
    "tags": []
   },
   "outputs": [
    {
     "name": "stdout",
     "output_type": "stream",
     "text": [
      "[1.+2.j 3.-4.j]\n"
     ]
    }
   ],
   "source": [
    "arr = np.array([1+2j, 3-4j])\n",
    "print(arr)\n",
    "\n",
    "\n"
   ]
  },
  {
   "cell_type": "code",
   "execution_count": 9,
   "metadata": {
    "tags": []
   },
   "outputs": [
    {
     "name": "stdout",
     "output_type": "stream",
     "text": [
      "[False  True  True]\n"
     ]
    }
   ],
   "source": [
    "arr = np.array([False, True, True])\n",
    "print(arr)\n"
   ]
  },
  {
   "cell_type": "markdown",
   "metadata": {},
   "source": [
    "# Attributi \n"
   ]
  },
  {
   "cell_type": "markdown",
   "metadata": {},
   "source": [
    "\n",
    "Gli attributi di un NumPy array sono delle *variabili speciali* che forniscono informazioni sulle sue proprietà. Questi attributi possono essere utilizzati per:\n",
    " - Ottenere informazioni sulle dimensioni dell'array:\n",
    "   - .ndim:  Restituisce il numero di dimensioni dell'array.\n",
    "   - .shape: Restituisce una tupla che contiene le dimensioni dell'array (numero di righe, colonne, etc.).\n",
    "   - .size:  Restituisce il numero totale di elementi dell'array.\n",
    " - Ottenere informazioni sul tipo di dato dell'array:\n",
    "    - .dtype:  Restituisce il tipo di dato degli elementi dell'array.\n",
    "    - .intemsize: Restituisce la dimensione in byte di ciascun elemento dell'array\n",
    "    - .nbytes : Restituisce la  dimensione della memoria di un array in bytes"
   ]
  },
  {
   "cell_type": "code",
   "execution_count": 10,
   "metadata": {
    "tags": []
   },
   "outputs": [
    {
     "name": "stdout",
     "output_type": "stream",
     "text": [
      "[1 2 3]\n",
      "numero di dimensione dell'array  1\n",
      "shape  (3,)\n",
      "size  3\n",
      "tipo di dati  int32\n",
      "byte di ciascun elemento dell'array  4\n",
      "Occupazione della memoria di un array in bytes:  12\n"
     ]
    }
   ],
   "source": [
    "arr = np.array([1,2,3])\n",
    "print(arr)\n",
    "print(\"numero di dimensione dell'array \",arr.ndim)\n",
    "print(\"shape \",arr.shape)\n",
    "print(\"size \",arr.size)\n",
    "print(\"tipo di dati \", arr.dtype)\n",
    "print(\"byte di ciascun elemento dell'array \",arr.itemsize)\n",
    "print(\"Occupazione della memoria di un array in bytes: \",arr.nbytes)"
   ]
  },
  {
   "cell_type": "code",
   "execution_count": 25,
   "metadata": {
    "tags": []
   },
   "outputs": [
    {
     "name": "stdout",
     "output_type": "stream",
     "text": [
      "[[1 2 3]\n",
      " [4 5 6]]\n",
      "numero di dimensione dell'array  2\n",
      "shape  (2, 3)\n",
      "size  6\n",
      "tipo di dati  int32\n",
      "byte di ciascun elemento dell'array  4\n",
      "Occupazione della memoria di un array in bytes:  24\n"
     ]
    }
   ],
   "source": [
    "arr = np.array([[1,2,3], [4,5,6]])\n",
    "print(arr)\n",
    "print(\"numero di dimensione dell'array \",arr.ndim)\n",
    "print(\"shape \",arr.shape)\n",
    "print(\"size \",arr.size)\n",
    "print(\"tipo di dati \", arr.dtype)\n",
    "print(\"byte di ciascun elemento dell'array \",arr.itemsize)\n",
    "print(\"Occupazione della memoria di un array in bytes: \",arr.nbytes)"
   ]
  },
  {
   "cell_type": "code",
   "execution_count": 26,
   "metadata": {
    "tags": []
   },
   "outputs": [
    {
     "name": "stdout",
     "output_type": "stream",
     "text": [
      "[1.+2.j 3.+4.j 0.+0.j]\n",
      "numero di dimensione dell'array  1\n",
      "shape  (3,)\n",
      "size  3\n",
      "tipo di dati  complex128\n",
      "byte di ciascun elemento dell'array  16\n",
      "Occupazione della memoria di un array in bytes:  48\n"
     ]
    }
   ],
   "source": [
    "arr=np.array([1+2j,3+4j,0])\n",
    "print(arr)\n",
    "print(\"numero di dimensione dell'array \",arr.ndim)\n",
    "print(\"shape \",arr.shape) #Si tratta di un array 1d la sua shale è (3,), ha una sola dimensione\n",
    "print(\"size \",arr.size)\n",
    "print(\"tipo di dati \", arr.dtype)\n",
    "print(\"byte di ciascun elemento dell'array \",arr.itemsize)\n",
    "print(\"Occupazione della memoria di un array in bytes: \",arr.nbytes)"
   ]
  },
  {
   "cell_type": "markdown",
   "metadata": {},
   "source": [
    "### Creare un array con  un tipo dati specificato"
   ]
  },
  {
   "cell_type": "code",
   "execution_count": 27,
   "metadata": {
    "tags": []
   },
   "outputs": [
    {
     "name": "stdout",
     "output_type": "stream",
     "text": [
      "tipo di dati  int64\n",
      "byte di ciascun elemento dell'array  8\n",
      "Occupazione della memoria di un array in bytes:  24\n"
     ]
    }
   ],
   "source": [
    "arr = np.array([1,2,3],dtype=np.int64)\n",
    "print(\"tipo di dati \", arr.dtype)\n",
    "print(\"byte di ciascun elemento dell'array \",arr.itemsize)\n",
    "print(\"Occupazione della memoria di un array in bytes: \",arr.nbytes)"
   ]
  },
  {
   "cell_type": "code",
   "execution_count": 28,
   "metadata": {
    "tags": []
   },
   "outputs": [
    {
     "name": "stdout",
     "output_type": "stream",
     "text": [
      "tipo di dati  int64\n",
      "byte di ciascun elemento dell'array  8\n",
      "Occupazione della memoria di un array in bytes:  48\n"
     ]
    }
   ],
   "source": [
    "arr = np.array([[1,2,3], [4,5,6]], dtype=np.int64)\n",
    "print(\"tipo di dati \", arr.dtype)\n",
    "print(\"byte di ciascun elemento dell'array \",arr.itemsize)\n",
    "print(\"Occupazione della memoria di un array in bytes: \",arr.nbytes)"
   ]
  },
  {
   "cell_type": "code",
   "execution_count": 29,
   "metadata": {
    "tags": []
   },
   "outputs": [
    {
     "name": "stdout",
     "output_type": "stream",
     "text": [
      "tipo di dati  float32\n",
      "byte di ciascun elemento dell'array  4\n",
      "Occupazione della memoria di un array in bytes:  24\n"
     ]
    }
   ],
   "source": [
    "arr = np.array([[1,2,3], [4,5,6]],dtype=np.float32)\n",
    "print(\"tipo di dati \", arr.dtype)\n",
    "print(\"byte di ciascun elemento dell'array \",arr.itemsize)\n",
    "print(\"Occupazione della memoria di un array in bytes: \",arr.nbytes)\n"
   ]
  },
  {
   "cell_type": "code",
   "execution_count": 30,
   "metadata": {
    "tags": []
   },
   "outputs": [
    {
     "name": "stdout",
     "output_type": "stream",
     "text": [
      "tipo di dati  float64\n",
      "byte di ciascun elemento dell'array  8\n",
      "Occupazione della memoria di un array in bytes:  48\n"
     ]
    }
   ],
   "source": [
    "'''\n",
    "non ci va np. per i tipi di dati nativi\n",
    "'''\n",
    "arr = np.array([[1,2,3], [4,5,6]],dtype=float) \n",
    "print(\"tipo di dati \", arr.dtype)\n",
    "print(\"byte di ciascun elemento dell'array \",arr.itemsize)\n",
    "print(\"Occupazione della memoria di un array in bytes: \",arr.nbytes)\n"
   ]
  },
  {
   "cell_type": "code",
   "execution_count": 31,
   "metadata": {
    "tags": []
   },
   "outputs": [
    {
     "name": "stdout",
     "output_type": "stream",
     "text": [
      "[ True False False]\n",
      "tipo di dati  bool\n",
      "byte di ciascun elemento dell'array  1\n",
      "Occupazione della memoria di un array in bytes:  3\n"
     ]
    }
   ],
   "source": [
    "arr = np.array([1,0,0],dtype=bool)\n",
    "print(arr)\n",
    "print(\"tipo di dati \", arr.dtype)\n",
    "print(\"byte di ciascun elemento dell'array \",arr.itemsize)\n",
    "print(\"Occupazione della memoria di un array in bytes: \",arr.nbytes)"
   ]
  },
  {
   "cell_type": "code",
   "execution_count": 32,
   "metadata": {
    "tags": []
   },
   "outputs": [
    {
     "name": "stdout",
     "output_type": "stream",
     "text": [
      "[1.+2.j 3.+4.j 0.+0.j]\n",
      "numero di dimensione dell'array  1\n",
      "shape  (3,)\n",
      "size  3\n",
      "tipo di dati  complex64\n",
      "byte di ciascun elemento dell'array  8\n",
      "Occupazione della memoria di un array in bytes:  24\n"
     ]
    }
   ],
   "source": [
    "arr=np.array([1+2j,3+4j,0],dtype=np.complex64)\n",
    "print(arr)\n",
    "print(\"numero di dimensione dell'array \",arr.ndim)\n",
    "print(\"shape \",arr.shape)\n",
    "print(\"size \",arr.size)\n",
    "print(\"tipo di dati \", arr.dtype)\n",
    "print(\"byte di ciascun elemento dell'array \",arr.itemsize)\n",
    "print(\"Occupazione della memoria di un array in bytes: \",arr.nbytes)"
   ]
  },
  {
   "cell_type": "markdown",
   "metadata": {},
   "source": [
    "un numero complex64 è composto da due parti: una reale e una immaginaria, entrambe rappresentate con numeri a virgola mobile a 32 bit."
   ]
  },
  {
   "cell_type": "markdown",
   "metadata": {},
   "source": [
    "# Altri modi per creare numpy array\n",
    "\n"
   ]
  },
  {
   "cell_type": "markdown",
   "metadata": {},
   "source": [
    "1 - **creare un array  di valori equidistanti all'interno di un intervallo specificato**"
   ]
  },
  {
   "cell_type": "code",
   "execution_count": 33,
   "metadata": {
    "tags": []
   },
   "outputs": [
    {
     "name": "stdout",
     "output_type": "stream",
     "text": [
      "[ 0.  2.  4.  6.  8. 10. 12. 14. 16. 18.]\n"
     ]
    }
   ],
   "source": [
    "# np.arange(start, stop, step)\n",
    "arr = np.arange(0, 20, 2,dtype=float)  \n",
    "print(arr)"
   ]
  },
  {
   "cell_type": "markdown",
   "metadata": {},
   "source": [
    "2 - **creare un array  di numeri equidistanti in un intervallo specificato**"
   ]
  },
  {
   "cell_type": "code",
   "execution_count": 34,
   "metadata": {
    "tags": []
   },
   "outputs": [
    {
     "name": "stdout",
     "output_type": "stream",
     "text": [
      "[ 0.          0.52631579  1.05263158  1.57894737  2.10526316  2.63157895\n",
      "  3.15789474  3.68421053  4.21052632  4.73684211  5.26315789  5.78947368\n",
      "  6.31578947  6.84210526  7.36842105  7.89473684  8.42105263  8.94736842\n",
      "  9.47368421 10.        ]\n"
     ]
    }
   ],
   "source": [
    "'''\n",
    " endpoint stampa anche l'ultimo elemento, retstep è il passo(distanza tra un numeroe e l'altro)\n",
    "'''\n",
    "# np.linspace(start, stop, num_of_elements, endpoint=True, retstep=False)\n",
    "arr = np.linspace(0, 10, 20)\n",
    "print(arr)"
   ]
  },
  {
   "cell_type": "code",
   "execution_count": 35,
   "metadata": {
    "tags": []
   },
   "outputs": [
    {
     "name": "stdout",
     "output_type": "stream",
     "text": [
      "[0.  0.5 1.  1.5 2.  2.5 3.  3.5 4.  4.5 5.  5.5 6.  6.5 7.  7.5 8.  8.5\n",
      " 9.  9.5]\n",
      "0.5\n"
     ]
    }
   ],
   "source": [
    "# esclude l'estremo finale e restituisce lo step size)\n",
    "arr, step = np.linspace(0, 10, 20, endpoint=False, retstep=True)\n",
    "print(arr)\n",
    "print(step)"
   ]
  },
  {
   "cell_type": "markdown",
   "metadata": {},
   "source": [
    "3 - **creare un array di valori casuali di shape specificata**"
   ]
  },
  {
   "cell_type": "code",
   "execution_count": 36,
   "metadata": {
    "tags": []
   },
   "outputs": [
    {
     "name": "stdout",
     "output_type": "stream",
     "text": [
      "[[0.19527114 0.25120295 0.81780353]\n",
      " [0.63339893 0.15629022 0.07790236]\n",
      " [0.16548176 0.04507778 0.01818635]]\n",
      "float64\n"
     ]
    }
   ],
   "source": [
    "#np.random(m,n)\n",
    "arr = np.random.rand(3, 3)\n",
    "print(arr)\n",
    "print(arr.dtype)"
   ]
  },
  {
   "cell_type": "markdown",
   "metadata": {},
   "source": [
    "4 - **creare una matrice di zeri di shape specificata**"
   ]
  },
  {
   "cell_type": "code",
   "execution_count": 37,
   "metadata": {
    "tags": []
   },
   "outputs": [
    {
     "name": "stdout",
     "output_type": "stream",
     "text": [
      "[[0. 0. 0.]\n",
      " [0. 0. 0.]]\n",
      "float64\n"
     ]
    }
   ],
   "source": [
    "#np.zeros((m,n))\n",
    "#tupla con parentesi tonde e dentro le dimensioni della matrice \n",
    "zeros = np.zeros((2,3))\n",
    "print(zeros)\n",
    "print(zeros.dtype)"
   ]
  },
  {
   "cell_type": "markdown",
   "metadata": {},
   "source": [
    "5 - **creare un array di zeri con la stessa shape e tipo di dati di un determinato array**"
   ]
  },
  {
   "cell_type": "code",
   "execution_count": 38,
   "metadata": {
    "tags": []
   },
   "outputs": [
    {
     "name": "stdout",
     "output_type": "stream",
     "text": [
      "[[0. 0. 0.]\n",
      " [0. 0. 0.]\n",
      " [0. 0. 0.]]\n"
     ]
    }
   ],
   "source": [
    "#shape = dimensione = valori delle dimensioni\n",
    "zeros = np.zeros_like(arr)\n",
    "print(zeros)"
   ]
  },
  {
   "cell_type": "markdown",
   "metadata": {},
   "source": [
    "6 -**creare un array con valori tutti uguali ad 1, con una data shape**"
   ]
  },
  {
   "cell_type": "code",
   "execution_count": 39,
   "metadata": {
    "tags": []
   },
   "outputs": [
    {
     "name": "stdout",
     "output_type": "stream",
     "text": [
      "[[1 1 1]\n",
      " [1 1 1]]\n"
     ]
    }
   ],
   "source": [
    "#come zeros\n",
    "#np.ones((m,n))\n",
    "ones = np.ones((2,3),dtype=int)\n",
    "print(ones)"
   ]
  },
  {
   "cell_type": "markdown",
   "metadata": {},
   "source": [
    "7 - **creare un array con valori tutti uguali ad 1, con la stessa shape  e tipo di dati di un determinato array**"
   ]
  },
  {
   "cell_type": "code",
   "execution_count": 40,
   "metadata": {
    "tags": []
   },
   "outputs": [
    {
     "name": "stdout",
     "output_type": "stream",
     "text": [
      "[[1. 1. 1.]\n",
      " [1. 1. 1.]\n",
      " [1. 1. 1.]]\n"
     ]
    }
   ],
   "source": [
    "#ones_like copia la dimensione ma metti i valori a float\n",
    "ones = np.ones_like(arr)\n",
    "print(ones)"
   ]
  },
  {
   "cell_type": "markdown",
   "metadata": {},
   "source": [
    "8 - **creare un array con valori tutti uguali ad una costante di una data shape**"
   ]
  },
  {
   "cell_type": "code",
   "execution_count": 42,
   "metadata": {
    "tags": []
   },
   "outputs": [
    {
     "name": "stdout",
     "output_type": "stream",
     "text": [
      "[[5 5 5]\n",
      " [5 5 5]]\n"
     ]
    }
   ],
   "source": [
    "#full come ones e zeros ma specificando il valore\n",
    "#np.full((m,n),value)\n",
    "p = np.full((2,3), 5)\n",
    "print(p)"
   ]
  },
  {
   "cell_type": "markdown",
   "metadata": {
    "tags": []
   },
   "source": [
    "8 - **creare un array con valori tutti uguali ad una costante  con la stessa shape e lo stesso tipo di dati di un determinato array**"
   ]
  },
  {
   "cell_type": "code",
   "execution_count": 43,
   "metadata": {
    "tags": []
   },
   "outputs": [
    {
     "name": "stdout",
     "output_type": "stream",
     "text": [
      "[[5. 5. 5.]\n",
      " [5. 5. 5.]\n",
      " [5. 5. 5.]]\n"
     ]
    }
   ],
   "source": [
    "p = np.full_like(arr, 5)\n",
    "print(p)"
   ]
  },
  {
   "cell_type": "markdown",
   "metadata": {
    "tags": []
   },
   "source": [
    "9 - **creare un array per ripetizione**"
   ]
  },
  {
   "cell_type": "code",
   "execution_count": 44,
   "metadata": {
    "tags": []
   },
   "outputs": [
    {
     "name": "stdout",
     "output_type": "stream",
     "text": [
      "[0 0 0 1 1 1 2 2 2]\n"
     ]
    }
   ],
   "source": [
    "# ripete ogni elemento di un array per un numero specificato di volte \n",
    "# np.repeat(iterable, reps, axis=None)\n",
    "arr = [0, 1, 2]\n",
    "print(np.repeat(arr, 3))    # oppure np.repeat(range(3), 3)"
   ]
  },
  {
   "cell_type": "code",
   "execution_count": 45,
   "metadata": {
    "tags": []
   },
   "outputs": [
    {
     "name": "stdout",
     "output_type": "stream",
     "text": [
      "[0 1 2 0 1 2 0 1 2]\n"
     ]
    }
   ],
   "source": [
    "# ripete un array un numero specificato di volte\n",
    "#np.tile(arr,reps))\n",
    "arr = [0, 1, 2]\n",
    "print(np.tile(arr, 3))"
   ]
  },
  {
   "cell_type": "markdown",
   "metadata": {},
   "source": [
    "10 - **creare una matrice identità con una data dimensione**"
   ]
  },
  {
   "cell_type": "code",
   "execution_count": 46,
   "metadata": {
    "tags": []
   },
   "outputs": [
    {
     "name": "stdout",
     "output_type": "stream",
     "text": [
      "[[1. 0. 0.]\n",
      " [0. 1. 0.]\n",
      " [0. 0. 1.]]\n"
     ]
    }
   ],
   "source": [
    "identity_matrix = np.eye(3)\n",
    "print(identity_matrix)"
   ]
  },
  {
   "cell_type": "code",
   "execution_count": 47,
   "metadata": {
    "tags": []
   },
   "outputs": [
    {
     "name": "stdout",
     "output_type": "stream",
     "text": [
      "[[1. 0. 0.]\n",
      " [0. 1. 0.]\n",
      " [0. 0. 1.]]\n"
     ]
    }
   ],
   "source": [
    "identity_matrix = np.identity(3)\n",
    "print(identity_matrix)"
   ]
  },
  {
   "cell_type": "markdown",
   "metadata": {},
   "source": [
    "11 - **creare una matrice identità  con la diagonale shiftata**"
   ]
  },
  {
   "cell_type": "code",
   "execution_count": 48,
   "metadata": {
    "tags": []
   },
   "outputs": [
    {
     "name": "stdout",
     "output_type": "stream",
     "text": [
      "[[0. 1. 0. 0. 0.]\n",
      " [0. 0. 1. 0. 0.]\n",
      " [0. 0. 0. 1. 0.]\n",
      " [0. 0. 0. 0. 1.]\n",
      " [0. 0. 0. 0. 0.]]\n"
     ]
    }
   ],
   "source": [
    "identity_matrix = np.eye(5, k=1)    # numero positivo sposta la diagonale verso l'alto\n",
    "print(identity_matrix)"
   ]
  },
  {
   "cell_type": "code",
   "execution_count": 49,
   "metadata": {
    "tags": []
   },
   "outputs": [
    {
     "name": "stdout",
     "output_type": "stream",
     "text": [
      "[[0. 0. 0. 0. 0.]\n",
      " [0. 0. 0. 0. 0.]\n",
      " [1. 0. 0. 0. 0.]\n",
      " [0. 1. 0. 0. 0.]\n",
      " [0. 0. 1. 0. 0.]]\n"
     ]
    }
   ],
   "source": [
    "identity_matrix = np.eye(5, k=-2)   # numero negativo sposta la diagonale verso il basso\n",
    "print(identity_matrix)"
   ]
  },
  {
   "cell_type": "markdown",
   "metadata": {},
   "source": [
    "12 - **estrarre la diagonale dall'array  / creare un array diagonale**"
   ]
  },
  {
   "cell_type": "code",
   "execution_count": 50,
   "metadata": {
    "tags": []
   },
   "outputs": [
    {
     "name": "stdout",
     "output_type": "stream",
     "text": [
      "[[0.48803308 0.31057249 0.93654017 0.41748029 0.85255848]\n",
      " [0.38119126 0.4908195  0.87232987 0.67853832 0.8707144 ]\n",
      " [0.95423083 0.55923591 0.56870219 0.2753749  0.80815069]\n",
      " [0.57858316 0.25867914 0.5268912  0.0040461  0.46385719]\n",
      " [0.21578165 0.07203737 0.58114192 0.82129656 0.15872244]]\n"
     ]
    }
   ],
   "source": [
    "arr = np.random.rand(5,5)\n",
    "print(arr)"
   ]
  },
  {
   "cell_type": "code",
   "execution_count": 137,
   "metadata": {},
   "outputs": [
    {
     "name": "stdout",
     "output_type": "stream",
     "text": [
      "[0.68130077 0.67468905 0.57245696 0.59443188 0.6919703 ]\n"
     ]
    }
   ],
   "source": [
    "# estrae la diagonale\n",
    "print(np.diag(arr))"
   ]
  },
  {
   "cell_type": "code",
   "execution_count": 138,
   "metadata": {},
   "outputs": [
    {
     "name": "stdout",
     "output_type": "stream",
     "text": [
      "[[1 0 0 0 0]\n",
      " [0 2 0 0 0]\n",
      " [0 0 3 0 0]\n",
      " [0 0 0 4 0]\n",
      " [0 0 0 0 5]]\n"
     ]
    }
   ],
   "source": [
    "# crea una matrice diagionale con elementi diagonale specificati\n",
    "arr = np.diag([1,2,3,4,5])\n",
    "print(arr)"
   ]
  },
  {
   "cell_type": "markdown",
   "metadata": {},
   "source": []
  },
  {
   "cell_type": "markdown",
   "metadata": {},
   "source": [
    "# Metodi di campionamento \n",
    "(estrarre campioni casuali da un intervallo oppure da una distribuzione di probabilità specificata)"
   ]
  },
  {
   "cell_type": "markdown",
   "metadata": {},
   "source": [
    "### Impostare il seme"
   ]
  },
  {
   "cell_type": "code",
   "execution_count": 139,
   "metadata": {},
   "outputs": [],
   "source": [
    "np.random.seed(123)"
   ]
  },
  {
   "cell_type": "markdown",
   "metadata": {},
   "source": [
    "1-  **genera  numeri casuali uniformi nell'intervallo [0, 1)**"
   ]
  },
  {
   "cell_type": "code",
   "execution_count": 278,
   "metadata": {},
   "outputs": [
    {
     "name": "stdout",
     "output_type": "stream",
     "text": [
      "0.7516439887929184\n"
     ]
    }
   ],
   "source": [
    "# random.rand() genera numeri casuali uniformi nell'intervallo [0, 1) tutti i numeri nell'intervallo [0, 1) \n",
    "#hanno la stessa probabilità di essere generati.\n",
    "print(np.random.rand())      "
   ]
  },
  {
   "cell_type": "code",
   "execution_count": 279,
   "metadata": {},
   "outputs": [
    {
     "name": "stdout",
     "output_type": "stream",
     "text": [
      "[0.07914896 0.85938908 0.82150411]\n"
     ]
    }
   ],
   "source": [
    "# genera  un  1-D array\n",
    "print(np.random.rand(3))           "
   ]
  },
  {
   "cell_type": "code",
   "execution_count": 281,
   "metadata": {},
   "outputs": [
    {
     "name": "stdout",
     "output_type": "stream",
     "text": [
      "[[0.81164435 0.46798757 0.80793821]\n",
      " [0.00742638 0.55159273 0.93193215]\n",
      " [0.58217546 0.20609573 0.71775756]]\n"
     ]
    }
   ],
   "source": [
    "# genera  un  2-D array\n",
    "print(np.random.rand(3,3))          "
   ]
  },
  {
   "cell_type": "markdown",
   "metadata": {},
   "source": [
    "2 -  **genera numeri casuali dalla distribuzione normale standard (media = 0, var = 1)**"
   ]
  },
  {
   "cell_type": "code",
   "execution_count": 283,
   "metadata": {},
   "outputs": [
    {
     "name": "stdout",
     "output_type": "stream",
     "text": [
      "[[ 0.40308596  1.47192937  0.30738422]\n",
      " [-0.61122534 -0.39161981  0.13997811]\n",
      " [ 0.09346083  1.45958927  1.39535293]]\n"
     ]
    }
   ],
   "source": [
    "print(np.random.randn(3,3))"
   ]
  },
  {
   "cell_type": "markdown",
   "metadata": {},
   "source": [
    "3 -  **genera un array di numeri interi casuali in un dato intervallo [low, high)**"
   ]
  },
  {
   "cell_type": "code",
   "execution_count": 284,
   "metadata": {},
   "outputs": [
    {
     "name": "stdout",
     "output_type": "stream",
     "text": [
      "[7 2 6]\n"
     ]
    }
   ],
   "source": [
    "# np.ranodm.randint(low, high, size, dtype)\n",
    "print(np.random.randint(1, 10, 3, 'i8'))"
   ]
  },
  {
   "cell_type": "markdown",
   "metadata": {},
   "source": [
    "Nota: La modifica di un array *in place*, detta anche modifica in-situ, si riferisce all'operazione di **modificare i valori dell'array direttamente nella memoria senza creare una copia**. In altre parole, le modifiche apportate all'array originale si riflettono direttamente sull'array stesso."
   ]
  },
  {
   "cell_type": "markdown",
   "metadata": {},
   "source": [
    "**Mescolare gli elementi di un array in-place**\n"
   ]
  },
  {
   "cell_type": "code",
   "execution_count": 287,
   "metadata": {},
   "outputs": [
    {
     "name": "stdout",
     "output_type": "stream",
     "text": [
      "[0 1 2 3 4 5 6 7 8 9]\n"
     ]
    }
   ],
   "source": [
    "arr = np.array(range(10))\n",
    "print(arr)"
   ]
  },
  {
   "cell_type": "code",
   "execution_count": 289,
   "metadata": {},
   "outputs": [
    {
     "name": "stdout",
     "output_type": "stream",
     "text": [
      "[2 0 3 1 5 4 7 9 8 6]\n"
     ]
    }
   ],
   "source": [
    "np.random.shuffle(arr)\n",
    "print(arr)"
   ]
  },
  {
   "cell_type": "markdown",
   "metadata": {},
   "source": [
    "**Permutare un array**"
   ]
  },
  {
   "cell_type": "code",
   "execution_count": 295,
   "metadata": {},
   "outputs": [
    {
     "name": "stdout",
     "output_type": "stream",
     "text": [
      "Array iniziale:  [0 1 2 3 4 5 6 7 8 9]\n",
      "Permutazione:  [4 7 2 5 8 6 0 9 1 3]\n"
     ]
    }
   ],
   "source": [
    "# simile a np.random.shuffle(), ma restituisce una copia piuttosto che fare una modifica in-place\n",
    "arr = np.array(range(10))\n",
    "print('Array iniziale: ', arr)\n",
    "print('Permutazione: ', np.random.permutation(arr))"
   ]
  },
  {
   "cell_type": "markdown",
   "metadata": {},
   "source": [
    "# Funzioni Matematiche"
   ]
  },
  {
   "cell_type": "code",
   "execution_count": 296,
   "metadata": {},
   "outputs": [],
   "source": [
    "arr = np.array([[2,1],[3,4],[5,6]])"
   ]
  },
  {
   "cell_type": "markdown",
   "metadata": {},
   "source": [
    "## addizione, sottrazione, moltiplicazione e divisione element-wise (elemento per elemento)"
   ]
  },
  {
   "cell_type": "code",
   "execution_count": 297,
   "metadata": {},
   "outputs": [
    {
     "name": "stdout",
     "output_type": "stream",
     "text": [
      "[[12 11]\n",
      " [13 14]\n",
      " [15 16]]\n",
      "[[-8 -9]\n",
      " [-7 -6]\n",
      " [-5 -4]]\n",
      "[[20 10]\n",
      " [30 40]\n",
      " [50 60]]\n",
      "[[0.2 0.1]\n",
      " [0.3 0.4]\n",
      " [0.5 0.6]]\n"
     ]
    }
   ],
   "source": [
    "print(arr + 10)\n",
    "print(arr - 10)\n",
    "print(arr * 10)\n",
    "print(arr / 10)"
   ]
  },
  {
   "cell_type": "markdown",
   "metadata": {},
   "source": [
    "### esponenziale element-wise "
   ]
  },
  {
   "cell_type": "code",
   "execution_count": 298,
   "metadata": {},
   "outputs": [
    {
     "name": "stdout",
     "output_type": "stream",
     "text": [
      "[[  7.3890561    2.71828183]\n",
      " [ 20.08553692  54.59815003]\n",
      " [148.4131591  403.42879349]]\n"
     ]
    }
   ],
   "source": [
    "print(np.exp(arr))"
   ]
  },
  {
   "cell_type": "markdown",
   "metadata": {},
   "source": [
    "### logaritmo element-wise "
   ]
  },
  {
   "cell_type": "code",
   "execution_count": 299,
   "metadata": {},
   "outputs": [
    {
     "name": "stdout",
     "output_type": "stream",
     "text": [
      "[[0.69314718 0.        ]\n",
      " [1.09861229 1.38629436]\n",
      " [1.60943791 1.79175947]]\n"
     ]
    }
   ],
   "source": [
    "# logaritmo naturale\n",
    "print(np.log(arr))      "
   ]
  },
  {
   "cell_type": "code",
   "execution_count": 300,
   "metadata": {},
   "outputs": [
    {
     "name": "stdout",
     "output_type": "stream",
     "text": [
      "[[1.         0.        ]\n",
      " [1.5849625  2.        ]\n",
      " [2.32192809 2.5849625 ]]\n"
     ]
    }
   ],
   "source": [
    "# base 2\n",
    "print(np.log2(arr))     "
   ]
  },
  {
   "cell_type": "code",
   "execution_count": 301,
   "metadata": {},
   "outputs": [
    {
     "name": "stdout",
     "output_type": "stream",
     "text": [
      "[[0.30103    0.        ]\n",
      " [0.47712125 0.60205999]\n",
      " [0.69897    0.77815125]]\n"
     ]
    }
   ],
   "source": [
    "# base 10\n",
    "print(np.log10(arr))    "
   ]
  },
  {
   "cell_type": "markdown",
   "metadata": {},
   "source": [
    "### radice quadrata element-wise "
   ]
  },
  {
   "cell_type": "code",
   "execution_count": 302,
   "metadata": {},
   "outputs": [
    {
     "name": "stdout",
     "output_type": "stream",
     "text": [
      "[[1.41421356 1.        ]\n",
      " [1.73205081 2.        ]\n",
      " [2.23606798 2.44948974]]\n"
     ]
    }
   ],
   "source": [
    "print(np.sqrt(arr))"
   ]
  },
  {
   "cell_type": "markdown",
   "metadata": {},
   "source": [
    "### seno e coseno element-wise"
   ]
  },
  {
   "cell_type": "code",
   "execution_count": 303,
   "metadata": {},
   "outputs": [
    {
     "name": "stdout",
     "output_type": "stream",
     "text": [
      "[[ 0.90929743  0.84147098]\n",
      " [ 0.14112001 -0.7568025 ]\n",
      " [-0.95892427 -0.2794155 ]]\n"
     ]
    }
   ],
   "source": [
    "print(np.sin(arr))"
   ]
  },
  {
   "cell_type": "code",
   "execution_count": 304,
   "metadata": {},
   "outputs": [
    {
     "name": "stdout",
     "output_type": "stream",
     "text": [
      "[[-0.41614684  0.54030231]\n",
      " [-0.9899925  -0.65364362]\n",
      " [ 0.28366219  0.96017029]]\n"
     ]
    }
   ],
   "source": [
    "print(np.cos(arr))"
   ]
  },
  {
   "cell_type": "markdown",
   "metadata": {},
   "source": [
    "### Grafico di una funzione"
   ]
  },
  {
   "cell_type": "code",
   "execution_count": 305,
   "metadata": {},
   "outputs": [
    {
     "data": {
      "image/png": "[encoded data removed]",
      "text/plain": [
       "<Figure size 640x480 with 1 Axes>"
      ]
     },
     "metadata": {},
     "output_type": "display_data"
    }
   ],
   "source": [
    "import matplotlib.pyplot as plt\n",
    "x=np.arange(0,2*np.pi+0.1,0.01)\n",
    "funzione=np.cos(10*x)+x**2\n",
    "plt.plot(x,funzione,'r-')\n",
    "plt.show()"
   ]
  },
  {
   "cell_type": "markdown",
   "metadata": {},
   "source": [
    "### Nell'esempio  useremo il match case."
   ]
  },
  {
   "cell_type": "markdown",
   "metadata": {
    "tags": []
   },
   "source": [
    "import numpy as np\n",
    "import math\n",
    "import matplotlib.pyplot as plt    \n",
    "\n",
    "scelta=int(input(\"Scegli funzione \"))\n",
    " \n",
    "match scelta:\n",
    "    case 1:\n",
    "        f= lambda x: x**3-3*x\n",
    "        x=np.linspace(-3,3,100)\n",
    "        titolo='Funzione x**3-3*x '\n",
    "        print(titolo)\n",
    "    case 2:\n",
    "        f= lambda x: 3*x*np.cos(2*x)\n",
    "        x=np.linspace(0,2*math.pi, 100)\n",
    "        titolo='Funzione 3*x*cos(2*x) '\n",
    "    # ...\n",
    "    case 3:\n",
    "        f= lambda x: np.sin(x)/x\n",
    "        x=np.linspace(-8*math.pi,8*math.pi,100)\n",
    "        titolo='Funzione sin(x)/x'\n",
    "        \n",
    "\n",
    "\n",
    "plt.plot(x,f(x),'r')\n",
    "plt.title(titolo)\n",
    "plt.grid(\"on\")\n",
    "plt.xlabel(\"x\")\n",
    "plt.ylabel(\"f(x)\")\n",
    "plt.show()\n"
   ]
  },
  {
   "cell_type": "markdown",
   "metadata": {},
   "source": [
    "### somma degli elementi di un array lungo un asse specificato"
   ]
  },
  {
   "cell_type": "code",
   "execution_count": 307,
   "metadata": {},
   "outputs": [
    {
     "name": "stdout",
     "output_type": "stream",
     "text": [
      "[[2 2]\n",
      " [3 4]]\n",
      "[5 6]\n"
     ]
    }
   ],
   "source": [
    "# sommo le righe\n",
    "arr=np.array([[2,2],[3,4]])\n",
    "print(arr)\n",
    "print(np.sum(arr, axis=0))    "
   ]
  },
  {
   "cell_type": "code",
   "execution_count": 160,
   "metadata": {},
   "outputs": [
    {
     "name": "stdout",
     "output_type": "stream",
     "text": [
      "[4 7]\n"
     ]
    }
   ],
   "source": [
    "# sommo le colonne\n",
    "print(np.sum(arr, axis=1))    "
   ]
  },
  {
   "cell_type": "markdown",
   "metadata": {},
   "source": [
    "### Somma di tutti gli elementi di un array"
   ]
  },
  {
   "cell_type": "code",
   "execution_count": 161,
   "metadata": {},
   "outputs": [
    {
     "data": {
      "text/plain": [
       "11"
      ]
     },
     "execution_count": 161,
     "metadata": {},
     "output_type": "execute_result"
    }
   ],
   "source": [
    "np.sum(arr)"
   ]
  },
  {
   "cell_type": "markdown",
   "metadata": {},
   "source": [
    "### Calcola il minimo/massimo lungo un asse specificato"
   ]
  },
  {
   "cell_type": "code",
   "execution_count": 162,
   "metadata": {},
   "outputs": [
    {
     "name": "stdout",
     "output_type": "stream",
     "text": [
      "[2 2]\n"
     ]
    }
   ],
   "source": [
    "# calcola il minimo lungo le righe\n",
    "print(np.min(arr, axis=0))"
   ]
  },
  {
   "cell_type": "code",
   "execution_count": 163,
   "metadata": {},
   "outputs": [
    {
     "name": "stdout",
     "output_type": "stream",
     "text": [
      "[2 3]\n"
     ]
    }
   ],
   "source": [
    "# calcola  il minimo lungo le colonne\n",
    "print(np.min(arr, axis=1))    "
   ]
  },
  {
   "cell_type": "code",
   "execution_count": 164,
   "metadata": {},
   "outputs": [
    {
     "name": "stdout",
     "output_type": "stream",
     "text": [
      "4\n",
      "2\n"
     ]
    }
   ],
   "source": [
    "# se axis non è specificato calcola il min/max tra tutti i valori dell'array\n",
    "print(np.max(arr))\n",
    "print(np.min(arr))"
   ]
  },
  {
   "cell_type": "markdown",
   "metadata": {},
   "source": [
    "### calcola gli indici del min\\ max lungo un asse specificato"
   ]
  },
  {
   "cell_type": "code",
   "execution_count": 165,
   "metadata": {},
   "outputs": [
    {
     "name": "stdout",
     "output_type": "stream",
     "text": [
      "array \n",
      "  [[12  9 -2]\n",
      " [ 3 -4  2]]\n",
      "Indici delle posizioni con valore minimo lungo le righe \n",
      " [1 1 0]\n"
     ]
    }
   ],
   "source": [
    "# lungo le righe\n",
    "arr=np.array([[12,9,-2],[3,-4,2]])\n",
    "print(\"array \\n \",arr)\n",
    "print(\"Indici delle posizioni con valore minimo lungo le righe \\n\", np.argmin(arr, axis=0))\n"
   ]
  },
  {
   "cell_type": "code",
   "execution_count": 166,
   "metadata": {},
   "outputs": [
    {
     "name": "stdout",
     "output_type": "stream",
     "text": [
      "[2 1]\n"
     ]
    }
   ],
   "source": [
    "# lungo le colonne\n",
    "print(np.argmin(arr, axis=1))\n"
   ]
  },
  {
   "cell_type": "code",
   "execution_count": 167,
   "metadata": {},
   "outputs": [
    {
     "name": "stdout",
     "output_type": "stream",
     "text": [
      "4\n"
     ]
    }
   ],
   "source": [
    "# se l'asse non è specificato, restituisce l'indice dell'array appiattito in un array in una sola dimensione (ottenuto \n",
    "# considerando le righe impilate una sotto l'altra)\n",
    "\n",
    "print(np.argmin(arr))\n"
   ]
  },
  {
   "cell_type": "markdown",
   "metadata": {},
   "source": [
    "### calcolo del min/max  element-wise tra due array"
   ]
  },
  {
   "cell_type": "code",
   "execution_count": 168,
   "metadata": {},
   "outputs": [
    {
     "name": "stdout",
     "output_type": "stream",
     "text": [
      "[0 3 3 7 7]\n"
     ]
    }
   ],
   "source": [
    "arr1 = np.array([1, 3, 5, 7, 9])\n",
    "arr2 = np.array([0, 4, 3, 8, 7])\n",
    "\n",
    "print(np.minimum(arr1, arr2))"
   ]
  },
  {
   "cell_type": "code",
   "execution_count": 169,
   "metadata": {},
   "outputs": [
    {
     "name": "stdout",
     "output_type": "stream",
     "text": [
      "[1 4 5 8 9]\n"
     ]
    }
   ],
   "source": [
    "print(np.maximum(arr1, arr2))"
   ]
  },
  {
   "cell_type": "markdown",
   "metadata": {},
   "source": [
    "### calcolo della media"
   ]
  },
  {
   "cell_type": "code",
   "execution_count": 170,
   "metadata": {},
   "outputs": [
    {
     "name": "stdout",
     "output_type": "stream",
     "text": [
      "3.3333333333333335\n"
     ]
    }
   ],
   "source": [
    "# calcolo della media di tutto l'array\n",
    "print(np.mean(arr))"
   ]
  },
  {
   "cell_type": "code",
   "execution_count": 171,
   "metadata": {},
   "outputs": [
    {
     "name": "stdout",
     "output_type": "stream",
     "text": [
      "[7.5 2.5 0. ]\n"
     ]
    }
   ],
   "source": [
    "# calcolo della media lungo le righe\n",
    "print(np.mean(arr, axis=0))   "
   ]
  },
  {
   "cell_type": "code",
   "execution_count": 172,
   "metadata": {},
   "outputs": [
    {
     "name": "stdout",
     "output_type": "stream",
     "text": [
      "[6.33333333 0.33333333]\n"
     ]
    }
   ],
   "source": [
    "# calcolo della media lungo le colonne\n",
    "print(np.mean(arr, axis=1)) "
   ]
  },
  {
   "cell_type": "markdown",
   "metadata": {},
   "source": [
    "### calcolo della mediana di un array"
   ]
  },
  {
   "cell_type": "code",
   "execution_count": 173,
   "metadata": {},
   "outputs": [
    {
     "name": "stdout",
     "output_type": "stream",
     "text": [
      "2.5\n"
     ]
    }
   ],
   "source": [
    "# calcolo della mediana di tutto l'array\n",
    "print(np.median(arr))"
   ]
  },
  {
   "cell_type": "code",
   "execution_count": 174,
   "metadata": {},
   "outputs": [
    {
     "name": "stdout",
     "output_type": "stream",
     "text": [
      "[7.5 2.5 0. ]\n"
     ]
    }
   ],
   "source": [
    "# calcolo della mediana lungo le righe\n",
    "print(np.median(arr, axis=0)) "
   ]
  },
  {
   "cell_type": "code",
   "execution_count": 175,
   "metadata": {},
   "outputs": [
    {
     "name": "stdout",
     "output_type": "stream",
     "text": [
      "[9. 2.]\n"
     ]
    }
   ],
   "source": [
    "# calcolo della mediana lungo le colonne\n",
    "print(np.median(arr, axis=1))"
   ]
  },
  {
   "cell_type": "markdown",
   "metadata": {},
   "source": [
    "### confronto element-wise tra array"
   ]
  },
  {
   "cell_type": "code",
   "execution_count": 176,
   "metadata": {},
   "outputs": [],
   "source": [
    "arr1 = np.array([1,2,3,4,5])\n",
    "arr2 = np.array([5,4,3,2,1])"
   ]
  },
  {
   "cell_type": "code",
   "execution_count": 177,
   "metadata": {},
   "outputs": [
    {
     "name": "stdout",
     "output_type": "stream",
     "text": [
      "[False False  True False False]\n"
     ]
    }
   ],
   "source": [
    "# restituisce un array di Booleani\n",
    "print(arr1 == arr2)    \n"
   ]
  },
  {
   "cell_type": "code",
   "execution_count": 178,
   "metadata": {},
   "outputs": [
    {
     "name": "stdout",
     "output_type": "stream",
     "text": [
      "[ True  True False False False]\n"
     ]
    }
   ],
   "source": [
    "print(arr1<3)"
   ]
  },
  {
   "cell_type": "markdown",
   "metadata": {},
   "source": [
    "# Slicing & Indexing"
   ]
  },
  {
   "cell_type": "markdown",
   "metadata": {},
   "source": [
    "### selezionare un elemento medinate indici di riga e di colonna"
   ]
  },
  {
   "cell_type": "code",
   "execution_count": 309,
   "metadata": {},
   "outputs": [],
   "source": [
    "arr=np.array([[1,2,3,4,5,6],[7,8,9,10,11,12],[13,14,15,16,17,18]])"
   ]
  },
  {
   "cell_type": "code",
   "execution_count": 310,
   "metadata": {},
   "outputs": [
    {
     "name": "stdout",
     "output_type": "stream",
     "text": [
      "[[ 1  2  3  4  5  6]\n",
      " [ 7  8  9 10 11 12]\n",
      " [13 14 15 16 17 18]]\n",
      "18\n",
      "18\n"
     ]
    }
   ],
   "source": [
    "print(arr)\n",
    "print(arr[2][5])\n",
    "# o più concisamente\n",
    "print(arr[2,5])"
   ]
  },
  {
   "cell_type": "markdown",
   "metadata": {},
   "source": [
    "### indexing con slicing"
   ]
  },
  {
   "cell_type": "code",
   "execution_count": 311,
   "metadata": {},
   "outputs": [
    {
     "name": "stdout",
     "output_type": "stream",
     "text": [
      "[[ 9 10]\n",
      " [15 16]]\n"
     ]
    }
   ],
   "source": [
    "print(arr[1:3, 2:4])"
   ]
  },
  {
   "cell_type": "code",
   "execution_count": 182,
   "metadata": {},
   "outputs": [
    {
     "name": "stdout",
     "output_type": "stream",
     "text": [
      "[[ 3  4]\n",
      " [ 9 10]\n",
      " [15 16]]\n"
     ]
    }
   ],
   "source": [
    "print(arr[:,2:4])"
   ]
  },
  {
   "cell_type": "code",
   "execution_count": 183,
   "metadata": {},
   "outputs": [
    {
     "name": "stdout",
     "output_type": "stream",
     "text": [
      "[[ 3  6]\n",
      " [ 9 12]\n",
      " [15 18]]\n"
     ]
    }
   ],
   "source": [
    "print(arr[:,2:6:3])\n"
   ]
  },
  {
   "cell_type": "markdown",
   "metadata": {},
   "source": [
    "**assegnare uno scalare ad una slice mediante broadcasting (lo scalare viene \"propagato\" a tutti gli elementi della slice, senza la necessità di specificare un valore per ogni elemento)**"
   ]
  },
  {
   "cell_type": "code",
   "execution_count": 315,
   "metadata": {},
   "outputs": [
    {
     "name": "stdout",
     "output_type": "stream",
     "text": [
      "[[ 10  10  10  10  10  10]\n",
      " [100 100 100 100 100 100]\n",
      " [100 100 100 100 100 100]]\n"
     ]
    }
   ],
   "source": [
    "arr[1:3,:] = 100    \n",
    "arr[0,:] = 10\n",
    "print(arr)"
   ]
  },
  {
   "cell_type": "markdown",
   "metadata": {},
   "source": [
    "### boolean indexing"
   ]
  },
  {
   "cell_type": "code",
   "execution_count": 316,
   "metadata": {},
   "outputs": [
    {
     "name": "stdout",
     "output_type": "stream",
     "text": [
      "[[ 10  10  10  10  10  10]\n",
      " [100 100 100 100 100 100]\n",
      " [100 100 100 100 100 100]]\n",
      "array con selezionata solo la riga 1\n",
      "[[10 10 10 10 10 10]]\n"
     ]
    }
   ],
   "source": [
    "print(arr)\n",
    "bools = np.array([True, False, False])\n",
    "print(\"array con selezionata solo la riga 1\")\n",
    "print(arr[bools])"
   ]
  },
  {
   "cell_type": "code",
   "execution_count": 317,
   "metadata": {},
   "outputs": [
    {
     "name": "stdout",
     "output_type": "stream",
     "text": [
      "[[100 100 100 100 100 100]\n",
      " [100 100 100 100 100 100]]\n"
     ]
    }
   ],
   "source": [
    "# condizione bool negata\n",
    "print(arr[~bools])    "
   ]
  },
  {
   "cell_type": "code",
   "execution_count": 318,
   "metadata": {},
   "outputs": [
    {
     "name": "stdout",
     "output_type": "stream",
     "text": [
      "Condizione 1\n",
      "[ True False False]\n",
      "Condizione 2\n",
      "[False False False]\n",
      "[[10 10 10 10 10 10]]\n"
     ]
    }
   ],
   "source": [
    "arr2 = np.array([1,2,3])\n",
    "print(\"Condizione 1\")\n",
    "print(arr2<2)\n",
    "print(\"Condizione 2\")\n",
    "print(arr2>4)\n",
    "# multiple conditions\n",
    "print(arr[(arr2<2) | (arr2>4)])    "
   ]
  },
  {
   "cell_type": "markdown",
   "metadata": {},
   "source": [
    "### cercare elementi/indici mediante condizioni"
   ]
  },
  {
   "cell_type": "code",
   "execution_count": 321,
   "metadata": {},
   "outputs": [
    {
     "name": "stdout",
     "output_type": "stream",
     "text": [
      "[[ 1  2  3  4  5  6]\n",
      " [ 7  8  9 10 11 12]\n",
      " [13 14 15 16 17 18]]\n"
     ]
    }
   ],
   "source": [
    "arr=np.array([[1,2,3,4,5,6],[7,8,9,10,11,12],[13,14,15,16,17,18]])\n",
    "print(arr)"
   ]
  },
  {
   "cell_type": "code",
   "execution_count": 322,
   "metadata": {},
   "outputs": [
    {
     "name": "stdout",
     "output_type": "stream",
     "text": [
      "[ 6  7  8  9 10 11 12 13 14 15 16 17 18]\n"
     ]
    }
   ],
   "source": [
    "# cerca gli elemento maggiorni di 5 e li restituisce in un array flattened (linearizzato riga per riga)\n",
    "print(arr[arr>5])    # oppure arr[np.where(arr>5)]"
   ]
  },
  {
   "cell_type": "code",
   "execution_count": 324,
   "metadata": {},
   "outputs": [
    {
     "name": "stdout",
     "output_type": "stream",
     "text": [
      "[[10 10 10 10 10 -1]\n",
      " [-1 -1 -1 -1 -1 -1]\n",
      " [-1 -1 -1 -1 -1 -1]]\n"
     ]
    }
   ],
   "source": [
    "# restituisce valori in base ad una condizione \n",
    "# np.where(condition, true_return, false_return)\n",
    "print(np.where(arr>5, -1, 10))"
   ]
  },
  {
   "cell_type": "code",
   "execution_count": 325,
   "metadata": {},
   "outputs": [
    {
     "name": "stdout",
     "output_type": "stream",
     "text": [
      "[[0 5]\n",
      " [1 0]\n",
      " [1 1]\n",
      " [1 2]\n",
      " [1 3]\n",
      " [1 4]\n",
      " [1 5]\n",
      " [2 0]\n",
      " [2 1]\n",
      " [2 2]\n",
      " [2 3]\n",
      " [2 4]\n",
      " [2 5]]\n"
     ]
    }
   ],
   "source": [
    "# restituisce gli indici degli elementi che soddisfano la condizione\n",
    "print(np.argwhere(arr>5))"
   ]
  },
  {
   "cell_type": "markdown",
   "metadata": {},
   "source": [
    "# Ordinamento di un array"
   ]
  },
  {
   "cell_type": "code",
   "execution_count": 326,
   "metadata": {},
   "outputs": [
    {
     "name": "stdout",
     "output_type": "stream",
     "text": [
      "[[ 7  1 14]\n",
      " [-3  2  0]\n",
      " [11 -2 12]]\n"
     ]
    }
   ],
   "source": [
    "arr=np.array([[7,1,14],[-3,2,0],[11,-2,12]])\n",
    "print(arr)"
   ]
  },
  {
   "cell_type": "markdown",
   "metadata": {},
   "source": [
    "### ordina gli elementi di un array lungo un asse specificato"
   ]
  },
  {
   "cell_type": "code",
   "execution_count": 327,
   "metadata": {},
   "outputs": [
    {
     "name": "stdout",
     "output_type": "stream",
     "text": [
      "[[-3 -2  0]\n",
      " [ 7  1 12]\n",
      " [11  2 14]]\n"
     ]
    }
   ],
   "source": [
    "# ordina gli elementi lungo le righe e restituisce una copia\n",
    "print(np.sort(arr, axis=0))   "
   ]
  },
  {
   "cell_type": "code",
   "execution_count": 328,
   "metadata": {},
   "outputs": [
    {
     "name": "stdout",
     "output_type": "stream",
     "text": [
      "[[-3 -2  0]\n",
      " [ 7  1 12]\n",
      " [11  2 14]]\n"
     ]
    }
   ],
   "source": [
    "# ordinamento lungo le righe in-place\n",
    "arr.sort(axis=0)\n",
    "print(arr)"
   ]
  },
  {
   "cell_type": "code",
   "execution_count": 329,
   "metadata": {},
   "outputs": [
    {
     "name": "stdout",
     "output_type": "stream",
     "text": [
      "[[-3 -2  0]\n",
      " [ 1  7 12]\n",
      " [ 2 11 14]]\n"
     ]
    }
   ],
   "source": [
    "# ordina lungo le colonne e restituisce una copia\n",
    "print(np.sort(arr, axis=1))    "
   ]
  },
  {
   "cell_type": "code",
   "execution_count": 330,
   "metadata": {},
   "outputs": [
    {
     "name": "stdout",
     "output_type": "stream",
     "text": [
      "[[-3 -2  0]\n",
      " [ 1  7 12]\n",
      " [ 2 11 14]]\n"
     ]
    }
   ],
   "source": [
    "# ordinamento lungo le colonne in place\n",
    "arr.sort(axis=1)    \n",
    "print(arr)"
   ]
  },
  {
   "cell_type": "markdown",
   "metadata": {},
   "source": [
    "### calcola gli indici che permettono l'ordinamento di  un array lungo un asse specificato"
   ]
  },
  {
   "cell_type": "code",
   "execution_count": 345,
   "metadata": {},
   "outputs": [
    {
     "name": "stdout",
     "output_type": "stream",
     "text": [
      "[[1 0]\n",
      " [0 1]]\n"
     ]
    }
   ],
   "source": [
    "# lungo le righe\n",
    "a=np.array([[12,21],[8,24]])\n",
    "print(np.argsort(a, axis=0))\n",
    "# Restituisce gli indici che ordinano l'array array in ordine crescente lungo ogni riga"
   ]
  },
  {
   "cell_type": "code",
   "execution_count": 348,
   "metadata": {},
   "outputs": [
    {
     "name": "stdout",
     "output_type": "stream",
     "text": [
      "[[0 1]\n",
      " [0 1]]\n"
     ]
    }
   ],
   "source": [
    "# lungo le colonne\n",
    "print(np.argsort(a, axis=1))\n",
    "# Restituisce gli indici che ordinano l'array array in ordine crescente lungo ogni colonna"
   ]
  },
  {
   "cell_type": "code",
   "execution_count": 344,
   "metadata": {},
   "outputs": [
    {
     "name": "stdout",
     "output_type": "stream",
     "text": [
      "[2 0 1 3]\n"
     ]
    }
   ],
   "source": [
    "# se  axis=None, restituisce gli indici di un array flattened\n",
    "print(np.argsort(a, axis=None))"
   ]
  },
  {
   "cell_type": "markdown",
   "metadata": {
    "tags": []
   },
   "source": [
    "# Manipolare un Array"
   ]
  },
  {
   "cell_type": "markdown",
   "metadata": {
    "tags": []
   },
   "source": [
    "### Copy di un array\n",
    "In Numpy una semplice assegnazione tra array  non produce una copia dell’array.\n",
    "Se definiamo un numpy array a=np.array([4,5,6,7]), l'assegnazione  b=a \n",
    "non produce una copia di a,  ma crea un riferimento all’ oggetto array([4,5,6,7]),\n",
    "b è un alias dell’oggetto array([4,5,6,7]), cioè un altro nome di variabile con cui si fa riferimento allo stesso oggetto.\n",
    "\n",
    "In questo casolo le variabili a e b  sono un riferimento allo stesso oggetto.\n",
    "Se si modifica elemento di b, la stessa modifica la subirà  a.\n"
   ]
  },
  {
   "cell_type": "code",
   "execution_count": 204,
   "metadata": {},
   "outputs": [
    {
     "name": "stdout",
     "output_type": "stream",
     "text": [
      "a= [4 5 6 7]\n"
     ]
    }
   ],
   "source": [
    "a=np.array([4,5,6,7])\n",
    "print(\"a=\",a)"
   ]
  },
  {
   "cell_type": "code",
   "execution_count": 205,
   "metadata": {},
   "outputs": [
    {
     "name": "stdout",
     "output_type": "stream",
     "text": [
      "b [4 5 6 7]\n"
     ]
    }
   ],
   "source": [
    "b=a\n",
    "print(\"b\",b)"
   ]
  },
  {
   "cell_type": "code",
   "execution_count": 206,
   "metadata": {},
   "outputs": [
    {
     "name": "stdout",
     "output_type": "stream",
     "text": [
      "b [4 5 8 7]\n"
     ]
    }
   ],
   "source": [
    "b[2]=8\n",
    "print(\"b\",b)"
   ]
  },
  {
   "cell_type": "code",
   "execution_count": 207,
   "metadata": {},
   "outputs": [
    {
     "name": "stdout",
     "output_type": "stream",
     "text": [
      "a [4 5 8 7]\n"
     ]
    }
   ],
   "source": [
    "print(\"a\",a)"
   ]
  },
  {
   "cell_type": "markdown",
   "metadata": {},
   "source": [
    "La modifica delle dimensioni del nuovo array generato per assegnazione modifica le dimensioni dell'originale.\n",
    "                  "
   ]
  },
  {
   "cell_type": "code",
   "execution_count": 208,
   "metadata": {},
   "outputs": [],
   "source": [
    "a=np.array([4,5,6,7]);\n",
    "b=a\n",
    "b.shape=2,2"
   ]
  },
  {
   "cell_type": "code",
   "execution_count": 209,
   "metadata": {},
   "outputs": [
    {
     "name": "stdout",
     "output_type": "stream",
     "text": [
      "a= [[4 5]\n",
      " [6 7]]\n"
     ]
    }
   ],
   "source": [
    "print(\"a=\",a)"
   ]
  },
  {
   "cell_type": "markdown",
   "metadata": {},
   "source": [
    "Per effettuare una copia di un numpy array si usa il .copy"
   ]
  },
  {
   "cell_type": "code",
   "execution_count": 210,
   "metadata": {},
   "outputs": [],
   "source": [
    "# Tutti i seguenti metodi creano delle copie \"profonde\"\n",
    "arr1 = np.copy(arr)\n",
    "# or \n",
    "arr1 = arr.copy()\n",
    "# or \n",
    "arr1 = np.array(arr, copy=True)"
   ]
  },
  {
   "cell_type": "markdown",
   "metadata": {},
   "source": [
    "**View**"
   ]
  },
  {
   "cell_type": "markdown",
   "metadata": {},
   "source": [
    "In NumPy, una \"view\" è un modo per creare un nuovo array che condivide lo stesso spazio di memoria dell'array originale. In altre parole, una view è un riferimento ad un array esistente, non una copia indipendente.\n",
    "una view si riflettono nell'array originale e viceversa."
   ]
  },
  {
   "cell_type": "markdown",
   "metadata": {},
   "source": [
    "**Perché utilizzare le view?**\n",
    "\n",
    "\n",
    "Le view possono essere utili per diversi motivi:\n",
    "\n",
    "*Efficienza*: Le view sono più efficienti delle copie in quanto non richiedono la duplicazione dei dati in memoria.\n",
    "\n",
    "*Condivisione dei dati*: Le view consentono di condividere facilmente i dati tra diversi array.\n",
    "\n",
    "*Modifica simultanea*: Le modifiche apportate a una view si riflettono nell'array originale e viceversa.\n",
    "\n"
   ]
  },
  {
   "cell_type": "markdown",
   "metadata": {},
   "source": [
    "**Come creare una view:**\n",
    "\n",
    "\n",
    "Esistono diversi modi per creare una view in NumPy:\n",
    "\n",
    "Slicing: È possibile utilizzare lo slicing per creare una sottovista di un array.\n",
    " \n",
    "\n",
    " "
   ]
  },
  {
   "cell_type": "code",
   "execution_count": 358,
   "metadata": {},
   "outputs": [
    {
     "name": "stdout",
     "output_type": "stream",
     "text": [
      "[2 3 4]\n"
     ]
    }
   ],
   "source": [
    "array = np.arange(10)\n",
    "b= array[2:5]\n",
    "print(b)\n"
   ]
  },
  {
   "cell_type": "markdown",
   "metadata": {},
   "source": [
    "NumPy ha il metodo  **.view ()** che genera  un vista dell’oggetto array originale. Si tratta di un nuovo oggetto array che guarda gli stessi dati dell'array originale. A differenza della semplice assegnazione, la modifica delle dimensioni del nuovo array non modifica le dimensioni dell'originale.\n",
    "\n",
    "\n"
   ]
  },
  {
   "cell_type": "code",
   "execution_count": 353,
   "metadata": {},
   "outputs": [
    {
     "name": "stdout",
     "output_type": "stream",
     "text": [
      "b= [4 5 6 7]\n"
     ]
    }
   ],
   "source": [
    " a=np.array([4,5,6,7]);\n",
    "\n",
    "b=a.view()\n",
    "print(\"b=\",b)"
   ]
  },
  {
   "cell_type": "code",
   "execution_count": 354,
   "metadata": {},
   "outputs": [
    {
     "name": "stdout",
     "output_type": "stream",
     "text": [
      "b= [[4 5]\n",
      " [6 7]]\n",
      "a= [4 5 6 7]\n"
     ]
    }
   ],
   "source": [
    "b.shape=2,2\n",
    "print(\"b=\",b)\n",
    "print(\"a=\",a)"
   ]
  },
  {
   "cell_type": "code",
   "execution_count": 356,
   "metadata": {},
   "outputs": [
    {
     "name": "stdout",
     "output_type": "stream",
     "text": [
      "a= [10 10  6  7]\n",
      "b= [[10 10]\n",
      " [ 6  7]]\n"
     ]
    }
   ],
   "source": [
    "b[0]=10\n",
    "print(\"a=\",a)\n",
    "print(\"b=\",b)\n"
   ]
  },
  {
   "cell_type": "markdown",
   "metadata": {},
   "source": [
    "diversi modi per distinguere tra una view e una copia in NumPy:"
   ]
  },
  {
   "cell_type": "markdown",
   "metadata": {},
   "source": [
    "*Attributo base:*\n",
    "\n",
    "L'attributo *.base* di un array Numpy è None per le copie e punta all'array originale per le view.w."
   ]
  },
  {
   "cell_type": "code",
   "execution_count": 359,
   "metadata": {},
   "outputs": [],
   "source": [
    "array = np.arange(10)\n",
    "copia = array.copy()\n",
    "view = array.view()"
   ]
  },
  {
   "cell_type": "code",
   "execution_count": 360,
   "metadata": {},
   "outputs": [
    {
     "name": "stdout",
     "output_type": "stream",
     "text": [
      "None\n",
      "[0 1 2 3 4 5 6 7 8 9]\n"
     ]
    }
   ],
   "source": [
    "print(copia.base)  # None\n",
    "print(view.base)  # <numpy.ndarray object at 0x7f89b001f850>"
   ]
  },
  {
   "cell_type": "markdown",
   "metadata": {},
   "source": [
    "**Funzione  np.shares_memory():**\n",
    "\n",
    "La funzione np.shares_memory() restituisce True se due array condividono lo stesso spazio di memoria e False in caso contrario."
   ]
  },
  {
   "cell_type": "code",
   "execution_count": 218,
   "metadata": {},
   "outputs": [
    {
     "name": "stdout",
     "output_type": "stream",
     "text": [
      "False\n",
      "True\n"
     ]
    }
   ],
   "source": [
    "print(np.shares_memory(array, copia))  # False\n",
    "print(np.shares_memory(array, view))  # True"
   ]
  },
  {
   "cell_type": "markdown",
   "metadata": {},
   "source": [
    "**Modifica dei dati:**\n",
    "\n",
    "Le modifiche apportate a una view si riflettono nell'array originale, mentre le modifiche apportate a una copia non hanno effetto sull'array originale."
   ]
  },
  {
   "cell_type": "code",
   "execution_count": 225,
   "metadata": {},
   "outputs": [
    {
     "name": "stdout",
     "output_type": "stream",
     "text": [
      "Stampo la vista b con la modifica in posizione 0 \n",
      " [12  3  4]\n",
      "Stampo il numpy array a di cui b è una vista \n",
      " [ 0  1 12  3  4  5]\n"
     ]
    }
   ],
   "source": [
    "a=np.arange(6)\n",
    "\n",
    "b=a[2:5]  # Il sottoarray generato mediante slicing è una `view` dell’area originale di memoria. \n",
    "\n",
    "#Lo verifico andando a modificare la componente 0-esima di b\n",
    "b[0]=12\n",
    "print(\"Stampo la vista b con la modifica in posizione 0 \\n\",b)\n",
    "#Verifico che la modifica è stata apportata alla componente 2 di a:\n",
    "print(\"Stampo il numpy array a di cui b è una vista \\n\",a)\n"
   ]
  },
  {
   "cell_type": "code",
   "execution_count": 227,
   "metadata": {},
   "outputs": [
    {
     "name": "stdout",
     "output_type": "stream",
     "text": [
      "True\n"
     ]
    }
   ],
   "source": [
    "#Lo posso verificare usando la funzione np.shares_memory(a,b)\n",
    "print(np.shares_memory(a,b))\n"
   ]
  },
  {
   "cell_type": "code",
   "execution_count": 362,
   "metadata": {},
   "outputs": [
    {
     "name": "stdout",
     "output_type": "stream",
     "text": [
      "[0 1 2 3 4 5 6 7 8 9]\n"
     ]
    }
   ],
   "source": [
    "print(b.base)  # None\n"
   ]
  },
  {
   "cell_type": "code",
   "execution_count": 364,
   "metadata": {},
   "outputs": [
    {
     "name": "stdout",
     "output_type": "stream",
     "text": [
      "None\n"
     ]
    }
   ],
   "source": [
    "b=a[2:5].copy()     #Per rendere una copia il sottoarray selezionato tramite slicing \n",
    "print(b.base)   \n",
    " "
   ]
  },
  {
   "cell_type": "markdown",
   "metadata": {
    "tags": []
   },
   "source": [
    "### Trasposizione di un array"
   ]
  },
  {
   "cell_type": "markdown",
   "metadata": {},
   "source": [
    "**Dato un array A 2D, per calcolarne il trasposto si usa A.T, che crea una vista dell'array A**"
   ]
  },
  {
   "cell_type": "code",
   "execution_count": 372,
   "metadata": {},
   "outputs": [
    {
     "name": "stdout",
     "output_type": "stream",
     "text": [
      "Shape di A (4, 1)\n",
      "[[2 1 3 4]]\n",
      "Shape di A.T (1, 4)\n"
     ]
    }
   ],
   "source": [
    "A=np.array([[2],[1],[3],[4]])  #Array 4x1\n",
    "print(\"Shape di A\",A.shape)\n",
    "B=A.T\n",
    "print(B)  #array 1x4\n",
    "print(\"Shape di A.T\",B.shape)"
   ]
  },
  {
   "cell_type": "code",
   "execution_count": 373,
   "metadata": {},
   "outputs": [
    {
     "name": "stdout",
     "output_type": "stream",
     "text": [
      "[[2]\n",
      " [1]\n",
      " [3]\n",
      " [4]]\n"
     ]
    }
   ],
   "source": [
    "print(B.base) "
   ]
  },
  {
   "cell_type": "code",
   "execution_count": 374,
   "metadata": {},
   "outputs": [
    {
     "name": "stdout",
     "output_type": "stream",
     "text": [
      "None\n"
     ]
    }
   ],
   "source": [
    "B=A.T.copy()\n",
    "print(B.base)"
   ]
  },
  {
   "cell_type": "markdown",
   "metadata": {},
   "source": [
    "### Trasformare un array 2d in un array 1d:  metodi ravel e flatten\n"
   ]
  },
  {
   "cell_type": "code",
   "execution_count": 375,
   "metadata": {},
   "outputs": [
    {
     "name": "stdout",
     "output_type": "stream",
     "text": [
      "None\n"
     ]
    }
   ],
   "source": [
    "#  Metodo flatten: restituisce una copia\n",
    "barr=np.array([[4,6,3],[7,8,9]])\n",
    "cc= barr.flatten()    \n",
    "print(cc.base)"
   ]
  },
  {
   "cell_type": "code",
   "execution_count": 376,
   "metadata": {},
   "outputs": [
    {
     "name": "stdout",
     "output_type": "stream",
     "text": [
      "[[4 6 3]\n",
      " [7 8 9]]\n"
     ]
    }
   ],
   "source": [
    "# Metodo ravel: restituisce una view\n",
    "c= barr.ravel()   \n",
    "print(c.base)"
   ]
  },
  {
   "cell_type": "markdown",
   "metadata": {},
   "source": [
    "### Come appendere elementi ad un array"
   ]
  },
  {
   "cell_type": "code",
   "execution_count": 137,
   "metadata": {},
   "outputs": [],
   "source": [
    "arr = np.array([1,2,3])"
   ]
  },
  {
   "cell_type": "code",
   "execution_count": 1,
   "metadata": {
    "tags": []
   },
   "outputs": [
    {
     "ename": "NameError",
     "evalue": "name 'np' is not defined",
     "output_type": "error",
     "traceback": [
      "\u001b[1;31m---------------------------------------------------------------------------\u001b[0m",
      "\u001b[1;31mNameError\u001b[0m                                 Traceback (most recent call last)",
      "Cell \u001b[1;32mIn[1], line 2\u001b[0m\n\u001b[0;32m      1\u001b[0m \u001b[38;5;66;03m# Come appendere uno scalare e restituire una copia\u001b[39;00m\n\u001b[1;32m----> 2\u001b[0m arr1 \u001b[38;5;241m=\u001b[39m np\u001b[38;5;241m.\u001b[39mappend(arr, \u001b[38;5;241m4\u001b[39m)    \n\u001b[0;32m      3\u001b[0m \u001b[38;5;28mprint\u001b[39m(arr1)\n",
      "\u001b[1;31mNameError\u001b[0m: name 'np' is not defined"
     ]
    }
   ],
   "source": [
    "# Come appendere uno scalare e restituire una copia\n",
    "arr1 = np.append(arr, 4)    \n",
    "print(arr1)"
   ]
  },
  {
   "cell_type": "code",
   "execution_count": 139,
   "metadata": {},
   "outputs": [
    {
     "name": "stdout",
     "output_type": "stream",
     "text": [
      "[1 2 3 4 5 6]\n"
     ]
    }
   ],
   "source": [
    "# Come appendere un array e restituire una copia\n",
    "arr2 = np.append(arr, [4,5,6])    \n",
    "print(arr2)"
   ]
  },
  {
   "cell_type": "markdown",
   "metadata": {},
   "source": [
    "### Come inserire elementi in un array"
   ]
  },
  {
   "cell_type": "code",
   "execution_count": 379,
   "metadata": {},
   "outputs": [
    {
     "name": "stdout",
     "output_type": "stream",
     "text": [
      "[100   1   2   3]\n"
     ]
    }
   ],
   "source": [
    "# np.insert(array, position, element)\n",
    "\n",
    "# come inserire uno scalare in una certa posizione\n",
    "arr = np.array([1,2,3])\n",
    "arr3 = np.insert(arr, 0, 100)    \n",
    "print(arr3)"
   ]
  },
  {
   "cell_type": "code",
   "execution_count": 141,
   "metadata": {},
   "outputs": [
    {
     "name": "stdout",
     "output_type": "stream",
     "text": [
      "[1 2 3 1 2 3]\n"
     ]
    }
   ],
   "source": [
    "# come inserire più di un valore in una certa posizione\n",
    "arr3 = np.insert(arr, 0, [1,2,3])    \n",
    "print(arr3)"
   ]
  },
  {
   "cell_type": "markdown",
   "metadata": {},
   "source": [
    "### come eliminare elementi da un array"
   ]
  },
  {
   "cell_type": "code",
   "execution_count": 142,
   "metadata": {},
   "outputs": [
    {
     "name": "stdout",
     "output_type": "stream",
     "text": [
      "[2 3]\n"
     ]
    }
   ],
   "source": [
    "# rimuovi l'elemento in posizione 0\n",
    "arr4 = np.delete(arr, 0)    \n",
    "print(arr4)"
   ]
  },
  {
   "cell_type": "code",
   "execution_count": 143,
   "metadata": {},
   "outputs": [
    {
     "name": "stdout",
     "output_type": "stream",
     "text": [
      "[1 2 3]\n",
      "[2]\n"
     ]
    }
   ],
   "source": [
    "# rimuovi più elementi nelle posizioni specificate\n",
    "print(arr)\n",
    "arr4 = np.delete(arr, [0,2])    \n",
    "print(arr4)"
   ]
  },
  {
   "cell_type": "markdown",
   "metadata": {
    "tags": []
   },
   "source": [
    "### Come cambiare la shape di un array"
   ]
  },
  {
   "cell_type": "code",
   "execution_count": 382,
   "metadata": {
    "tags": []
   },
   "outputs": [
    {
     "name": "stdout",
     "output_type": "stream",
     "text": [
      "b  [[ 0  1  2  3  4  5]\n",
      " [ 6  7  8  9 10 11]]\n",
      "Si tratta di una vista [ 0  1  2  3  4  5  6  7  8  9 10 11]\n"
     ]
    }
   ],
   "source": [
    "# Reshape crea una vista dell'array\n",
    "arr=np.arange(12)\n",
    "b=arr.reshape((2,6))\n",
    "print(\"b \",b)\n",
    "print(\"Si tratta di una vista\",b.base)"
   ]
  },
  {
   "cell_type": "markdown",
   "metadata": {},
   "source": [
    "Per ovviare al problema usare .copy"
   ]
  },
  {
   "cell_type": "code",
   "execution_count": 384,
   "metadata": {},
   "outputs": [
    {
     "name": "stdout",
     "output_type": "stream",
     "text": [
      "Si tratta di una copia  None\n"
     ]
    }
   ],
   "source": [
    "b= arr.reshape(2,6).copy()\n",
    "print(\"Si tratta di una copia \",b.base)"
   ]
  },
  {
   "cell_type": "code",
   "execution_count": 386,
   "metadata": {},
   "outputs": [
    {
     "name": "stdout",
     "output_type": "stream",
     "text": [
      "arr2= [[ 0  1  2  3  4  5  6]\n",
      " [ 7  8  9 10 11 12 13]]\n",
      "None\n"
     ]
    }
   ],
   "source": [
    "# .resize cambia la shape di un array in-place \n",
    "arr2=np.arange(14)\n",
    "arr2.resize((2,7))\n",
    "print(\"arr2=\",arr2)\n",
    "print(arr2.base)"
   ]
  },
  {
   "cell_type": "code",
   "execution_count": 400,
   "metadata": {},
   "outputs": [
    {
     "name": "stdout",
     "output_type": "stream",
     "text": [
      "arr2= [[ 0  1  2  3  4  5  6]\n",
      " [ 7  8  9 10 11 12 13]\n",
      " [ 0  0  0  0  0  0  0]]\n",
      "None\n"
     ]
    }
   ],
   "source": [
    "# .resize cambia la shape di un array in-place\n",
    "arr2=np.arange(14)\n",
    "arr2.resize((3,7))\n",
    "print(\"arr2=\",arr2)\n",
    "print(arr2.base)"
   ]
  },
  {
   "cell_type": "markdown",
   "metadata": {},
   "source": [
    "# Combinare e splittare array"
   ]
  },
  {
   "cell_type": "code",
   "execution_count": null,
   "metadata": {},
   "outputs": [],
   "source": []
  },
  {
   "cell_type": "code",
   "execution_count": 153,
   "metadata": {},
   "outputs": [],
   "source": [
    "arr1 = np.array([[1,2,3,4], [1,2,3,4]])\n",
    "arr2 = np.array([[5,6,7,8], [5,6,7,8]])"
   ]
  },
  {
   "cell_type": "markdown",
   "metadata": {},
   "source": [
    "### ```np.concatenate((a, b), axis=0)```"
   ]
  },
  {
   "cell_type": "code",
   "execution_count": 154,
   "metadata": {},
   "outputs": [
    {
     "name": "stdout",
     "output_type": "stream",
     "text": [
      "[[1 2 3 4]\n",
      " [1 2 3 4]\n",
      " [5 6 7 8]\n",
      " [5 6 7 8]]\n"
     ]
    }
   ],
   "source": [
    "# concatena lungo le righe\n",
    "cat = np.concatenate((arr1, arr2), axis=0)        \n",
    "print(cat)"
   ]
  },
  {
   "cell_type": "code",
   "execution_count": 155,
   "metadata": {},
   "outputs": [
    {
     "name": "stdout",
     "output_type": "stream",
     "text": [
      "[[1 2 3 4 5 6 7 8]\n",
      " [1 2 3 4 5 6 7 8]]\n"
     ]
    }
   ],
   "source": [
    "# concatena lungo le colonne\n",
    "cat = np.concatenate((arr1, arr2), axis=1)    \n",
    "print(cat)"
   ]
  },
  {
   "cell_type": "markdown",
   "metadata": {},
   "source": [
    "### ```np.vstack((a, b))``` \n",
    "### ```np.r_[a, b]```"
   ]
  },
  {
   "cell_type": "code",
   "execution_count": 156,
   "metadata": {},
   "outputs": [
    {
     "name": "stdout",
     "output_type": "stream",
     "text": [
      "[[1 2 3 4]\n",
      " [1 2 3 4]\n",
      " [5 6 7 8]\n",
      " [5 6 7 8]]\n"
     ]
    }
   ],
   "source": [
    "# stack arrays verticalmente\n",
    "cat = np.vstack((arr1, arr2))\n",
    "print(cat)"
   ]
  },
  {
   "cell_type": "code",
   "execution_count": 157,
   "metadata": {},
   "outputs": [
    {
     "name": "stdout",
     "output_type": "stream",
     "text": [
      "[[1 2 3 4]\n",
      " [1 2 3 4]\n",
      " [5 6 7 8]\n",
      " [5 6 7 8]]\n"
     ]
    }
   ],
   "source": [
    "# stack arrays verticalmente\n",
    "cat = np.r_[arr1, arr2]\n",
    "print(cat)"
   ]
  },
  {
   "cell_type": "markdown",
   "metadata": {
    "tags": []
   },
   "source": [
    "### ```np.hstack((a, b))```\n",
    "### ```np.c_[a, b]```"
   ]
  },
  {
   "cell_type": "code",
   "execution_count": 158,
   "metadata": {},
   "outputs": [
    {
     "name": "stdout",
     "output_type": "stream",
     "text": [
      "[[1 2 3 4 5 6 7 8]\n",
      " [1 2 3 4 5 6 7 8]]\n"
     ]
    }
   ],
   "source": [
    "# stack arrays orizzontalmente\n",
    "cat = np.hstack((arr1, arr2))\n",
    "print(cat)"
   ]
  },
  {
   "cell_type": "code",
   "execution_count": 159,
   "metadata": {},
   "outputs": [
    {
     "name": "stdout",
     "output_type": "stream",
     "text": [
      "[[1 2 3 4 5 6 7 8]\n",
      " [1 2 3 4 5 6 7 8]]\n"
     ]
    }
   ],
   "source": [
    "# stack arrays orizzontalmente\n",
    "cat = np.c_[arr1, arr2]\n",
    "print(cat)"
   ]
  },
  {
   "cell_type": "markdown",
   "metadata": {},
   "source": [
    "### Aumentare la dimensionalità di un array\n",
    "La dimensionalità di un array può essere aumentata usando la costante ```newaxis``` di Numpy  nella notazione delle parentesi: "
   ]
  },
  {
   "cell_type": "code",
   "execution_count": 409,
   "metadata": {},
   "outputs": [
    {
     "data": {
      "text/plain": [
       "(1, 4)"
      ]
     },
     "execution_count": 409,
     "metadata": {},
     "output_type": "execute_result"
    }
   ],
   "source": [
    "a=np.array([4,3,7,8])\n",
    "a.shape\n",
    " \n",
    "a=a[np.newaxis,:]\n",
    "\n",
    "a.shape\n"
   ]
  },
  {
   "cell_type": "markdown",
   "metadata": {},
   "source": [
    "Oppure usando .reshape(n,1)"
   ]
  },
  {
   "cell_type": "code",
   "execution_count": 421,
   "metadata": {},
   "outputs": [
    {
     "name": "stdout",
     "output_type": "stream",
     "text": [
      "[4 3 7 8]\n"
     ]
    }
   ],
   "source": [
    "a=np.array([4,3,7,8])\n",
    "b=a.reshape(4,1) #crea una vista\n",
    "print (a)\n",
    "b=a.reshape(4,1).copy() #crea una copia\n",
    " "
   ]
  },
  {
   "cell_type": "markdown",
   "metadata": {},
   "source": [
    "# Altre operazioni su array"
   ]
  },
  {
   "cell_type": "markdown",
   "metadata": {},
   "source": [
    "### Selezionare gli elementi unici di un array"
   ]
  },
  {
   "cell_type": "code",
   "execution_count": 162,
   "metadata": {},
   "outputs": [
    {
     "name": "stdout",
     "output_type": "stream",
     "text": [
      "[1 2 3 4 5 6]\n"
     ]
    }
   ],
   "source": [
    "arr = np.array([1,1,2,2,3,3,4,5,6])\n",
    "print(np.unique(arr))"
   ]
  },
  {
   "cell_type": "code",
   "execution_count": 163,
   "metadata": {},
   "outputs": [
    {
     "name": "stdout",
     "output_type": "stream",
     "text": [
      "[1 2 3 4 5 6]\n",
      "[2 2 2 1 1 1]\n"
     ]
    }
   ],
   "source": [
    "# restituisce il numero di volte che ogni elemento unico appare nell'array\n",
    "arr = np.array([1,1,2,2,3,3,4,5,6])\n",
    "uniques, counts = np.unique(arr, return_counts=True)\n",
    "print(uniques)\n",
    "print(counts)"
   ]
  },
  {
   "cell_type": "markdown",
   "metadata": {},
   "source": [
    "# Algebra Lineare"
   ]
  },
  {
   "cell_type": "code",
   "execution_count": 423,
   "metadata": {},
   "outputs": [],
   "source": [
    "arr1 = np.arange(16).reshape((4,4))\n",
    "arr2 = np.arange(8).reshape((4,2))"
   ]
  },
  {
   "cell_type": "markdown",
   "metadata": {},
   "source": [
    "### Moltiplicazione tra matrici"
   ]
  },
  {
   "cell_type": "code",
   "execution_count": 424,
   "metadata": {},
   "outputs": [
    {
     "name": "stdout",
     "output_type": "stream",
     "text": [
      "[[ 28  34]\n",
      " [ 76  98]\n",
      " [124 162]\n",
      " [172 226]]\n",
      "[[ 28  34]\n",
      " [ 76  98]\n",
      " [124 162]\n",
      " [172 226]]\n",
      "[[ 28  34]\n",
      " [ 76  98]\n",
      " [124 162]\n",
      " [172 226]]\n"
     ]
    }
   ],
   "source": [
    "print(arr1.dot(arr2))\n",
    "# oppure\n",
    "print(np.dot(arr1, arr2))\n",
    "# oppure\n",
    "print(arr1 @ arr2)"
   ]
  },
  {
   "cell_type": "markdown",
   "metadata": {},
   "source": [
    "Prodotto scalare tra vettori"
   ]
  },
  {
   "cell_type": "code",
   "execution_count": 425,
   "metadata": {},
   "outputs": [
    {
     "name": "stdout",
     "output_type": "stream",
     "text": [
      "c= 48\n"
     ]
    }
   ],
   "source": [
    "a=np.array([7,8,9])\n",
    "b=np.array([2,2,2])\n",
    "c=np.dot(a,b)\n",
    "print(\"c=\",c)"
   ]
  }
 ],
 "metadata": {
  "kernelspec": {
   "display_name": "Python 3 (ipykernel)",
   "language": "python",
   "name": "python3"
  },
  "language_info": {
   "codemirror_mode": {
    "name": "ipython",
    "version": 3
   },
   "file_extension": ".py",
   "mimetype": "text/x-python",
   "name": "python",
   "nbconvert_exporter": "python",
   "pygments_lexer": "ipython3",
   "version": "3.11.3"
  }
 },
 "nbformat": 4,
 "nbformat_minor": 4
}
