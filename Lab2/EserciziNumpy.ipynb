{
 "cells": [
  {
   "cell_type": "markdown",
   "id": "cb8d7ec5-c308-4c91-8bbf-adad4c51b57f",
   "metadata": {},
   "source": [
    "# Esercizio 1"
   ]
  },
  {
   "cell_type": "markdown",
   "id": "b7c7f021-757d-4cd3-bba5-57ca8bfd4077",
   "metadata": {},
   "source": [
    "Definire i  numpy array a=[1.2, 5.4, 6, 1.59] e b=[5.2, 1.2, 1.5, 2] ed eseguire le seguenti operazioni:\n",
    "  - calcolare la radice quadrata degli elementi di a;\n",
    "   - calcolare 𝑒xp(𝑎/2) ;\n",
    "   - calcolare il vettore somma tra a e b ;\n",
    "   - moltiplicare ogni elemento di a per il corrispondente elemento di b;\n",
    "   - creare un vettore di valori uniformemente equispaziati tra 0 e 30 con passo  0.5;\n",
    "   - creare un vettore di 100 valori uniformemente equispaziati tra 1 e 2.\n",
    "   - usare linspace() per creare un numpy array 2x6 con prima riga di 6 valori uniformi compresi tra 10 e 20 e seconda riga 6 valori     \n",
    "      uniformi compresi tra  20 e 10;\n",
    "   - calcolare il prodotto scalare tra a e b;\n",
    "   - creare la matrice A che ha come righe i vettori a e b ;\n",
    "   - calcolare il prodotto scalare tra i due vettori a e b;\n",
    "   - eseguire il prodotto della matrice A per il vettore b e assegnarlo ad y;\n",
    "   - costruire una matrice diagonale D a partire dal vettore a;"
   ]
  },
  {
   "cell_type": "code",
   "execution_count": 2,
   "id": "580a759a-99b4-4935-8f68-42d2f1e7b526",
   "metadata": {
    "tags": []
   },
   "outputs": [
    {
     "name": "stdout",
     "output_type": "stream",
     "text": [
      "radice quad: [1.09544512 2.32379001 2.44948974 1.26095202]\n",
      "exp(a/2): [ 1.8221188  14.87973172 20.08553692  2.214441  ]\n",
      "sum: [6.4  6.6  7.5  3.59]\n",
      "moltiplication: [6.24 6.48 9.   3.18]\n",
      "30 passo 0.5:\n",
      " [ 0.   0.5  1.   1.5  2.   2.5  3.   3.5  4.   4.5  5.   5.5  6.   6.5\n",
      "  7.   7.5  8.   8.5  9.   9.5 10.  10.5 11.  11.5 12.  12.5 13.  13.5\n",
      " 14.  14.5 15.  15.5 16.  16.5 17.  17.5 18.  18.5 19.  19.5 20.  20.5\n",
      " 21.  21.5 22.  22.5 23.  23.5 24.  24.5 25.  25.5 26.  26.5 27.  27.5\n",
      " 28.  28.5 29.  29.5]\n",
      "1 e 2 100 numeri:\n",
      " [1.]\n",
      "10-20 e 20-10:\n",
      " [[10. 12. 14. 16. 18. 20.]\n",
      " [20. 18. 16. 14. 12. 10.]]\n",
      "prodotto scalare: 24.9\n",
      "matrice righe a e b:\n",
      " [[1.2  5.4  6.   1.59]\n",
      " [5.2  1.2  1.5  2.  ]]\n",
      "prodotto scalare tra vettori: 24.9\n",
      "prodotto della matrice A per il vettore b:\n",
      " [24.9  34.73]\n",
      "matrice diagonale a partire da a:\n",
      " [[1.2  0.   0.   0.  ]\n",
      " [0.   5.4  0.   0.  ]\n",
      " [0.   0.   6.   0.  ]\n",
      " [0.   0.   0.   1.59]]\n"
     ]
    }
   ],
   "source": [
    "import math\n",
    "import numpy as np\n",
    "a = np.array([1.2, 5.4, 6, 1.59])\n",
    "b = np.array([5.2, 1.2, 1.5, 2])\n",
    "\n",
    "print('radice quad:', np.sqrt(a))\n",
    "print('exp(a/2):', np.exp(a / 2))\n",
    "print('sum:', a+b)\n",
    "print('moltiplication:', a*b)\n",
    "print('30 passo 0.5:\\n', np.arange(0, 30, 0.5, dtype = float))\n",
    "print('1 e 2 100 numeri:\\n',np.linspace(1, 2, 1)) #99\n",
    "print('10-20 e 20-10:\\n', np.array([np.linspace(10, 20, 6), np.linspace(20, 10, 6)]))\n",
    "print('prodotto scalare:', np.sum(a * b))\n",
    "A=np.array([a, b])\n",
    "print('matrice righe a e b:\\n', A)\n",
    "print('prodotto scalare tra vettori:', np.dot(a,b))\n",
    "print('prodotto della matrice A per il vettore b:\\n', np.dot(A, b))\n",
    "print('matrice diagonale a partire da a:\\n', np.diag(a))"
   ]
  },
  {
   "cell_type": "markdown",
   "id": "70b6acab-85c5-4783-84e0-999ca8e68bf3",
   "metadata": {},
   "source": [
    "# Esercizio 2"
   ]
  },
  {
   "cell_type": "markdown",
   "id": "31345015-b8ec-4ea0-aaac-598630474855",
   "metadata": {},
   "source": [
    "Costruire  i seguenti Numpy array 2d utilizzando il minor numero di istruzioni possibili"
   ]
  },
  {
   "cell_type": "markdown",
   "id": "ccf86356-d50a-493c-a870-54c5cc1480eb",
   "metadata": {},
   "source": [
    "<img src=\"ese2.png\" width=\"500\">"
   ]
  },
  {
   "cell_type": "code",
   "execution_count": 3,
   "id": "92122fda-4e15-4f16-bdce-921fda289bf5",
   "metadata": {
    "tags": []
   },
   "outputs": [
    {
     "name": "stdout",
     "output_type": "stream",
     "text": [
      "[[2 2 2 3]\n",
      " [2 2 2 3]\n",
      " [2 2 2 3]] \n",
      "\n",
      "[[ 2  0  0  1  2  3  4  5  6  7  8  9 10]\n",
      " [ 0  2  0  1  2  3  4  5  6  7  8  9 10]\n",
      " [ 0  0  2  1  2  3  4  5  6  7  8  9 10]] \n",
      "\n",
      "[[ 2 -1  0  0  0]\n",
      " [-1  2 -1  0  0]\n",
      " [ 0 -1  2 -1  0]\n",
      " [ 0  0 -1  2 -1]\n",
      " [ 0  0  0 -1  2]] \n",
      "\n",
      "[[2. 2. 3. 3.]\n",
      " [2. 2. 3. 3.]\n",
      " [0. 0. 0. 0.]\n",
      " [0. 0. 0. 0.]\n",
      " [0. 0. 5. 0.]\n",
      " [0. 0. 0. 5.]]\n"
     ]
    }
   ],
   "source": [
    "#Matrice A\n",
    "print(np.concatenate((np.full((3,3),2), np.full((3,1), 3)), axis=1),'\\n')\n",
    "#Matrice B\n",
    "print(np.concatenate((np.diag((2, 2, 2)), np.tile(np.arange(1, 11), (3,1))), axis=1), '\\n')\n",
    "#Matrice C\n",
    "print(np.diag([2]*5) + np.diag(([-1]*4), k=1) + np.diag(([-1]*4), k=-1), '\\n')\n",
    "#Matrice D\n",
    "print(np.concatenate((np.concatenate((np.concatenate((np.full((2,2),2), np.full((2,2),3)), axis=1), np.zeros((2,4))), axis=0), np.concatenate((np.zeros((2,2)), np.diag((5,5))), axis=1)), axis=0))"
   ]
  },
  {
   "cell_type": "markdown",
   "id": "10a6c66f-2a62-4697-ab7a-b897fb66bcc9",
   "metadata": {},
   "source": [
    "# Esercizio 3"
   ]
  },
  {
   "cell_type": "markdown",
   "id": "8354e8db-9393-41b5-92bf-7dbd9174a20c",
   "metadata": {},
   "source": [
    "Calcolare la somma dei primi n numeri naturali dispari sia utilizzando un ciclo for che servendosi dell'istruzione sum di numpy."
   ]
  },
  {
   "cell_type": "code",
   "execution_count": 3,
   "id": "e0595495-364a-4659-bc69-d15e93647563",
   "metadata": {
    "tags": []
   },
   "outputs": [
    {
     "name": "stdin",
     "output_type": "stream",
     "text": [
      "scegli i primi n:  0\n"
     ]
    },
    {
     "name": "stdout",
     "output_type": "stream",
     "text": [
      "0\n"
     ]
    }
   ],
   "source": []
  },
  {
   "cell_type": "markdown",
   "id": "76da5e04-e555-4fee-bfd8-2df68d8996c9",
   "metadata": {},
   "source": [
    "# Esercizo 4"
   ]
  },
  {
   "cell_type": "markdown",
   "id": "5ecf31dd-d88c-46f8-b1b4-2e3b5988694e",
   "metadata": {},
   "source": [
    "Scrivere una function Python per generare l'n-esimo termine (n > 2) della successione\n",
    "di Fibonacci. Scrivere poi una function ricorsiva che risolva lo stesso problema\n",
    "e confrontare i tempi di calcolo delle due functions per n = 24."
   ]
  },
  {
   "cell_type": "markdown",
   "id": "35f3a2c2-b450-457d-9c71-5e81d0f6ea1f",
   "metadata": {},
   "source": [
    "Ricordiamo la formula per generare i i numeri di Fibonacci:\n",
    "\n",
    "$$F_0=1$$\n",
    "$$F_1=1$$\n",
    "$$F_n = F_{n-1} + F_{n-2}, \\quad n=2,...$$"
   ]
  },
  {
   "cell_type": "code",
   "execution_count": 45,
   "id": "4a392cc9-7622-4454-b051-be4bfa3f15b6",
   "metadata": {},
   "outputs": [
    {
     "name": "stdin",
     "output_type": "stream",
     "text": [
      "numero: 24\n"
     ]
    },
    {
     "name": "stdout",
     "output_type": "stream",
     "text": [
      "28657\n"
     ]
    },
    {
     "name": "stdin",
     "output_type": "stream",
     "text": [
      "numero: 24\n"
     ]
    },
    {
     "name": "stdout",
     "output_type": "stream",
     "text": [
      "5\n"
     ]
    }
   ],
   "source": [
    "def fiboIter():\n",
    "    n=int(input('numero:'))\n",
    "    a, b = 0, 1\n",
    "    for i in range(n-1):\n",
    "        temp = a\n",
    "        a = b\n",
    "        b = temp + b\n",
    "    return a\n",
    "\n",
    "print(fiboIter())\n",
    "\n",
    "def fiboRec(n):\n",
    "    if n <= 0:\n",
    "        return \"n > 0\"\n",
    "    elif n == 1:\n",
    "        return 0\n",
    "    elif n == 2:\n",
    "        return 1\n",
    "    else:\n",
    "        return fiboRec(n-1) + fiboRec(n-2)\n",
    "'''non so fare'''\n",
    "n=int(input('numero:'))\n",
    "print(fiboRec(num))"
   ]
  },
  {
   "cell_type": "code",
   "execution_count": null,
   "id": "6d4b264d-e8a6-4402-81fb-10fdfbdfb897",
   "metadata": {},
   "outputs": [],
   "source": []
  }
 ],
 "metadata": {
  "kernelspec": {
   "display_name": "Python 3 (ipykernel)",
   "language": "python",
   "name": "python3"
  },
  "language_info": {
   "codemirror_mode": {
    "name": "ipython",
    "version": 3
   },
   "file_extension": ".py",
   "mimetype": "text/x-python",
   "name": "python",
   "nbconvert_exporter": "python",
   "pygments_lexer": "ipython3",
   "version": "3.11.3"
  }
 },
 "nbformat": 4,
 "nbformat_minor": 5
}
